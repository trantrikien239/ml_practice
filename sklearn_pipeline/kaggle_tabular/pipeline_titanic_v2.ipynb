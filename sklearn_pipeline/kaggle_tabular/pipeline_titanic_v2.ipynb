{
 "cells": [
  {
   "cell_type": "code",
   "execution_count": 246,
   "metadata": {},
   "outputs": [],
   "source": [
    "import numpy as np\n",
    "import pandas as pd\n",
    "from numpy import interp\n",
    "from matplotlib import pyplot as plt"
   ]
  },
  {
   "cell_type": "code",
   "execution_count": 247,
   "metadata": {},
   "outputs": [],
   "source": [
    "pd.set_option(\"display.max_columns\", None)"
   ]
  },
  {
   "cell_type": "code",
   "execution_count": 248,
   "metadata": {},
   "outputs": [],
   "source": [
    "from sklearn.compose import ColumnTransformer, make_column_selector\n",
    "\n",
    "from sklearn.preprocessing import StandardScaler, FunctionTransformer, PolynomialFeatures\n",
    "\n",
    "from sklearn.pipeline import Pipeline\n",
    "from sklearn.pipeline import FeatureUnion"
   ]
  },
  {
   "cell_type": "code",
   "execution_count": 249,
   "metadata": {},
   "outputs": [],
   "source": [
    "from sklearn.metrics import plot_confusion_matrix, roc_auc_score,  auc, \\\n",
    "    precision_recall_fscore_support, classification_report, roc_curve, plot_roc_curve"
   ]
  },
  {
   "cell_type": "code",
   "execution_count": 250,
   "metadata": {},
   "outputs": [],
   "source": [
    "from sklearn import set_config\n",
    "set_config(display='diagram')   "
   ]
  },
  {
   "cell_type": "code",
   "execution_count": 251,
   "metadata": {},
   "outputs": [],
   "source": [
    "from catboost import CatBoostClassifier"
   ]
  },
  {
   "cell_type": "code",
   "execution_count": 252,
   "metadata": {},
   "outputs": [],
   "source": [
    "\n",
    "from itertools import cycle\n",
    "from time import time"
   ]
  },
  {
   "cell_type": "code",
   "execution_count": 253,
   "metadata": {},
   "outputs": [],
   "source": [
    "from lightgbm import LGBMClassifier"
   ]
  },
  {
   "cell_type": "markdown",
   "metadata": {},
   "source": [
    "# Import data"
   ]
  },
  {
   "cell_type": "code",
   "execution_count": 254,
   "metadata": {},
   "outputs": [],
   "source": [
    "df_train = pd.read_csv('../input/tabular-playground-series-apr-2021/train.csv')"
   ]
  },
  {
   "cell_type": "code",
   "execution_count": 255,
   "metadata": {},
   "outputs": [],
   "source": [
    "df_test = pd.read_csv('../input/tabular-playground-series-apr-2021/test.csv')"
   ]
  },
  {
   "cell_type": "code",
   "execution_count": 256,
   "metadata": {},
   "outputs": [],
   "source": [
    "sample_sub = pd.read_csv('../input/tabular-playground-series-apr-2021/sample_submission.csv')"
   ]
  },
  {
   "cell_type": "code",
   "execution_count": 257,
   "metadata": {},
   "outputs": [
    {
     "data": {
      "text/html": [
       "<div>\n",
       "<style scoped>\n",
       "    .dataframe tbody tr th:only-of-type {\n",
       "        vertical-align: middle;\n",
       "    }\n",
       "\n",
       "    .dataframe tbody tr th {\n",
       "        vertical-align: top;\n",
       "    }\n",
       "\n",
       "    .dataframe thead th {\n",
       "        text-align: right;\n",
       "    }\n",
       "</style>\n",
       "<table border=\"1\" class=\"dataframe\">\n",
       "  <thead>\n",
       "    <tr style=\"text-align: right;\">\n",
       "      <th></th>\n",
       "      <th>PassengerId</th>\n",
       "      <th>Survived</th>\n",
       "      <th>Pclass</th>\n",
       "      <th>Name</th>\n",
       "      <th>Sex</th>\n",
       "      <th>Age</th>\n",
       "      <th>SibSp</th>\n",
       "      <th>Parch</th>\n",
       "      <th>Ticket</th>\n",
       "      <th>Fare</th>\n",
       "      <th>Cabin</th>\n",
       "      <th>Embarked</th>\n",
       "    </tr>\n",
       "  </thead>\n",
       "  <tbody>\n",
       "    <tr>\n",
       "      <th>0</th>\n",
       "      <td>0</td>\n",
       "      <td>1</td>\n",
       "      <td>1</td>\n",
       "      <td>Oconnor, Frankie</td>\n",
       "      <td>male</td>\n",
       "      <td>NaN</td>\n",
       "      <td>2</td>\n",
       "      <td>0</td>\n",
       "      <td>209245</td>\n",
       "      <td>27.14</td>\n",
       "      <td>C12239</td>\n",
       "      <td>S</td>\n",
       "    </tr>\n",
       "    <tr>\n",
       "      <th>1</th>\n",
       "      <td>1</td>\n",
       "      <td>0</td>\n",
       "      <td>3</td>\n",
       "      <td>Bryan, Drew</td>\n",
       "      <td>male</td>\n",
       "      <td>NaN</td>\n",
       "      <td>0</td>\n",
       "      <td>0</td>\n",
       "      <td>27323</td>\n",
       "      <td>13.35</td>\n",
       "      <td>NaN</td>\n",
       "      <td>S</td>\n",
       "    </tr>\n",
       "    <tr>\n",
       "      <th>2</th>\n",
       "      <td>2</td>\n",
       "      <td>0</td>\n",
       "      <td>3</td>\n",
       "      <td>Owens, Kenneth</td>\n",
       "      <td>male</td>\n",
       "      <td>0.33</td>\n",
       "      <td>1</td>\n",
       "      <td>2</td>\n",
       "      <td>CA 457703</td>\n",
       "      <td>71.29</td>\n",
       "      <td>NaN</td>\n",
       "      <td>S</td>\n",
       "    </tr>\n",
       "    <tr>\n",
       "      <th>3</th>\n",
       "      <td>3</td>\n",
       "      <td>0</td>\n",
       "      <td>3</td>\n",
       "      <td>Kramer, James</td>\n",
       "      <td>male</td>\n",
       "      <td>19.00</td>\n",
       "      <td>0</td>\n",
       "      <td>0</td>\n",
       "      <td>A. 10866</td>\n",
       "      <td>13.04</td>\n",
       "      <td>NaN</td>\n",
       "      <td>S</td>\n",
       "    </tr>\n",
       "    <tr>\n",
       "      <th>4</th>\n",
       "      <td>4</td>\n",
       "      <td>1</td>\n",
       "      <td>3</td>\n",
       "      <td>Bond, Michael</td>\n",
       "      <td>male</td>\n",
       "      <td>25.00</td>\n",
       "      <td>0</td>\n",
       "      <td>0</td>\n",
       "      <td>427635</td>\n",
       "      <td>7.76</td>\n",
       "      <td>NaN</td>\n",
       "      <td>S</td>\n",
       "    </tr>\n",
       "    <tr>\n",
       "      <th>...</th>\n",
       "      <td>...</td>\n",
       "      <td>...</td>\n",
       "      <td>...</td>\n",
       "      <td>...</td>\n",
       "      <td>...</td>\n",
       "      <td>...</td>\n",
       "      <td>...</td>\n",
       "      <td>...</td>\n",
       "      <td>...</td>\n",
       "      <td>...</td>\n",
       "      <td>...</td>\n",
       "      <td>...</td>\n",
       "    </tr>\n",
       "    <tr>\n",
       "      <th>99995</th>\n",
       "      <td>99995</td>\n",
       "      <td>1</td>\n",
       "      <td>2</td>\n",
       "      <td>Bell, Adele</td>\n",
       "      <td>female</td>\n",
       "      <td>62.00</td>\n",
       "      <td>0</td>\n",
       "      <td>0</td>\n",
       "      <td>PC 15008</td>\n",
       "      <td>14.86</td>\n",
       "      <td>D17243</td>\n",
       "      <td>C</td>\n",
       "    </tr>\n",
       "    <tr>\n",
       "      <th>99996</th>\n",
       "      <td>99996</td>\n",
       "      <td>0</td>\n",
       "      <td>2</td>\n",
       "      <td>Brown, Herman</td>\n",
       "      <td>male</td>\n",
       "      <td>66.00</td>\n",
       "      <td>0</td>\n",
       "      <td>0</td>\n",
       "      <td>13273</td>\n",
       "      <td>11.15</td>\n",
       "      <td>NaN</td>\n",
       "      <td>S</td>\n",
       "    </tr>\n",
       "    <tr>\n",
       "      <th>99997</th>\n",
       "      <td>99997</td>\n",
       "      <td>0</td>\n",
       "      <td>3</td>\n",
       "      <td>Childress, Charles</td>\n",
       "      <td>male</td>\n",
       "      <td>37.00</td>\n",
       "      <td>0</td>\n",
       "      <td>0</td>\n",
       "      <td>NaN</td>\n",
       "      <td>9.95</td>\n",
       "      <td>NaN</td>\n",
       "      <td>S</td>\n",
       "    </tr>\n",
       "    <tr>\n",
       "      <th>99998</th>\n",
       "      <td>99998</td>\n",
       "      <td>0</td>\n",
       "      <td>3</td>\n",
       "      <td>Caughlin, Thomas</td>\n",
       "      <td>male</td>\n",
       "      <td>51.00</td>\n",
       "      <td>0</td>\n",
       "      <td>1</td>\n",
       "      <td>458654</td>\n",
       "      <td>30.92</td>\n",
       "      <td>NaN</td>\n",
       "      <td>S</td>\n",
       "    </tr>\n",
       "    <tr>\n",
       "      <th>99999</th>\n",
       "      <td>99999</td>\n",
       "      <td>0</td>\n",
       "      <td>3</td>\n",
       "      <td>Enciso, Tyler</td>\n",
       "      <td>male</td>\n",
       "      <td>55.00</td>\n",
       "      <td>0</td>\n",
       "      <td>0</td>\n",
       "      <td>458074</td>\n",
       "      <td>13.96</td>\n",
       "      <td>NaN</td>\n",
       "      <td>S</td>\n",
       "    </tr>\n",
       "  </tbody>\n",
       "</table>\n",
       "<p>100000 rows × 12 columns</p>\n",
       "</div>"
      ],
      "text/plain": [
       "       PassengerId  Survived  Pclass                Name     Sex    Age  \\\n",
       "0                0         1       1    Oconnor, Frankie    male    NaN   \n",
       "1                1         0       3         Bryan, Drew    male    NaN   \n",
       "2                2         0       3      Owens, Kenneth    male   0.33   \n",
       "3                3         0       3       Kramer, James    male  19.00   \n",
       "4                4         1       3       Bond, Michael    male  25.00   \n",
       "...            ...       ...     ...                 ...     ...    ...   \n",
       "99995        99995         1       2         Bell, Adele  female  62.00   \n",
       "99996        99996         0       2       Brown, Herman    male  66.00   \n",
       "99997        99997         0       3  Childress, Charles    male  37.00   \n",
       "99998        99998         0       3    Caughlin, Thomas    male  51.00   \n",
       "99999        99999         0       3       Enciso, Tyler    male  55.00   \n",
       "\n",
       "       SibSp  Parch     Ticket   Fare   Cabin Embarked  \n",
       "0          2      0     209245  27.14  C12239        S  \n",
       "1          0      0      27323  13.35     NaN        S  \n",
       "2          1      2  CA 457703  71.29     NaN        S  \n",
       "3          0      0   A. 10866  13.04     NaN        S  \n",
       "4          0      0     427635   7.76     NaN        S  \n",
       "...      ...    ...        ...    ...     ...      ...  \n",
       "99995      0      0   PC 15008  14.86  D17243        C  \n",
       "99996      0      0      13273  11.15     NaN        S  \n",
       "99997      0      0        NaN   9.95     NaN        S  \n",
       "99998      0      1     458654  30.92     NaN        S  \n",
       "99999      0      0     458074  13.96     NaN        S  \n",
       "\n",
       "[100000 rows x 12 columns]"
      ]
     },
     "execution_count": 257,
     "metadata": {},
     "output_type": "execute_result"
    }
   ],
   "source": [
    "df_train"
   ]
  },
  {
   "cell_type": "code",
   "execution_count": 258,
   "metadata": {},
   "outputs": [
    {
     "data": {
      "text/html": [
       "<div>\n",
       "<style scoped>\n",
       "    .dataframe tbody tr th:only-of-type {\n",
       "        vertical-align: middle;\n",
       "    }\n",
       "\n",
       "    .dataframe tbody tr th {\n",
       "        vertical-align: top;\n",
       "    }\n",
       "\n",
       "    .dataframe thead th {\n",
       "        text-align: right;\n",
       "    }\n",
       "</style>\n",
       "<table border=\"1\" class=\"dataframe\">\n",
       "  <thead>\n",
       "    <tr style=\"text-align: right;\">\n",
       "      <th></th>\n",
       "      <th>PassengerId</th>\n",
       "      <th>Pclass</th>\n",
       "      <th>Name</th>\n",
       "      <th>Sex</th>\n",
       "      <th>Age</th>\n",
       "      <th>SibSp</th>\n",
       "      <th>Parch</th>\n",
       "      <th>Ticket</th>\n",
       "      <th>Fare</th>\n",
       "      <th>Cabin</th>\n",
       "      <th>Embarked</th>\n",
       "    </tr>\n",
       "  </thead>\n",
       "  <tbody>\n",
       "    <tr>\n",
       "      <th>0</th>\n",
       "      <td>100000</td>\n",
       "      <td>3</td>\n",
       "      <td>Holliday, Daniel</td>\n",
       "      <td>male</td>\n",
       "      <td>19.0</td>\n",
       "      <td>0</td>\n",
       "      <td>0</td>\n",
       "      <td>24745</td>\n",
       "      <td>63.01</td>\n",
       "      <td>NaN</td>\n",
       "      <td>S</td>\n",
       "    </tr>\n",
       "    <tr>\n",
       "      <th>1</th>\n",
       "      <td>100001</td>\n",
       "      <td>3</td>\n",
       "      <td>Nguyen, Lorraine</td>\n",
       "      <td>female</td>\n",
       "      <td>53.0</td>\n",
       "      <td>0</td>\n",
       "      <td>0</td>\n",
       "      <td>13264</td>\n",
       "      <td>5.81</td>\n",
       "      <td>NaN</td>\n",
       "      <td>S</td>\n",
       "    </tr>\n",
       "    <tr>\n",
       "      <th>2</th>\n",
       "      <td>100002</td>\n",
       "      <td>1</td>\n",
       "      <td>Harris, Heather</td>\n",
       "      <td>female</td>\n",
       "      <td>19.0</td>\n",
       "      <td>0</td>\n",
       "      <td>0</td>\n",
       "      <td>25990</td>\n",
       "      <td>38.91</td>\n",
       "      <td>B15315</td>\n",
       "      <td>C</td>\n",
       "    </tr>\n",
       "    <tr>\n",
       "      <th>3</th>\n",
       "      <td>100003</td>\n",
       "      <td>2</td>\n",
       "      <td>Larsen, Eric</td>\n",
       "      <td>male</td>\n",
       "      <td>25.0</td>\n",
       "      <td>0</td>\n",
       "      <td>0</td>\n",
       "      <td>314011</td>\n",
       "      <td>12.93</td>\n",
       "      <td>NaN</td>\n",
       "      <td>S</td>\n",
       "    </tr>\n",
       "    <tr>\n",
       "      <th>4</th>\n",
       "      <td>100004</td>\n",
       "      <td>1</td>\n",
       "      <td>Cleary, Sarah</td>\n",
       "      <td>female</td>\n",
       "      <td>17.0</td>\n",
       "      <td>0</td>\n",
       "      <td>2</td>\n",
       "      <td>26203</td>\n",
       "      <td>26.89</td>\n",
       "      <td>B22515</td>\n",
       "      <td>C</td>\n",
       "    </tr>\n",
       "    <tr>\n",
       "      <th>...</th>\n",
       "      <td>...</td>\n",
       "      <td>...</td>\n",
       "      <td>...</td>\n",
       "      <td>...</td>\n",
       "      <td>...</td>\n",
       "      <td>...</td>\n",
       "      <td>...</td>\n",
       "      <td>...</td>\n",
       "      <td>...</td>\n",
       "      <td>...</td>\n",
       "      <td>...</td>\n",
       "    </tr>\n",
       "    <tr>\n",
       "      <th>99995</th>\n",
       "      <td>199995</td>\n",
       "      <td>3</td>\n",
       "      <td>Cash, Cheryle</td>\n",
       "      <td>female</td>\n",
       "      <td>27.0</td>\n",
       "      <td>0</td>\n",
       "      <td>0</td>\n",
       "      <td>7686</td>\n",
       "      <td>10.12</td>\n",
       "      <td>NaN</td>\n",
       "      <td>Q</td>\n",
       "    </tr>\n",
       "    <tr>\n",
       "      <th>99996</th>\n",
       "      <td>199996</td>\n",
       "      <td>1</td>\n",
       "      <td>Brown, Howard</td>\n",
       "      <td>male</td>\n",
       "      <td>59.0</td>\n",
       "      <td>1</td>\n",
       "      <td>0</td>\n",
       "      <td>13004</td>\n",
       "      <td>68.31</td>\n",
       "      <td>NaN</td>\n",
       "      <td>S</td>\n",
       "    </tr>\n",
       "    <tr>\n",
       "      <th>99997</th>\n",
       "      <td>199997</td>\n",
       "      <td>3</td>\n",
       "      <td>Lightfoot, Cameron</td>\n",
       "      <td>male</td>\n",
       "      <td>47.0</td>\n",
       "      <td>0</td>\n",
       "      <td>0</td>\n",
       "      <td>4383317</td>\n",
       "      <td>10.87</td>\n",
       "      <td>NaN</td>\n",
       "      <td>S</td>\n",
       "    </tr>\n",
       "    <tr>\n",
       "      <th>99998</th>\n",
       "      <td>199998</td>\n",
       "      <td>1</td>\n",
       "      <td>Jacobsen, Margaret</td>\n",
       "      <td>female</td>\n",
       "      <td>49.0</td>\n",
       "      <td>1</td>\n",
       "      <td>2</td>\n",
       "      <td>PC 26988</td>\n",
       "      <td>29.68</td>\n",
       "      <td>B20828</td>\n",
       "      <td>C</td>\n",
       "    </tr>\n",
       "    <tr>\n",
       "      <th>99999</th>\n",
       "      <td>199999</td>\n",
       "      <td>1</td>\n",
       "      <td>Fishback, Joanna</td>\n",
       "      <td>female</td>\n",
       "      <td>41.0</td>\n",
       "      <td>0</td>\n",
       "      <td>2</td>\n",
       "      <td>PC 41824</td>\n",
       "      <td>195.41</td>\n",
       "      <td>E13345</td>\n",
       "      <td>C</td>\n",
       "    </tr>\n",
       "  </tbody>\n",
       "</table>\n",
       "<p>100000 rows × 11 columns</p>\n",
       "</div>"
      ],
      "text/plain": [
       "       PassengerId  Pclass                Name     Sex   Age  SibSp  Parch  \\\n",
       "0           100000       3    Holliday, Daniel    male  19.0      0      0   \n",
       "1           100001       3    Nguyen, Lorraine  female  53.0      0      0   \n",
       "2           100002       1     Harris, Heather  female  19.0      0      0   \n",
       "3           100003       2        Larsen, Eric    male  25.0      0      0   \n",
       "4           100004       1       Cleary, Sarah  female  17.0      0      2   \n",
       "...            ...     ...                 ...     ...   ...    ...    ...   \n",
       "99995       199995       3       Cash, Cheryle  female  27.0      0      0   \n",
       "99996       199996       1       Brown, Howard    male  59.0      1      0   \n",
       "99997       199997       3  Lightfoot, Cameron    male  47.0      0      0   \n",
       "99998       199998       1  Jacobsen, Margaret  female  49.0      1      2   \n",
       "99999       199999       1    Fishback, Joanna  female  41.0      0      2   \n",
       "\n",
       "         Ticket    Fare   Cabin Embarked  \n",
       "0         24745   63.01     NaN        S  \n",
       "1         13264    5.81     NaN        S  \n",
       "2         25990   38.91  B15315        C  \n",
       "3        314011   12.93     NaN        S  \n",
       "4         26203   26.89  B22515        C  \n",
       "...         ...     ...     ...      ...  \n",
       "99995      7686   10.12     NaN        Q  \n",
       "99996     13004   68.31     NaN        S  \n",
       "99997   4383317   10.87     NaN        S  \n",
       "99998  PC 26988   29.68  B20828        C  \n",
       "99999  PC 41824  195.41  E13345        C  \n",
       "\n",
       "[100000 rows x 11 columns]"
      ]
     },
     "execution_count": 258,
     "metadata": {},
     "output_type": "execute_result"
    }
   ],
   "source": [
    "df_test"
   ]
  },
  {
   "cell_type": "code",
   "execution_count": 259,
   "metadata": {},
   "outputs": [
    {
     "data": {
      "text/html": [
       "<div>\n",
       "<style scoped>\n",
       "    .dataframe tbody tr th:only-of-type {\n",
       "        vertical-align: middle;\n",
       "    }\n",
       "\n",
       "    .dataframe tbody tr th {\n",
       "        vertical-align: top;\n",
       "    }\n",
       "\n",
       "    .dataframe thead th {\n",
       "        text-align: right;\n",
       "    }\n",
       "</style>\n",
       "<table border=\"1\" class=\"dataframe\">\n",
       "  <thead>\n",
       "    <tr style=\"text-align: right;\">\n",
       "      <th></th>\n",
       "      <th>PassengerId</th>\n",
       "      <th>Survived</th>\n",
       "    </tr>\n",
       "  </thead>\n",
       "  <tbody>\n",
       "    <tr>\n",
       "      <th>0</th>\n",
       "      <td>100000</td>\n",
       "      <td>1</td>\n",
       "    </tr>\n",
       "    <tr>\n",
       "      <th>1</th>\n",
       "      <td>100001</td>\n",
       "      <td>1</td>\n",
       "    </tr>\n",
       "    <tr>\n",
       "      <th>2</th>\n",
       "      <td>100002</td>\n",
       "      <td>1</td>\n",
       "    </tr>\n",
       "    <tr>\n",
       "      <th>3</th>\n",
       "      <td>100003</td>\n",
       "      <td>1</td>\n",
       "    </tr>\n",
       "    <tr>\n",
       "      <th>4</th>\n",
       "      <td>100004</td>\n",
       "      <td>1</td>\n",
       "    </tr>\n",
       "    <tr>\n",
       "      <th>...</th>\n",
       "      <td>...</td>\n",
       "      <td>...</td>\n",
       "    </tr>\n",
       "    <tr>\n",
       "      <th>99995</th>\n",
       "      <td>199995</td>\n",
       "      <td>1</td>\n",
       "    </tr>\n",
       "    <tr>\n",
       "      <th>99996</th>\n",
       "      <td>199996</td>\n",
       "      <td>1</td>\n",
       "    </tr>\n",
       "    <tr>\n",
       "      <th>99997</th>\n",
       "      <td>199997</td>\n",
       "      <td>1</td>\n",
       "    </tr>\n",
       "    <tr>\n",
       "      <th>99998</th>\n",
       "      <td>199998</td>\n",
       "      <td>1</td>\n",
       "    </tr>\n",
       "    <tr>\n",
       "      <th>99999</th>\n",
       "      <td>199999</td>\n",
       "      <td>1</td>\n",
       "    </tr>\n",
       "  </tbody>\n",
       "</table>\n",
       "<p>100000 rows × 2 columns</p>\n",
       "</div>"
      ],
      "text/plain": [
       "       PassengerId  Survived\n",
       "0           100000         1\n",
       "1           100001         1\n",
       "2           100002         1\n",
       "3           100003         1\n",
       "4           100004         1\n",
       "...            ...       ...\n",
       "99995       199995         1\n",
       "99996       199996         1\n",
       "99997       199997         1\n",
       "99998       199998         1\n",
       "99999       199999         1\n",
       "\n",
       "[100000 rows x 2 columns]"
      ]
     },
     "execution_count": 259,
     "metadata": {},
     "output_type": "execute_result"
    }
   ],
   "source": [
    "sample_sub"
   ]
  },
  {
   "cell_type": "markdown",
   "metadata": {},
   "source": [
    "## Basic preprocess"
   ]
  },
  {
   "cell_type": "code",
   "execution_count": 260,
   "metadata": {},
   "outputs": [
    {
     "data": {
      "text/html": [
       "<div>\n",
       "<style scoped>\n",
       "    .dataframe tbody tr th:only-of-type {\n",
       "        vertical-align: middle;\n",
       "    }\n",
       "\n",
       "    .dataframe tbody tr th {\n",
       "        vertical-align: top;\n",
       "    }\n",
       "\n",
       "    .dataframe thead th {\n",
       "        text-align: right;\n",
       "    }\n",
       "</style>\n",
       "<table border=\"1\" class=\"dataframe\">\n",
       "  <thead>\n",
       "    <tr style=\"text-align: right;\">\n",
       "      <th></th>\n",
       "      <th>pclass</th>\n",
       "      <th>name</th>\n",
       "      <th>sex</th>\n",
       "      <th>age</th>\n",
       "      <th>sibsp</th>\n",
       "      <th>parch</th>\n",
       "      <th>ticket</th>\n",
       "      <th>fare</th>\n",
       "      <th>cabin</th>\n",
       "      <th>embarked</th>\n",
       "    </tr>\n",
       "    <tr>\n",
       "      <th>passengerid</th>\n",
       "      <th></th>\n",
       "      <th></th>\n",
       "      <th></th>\n",
       "      <th></th>\n",
       "      <th></th>\n",
       "      <th></th>\n",
       "      <th></th>\n",
       "      <th></th>\n",
       "      <th></th>\n",
       "      <th></th>\n",
       "    </tr>\n",
       "  </thead>\n",
       "  <tbody>\n",
       "    <tr>\n",
       "      <th>0</th>\n",
       "      <td>1</td>\n",
       "      <td>Oconnor, Frankie</td>\n",
       "      <td>male</td>\n",
       "      <td>NaN</td>\n",
       "      <td>2</td>\n",
       "      <td>0</td>\n",
       "      <td>209245</td>\n",
       "      <td>27.14</td>\n",
       "      <td>C12239</td>\n",
       "      <td>S</td>\n",
       "    </tr>\n",
       "    <tr>\n",
       "      <th>1</th>\n",
       "      <td>3</td>\n",
       "      <td>Bryan, Drew</td>\n",
       "      <td>male</td>\n",
       "      <td>NaN</td>\n",
       "      <td>0</td>\n",
       "      <td>0</td>\n",
       "      <td>27323</td>\n",
       "      <td>13.35</td>\n",
       "      <td>NaN</td>\n",
       "      <td>S</td>\n",
       "    </tr>\n",
       "    <tr>\n",
       "      <th>2</th>\n",
       "      <td>3</td>\n",
       "      <td>Owens, Kenneth</td>\n",
       "      <td>male</td>\n",
       "      <td>0.33</td>\n",
       "      <td>1</td>\n",
       "      <td>2</td>\n",
       "      <td>CA 457703</td>\n",
       "      <td>71.29</td>\n",
       "      <td>NaN</td>\n",
       "      <td>S</td>\n",
       "    </tr>\n",
       "    <tr>\n",
       "      <th>3</th>\n",
       "      <td>3</td>\n",
       "      <td>Kramer, James</td>\n",
       "      <td>male</td>\n",
       "      <td>19.00</td>\n",
       "      <td>0</td>\n",
       "      <td>0</td>\n",
       "      <td>A. 10866</td>\n",
       "      <td>13.04</td>\n",
       "      <td>NaN</td>\n",
       "      <td>S</td>\n",
       "    </tr>\n",
       "    <tr>\n",
       "      <th>4</th>\n",
       "      <td>3</td>\n",
       "      <td>Bond, Michael</td>\n",
       "      <td>male</td>\n",
       "      <td>25.00</td>\n",
       "      <td>0</td>\n",
       "      <td>0</td>\n",
       "      <td>427635</td>\n",
       "      <td>7.76</td>\n",
       "      <td>NaN</td>\n",
       "      <td>S</td>\n",
       "    </tr>\n",
       "  </tbody>\n",
       "</table>\n",
       "</div>"
      ],
      "text/plain": [
       "             pclass              name   sex    age  sibsp  parch     ticket  \\\n",
       "passengerid                                                                   \n",
       "0                 1  Oconnor, Frankie  male    NaN      2      0     209245   \n",
       "1                 3       Bryan, Drew  male    NaN      0      0      27323   \n",
       "2                 3    Owens, Kenneth  male   0.33      1      2  CA 457703   \n",
       "3                 3     Kramer, James  male  19.00      0      0   A. 10866   \n",
       "4                 3     Bond, Michael  male  25.00      0      0     427635   \n",
       "\n",
       "              fare   cabin embarked  \n",
       "passengerid                          \n",
       "0            27.14  C12239        S  \n",
       "1            13.35     NaN        S  \n",
       "2            71.29     NaN        S  \n",
       "3            13.04     NaN        S  \n",
       "4             7.76     NaN        S  "
      ]
     },
     "execution_count": 260,
     "metadata": {},
     "output_type": "execute_result"
    }
   ],
   "source": [
    "X_train = df_train[[col for col in df_train.columns if col != 'Survived']]\n",
    "X_train.columns = [c.lower() for c in X_train.columns]\n",
    "X_train.set_index('passengerid', inplace=True)\n",
    "X_train.head()"
   ]
  },
  {
   "cell_type": "code",
   "execution_count": 261,
   "metadata": {},
   "outputs": [
    {
     "data": {
      "text/plain": [
       "passengerid\n",
       "0    1\n",
       "1    0\n",
       "2    0\n",
       "3    0\n",
       "4    1\n",
       "Name: survived, dtype: int64"
      ]
     },
     "execution_count": 261,
     "metadata": {},
     "output_type": "execute_result"
    }
   ],
   "source": [
    "y_train = df_train[['PassengerId','Survived']]\n",
    "y_train.columns = [c.lower() for c in y_train.columns]\n",
    "y_train.set_index('passengerid', inplace=True)\n",
    "y_train = y_train['survived']\n",
    "y_train.head()"
   ]
  },
  {
   "cell_type": "code",
   "execution_count": 262,
   "metadata": {},
   "outputs": [
    {
     "data": {
      "text/html": [
       "<div>\n",
       "<style scoped>\n",
       "    .dataframe tbody tr th:only-of-type {\n",
       "        vertical-align: middle;\n",
       "    }\n",
       "\n",
       "    .dataframe tbody tr th {\n",
       "        vertical-align: top;\n",
       "    }\n",
       "\n",
       "    .dataframe thead th {\n",
       "        text-align: right;\n",
       "    }\n",
       "</style>\n",
       "<table border=\"1\" class=\"dataframe\">\n",
       "  <thead>\n",
       "    <tr style=\"text-align: right;\">\n",
       "      <th></th>\n",
       "      <th>pclass</th>\n",
       "      <th>name</th>\n",
       "      <th>sex</th>\n",
       "      <th>age</th>\n",
       "      <th>sibsp</th>\n",
       "      <th>parch</th>\n",
       "      <th>ticket</th>\n",
       "      <th>fare</th>\n",
       "      <th>cabin</th>\n",
       "      <th>embarked</th>\n",
       "    </tr>\n",
       "    <tr>\n",
       "      <th>passengerid</th>\n",
       "      <th></th>\n",
       "      <th></th>\n",
       "      <th></th>\n",
       "      <th></th>\n",
       "      <th></th>\n",
       "      <th></th>\n",
       "      <th></th>\n",
       "      <th></th>\n",
       "      <th></th>\n",
       "      <th></th>\n",
       "    </tr>\n",
       "  </thead>\n",
       "  <tbody>\n",
       "    <tr>\n",
       "      <th>100000</th>\n",
       "      <td>3</td>\n",
       "      <td>Holliday, Daniel</td>\n",
       "      <td>male</td>\n",
       "      <td>19.0</td>\n",
       "      <td>0</td>\n",
       "      <td>0</td>\n",
       "      <td>24745</td>\n",
       "      <td>63.01</td>\n",
       "      <td>NaN</td>\n",
       "      <td>S</td>\n",
       "    </tr>\n",
       "    <tr>\n",
       "      <th>100001</th>\n",
       "      <td>3</td>\n",
       "      <td>Nguyen, Lorraine</td>\n",
       "      <td>female</td>\n",
       "      <td>53.0</td>\n",
       "      <td>0</td>\n",
       "      <td>0</td>\n",
       "      <td>13264</td>\n",
       "      <td>5.81</td>\n",
       "      <td>NaN</td>\n",
       "      <td>S</td>\n",
       "    </tr>\n",
       "    <tr>\n",
       "      <th>100002</th>\n",
       "      <td>1</td>\n",
       "      <td>Harris, Heather</td>\n",
       "      <td>female</td>\n",
       "      <td>19.0</td>\n",
       "      <td>0</td>\n",
       "      <td>0</td>\n",
       "      <td>25990</td>\n",
       "      <td>38.91</td>\n",
       "      <td>B15315</td>\n",
       "      <td>C</td>\n",
       "    </tr>\n",
       "    <tr>\n",
       "      <th>100003</th>\n",
       "      <td>2</td>\n",
       "      <td>Larsen, Eric</td>\n",
       "      <td>male</td>\n",
       "      <td>25.0</td>\n",
       "      <td>0</td>\n",
       "      <td>0</td>\n",
       "      <td>314011</td>\n",
       "      <td>12.93</td>\n",
       "      <td>NaN</td>\n",
       "      <td>S</td>\n",
       "    </tr>\n",
       "    <tr>\n",
       "      <th>100004</th>\n",
       "      <td>1</td>\n",
       "      <td>Cleary, Sarah</td>\n",
       "      <td>female</td>\n",
       "      <td>17.0</td>\n",
       "      <td>0</td>\n",
       "      <td>2</td>\n",
       "      <td>26203</td>\n",
       "      <td>26.89</td>\n",
       "      <td>B22515</td>\n",
       "      <td>C</td>\n",
       "    </tr>\n",
       "  </tbody>\n",
       "</table>\n",
       "</div>"
      ],
      "text/plain": [
       "             pclass              name     sex   age  sibsp  parch  ticket  \\\n",
       "passengerid                                                                 \n",
       "100000            3  Holliday, Daniel    male  19.0      0      0   24745   \n",
       "100001            3  Nguyen, Lorraine  female  53.0      0      0   13264   \n",
       "100002            1   Harris, Heather  female  19.0      0      0   25990   \n",
       "100003            2      Larsen, Eric    male  25.0      0      0  314011   \n",
       "100004            1     Cleary, Sarah  female  17.0      0      2   26203   \n",
       "\n",
       "              fare   cabin embarked  \n",
       "passengerid                          \n",
       "100000       63.01     NaN        S  \n",
       "100001        5.81     NaN        S  \n",
       "100002       38.91  B15315        C  \n",
       "100003       12.93     NaN        S  \n",
       "100004       26.89  B22515        C  "
      ]
     },
     "execution_count": 262,
     "metadata": {},
     "output_type": "execute_result"
    }
   ],
   "source": [
    "X_test = df_test[[col for col in df_test.columns if col != 'Survived']]\n",
    "X_test.columns = [c.lower() for c in X_test.columns]\n",
    "X_test.set_index('passengerid', inplace=True)\n",
    "X_test.head()"
   ]
  },
  {
   "cell_type": "markdown",
   "metadata": {},
   "source": [
    "## pipeline simple"
   ]
  },
  {
   "cell_type": "code",
   "execution_count": 263,
   "metadata": {},
   "outputs": [],
   "source": [
    "text_features = ['name', 'ticket']\n",
    "cat_features = ['sex', 'embarked', 'cabin']"
   ]
  },
  {
   "cell_type": "code",
   "execution_count": 264,
   "metadata": {},
   "outputs": [],
   "source": [
    "from catboost import CatBoostClassifier\n",
    "from sklearn.naive_bayes import GaussianNB"
   ]
  },
  {
   "cell_type": "code",
   "execution_count": 265,
   "metadata": {},
   "outputs": [],
   "source": [
    "original_features = X_train.columns.to_list()"
   ]
  },
  {
   "cell_type": "code",
   "execution_count": 266,
   "metadata": {},
   "outputs": [],
   "source": [
    "def transform_name(df_base, col):\n",
    "    df = df_base[col].apply(lambda x: x.split(',')).to_frame('list_name')\n",
    "    df['surname'] = df['list_name'].apply(lambda x: x[0])\n",
    "    df['forename'] = df['list_name'].apply(lambda x: x[1])\n",
    "    return df[['surname', 'forename']]"
   ]
  },
  {
   "cell_type": "code",
   "execution_count": 267,
   "metadata": {},
   "outputs": [],
   "source": [
    "def get_tck_str(tck):\n",
    "    try:\n",
    "        x = tck.split()\n",
    "        try: \n",
    "            a = int(x[0])\n",
    "            return None\n",
    "        except:\n",
    "            return x[0]\n",
    "    except:\n",
    "        return None\n",
    "    \n",
    "def get_tck_num(tck):\n",
    "    try:\n",
    "        x = tck.split()\n",
    "        try:\n",
    "            a = int(x[0])\n",
    "            return a\n",
    "        except:\n",
    "            return None\n",
    "    except:\n",
    "        return None\n",
    "\n",
    "def transform_ticket(df_base, col):\n",
    "    df_ticket = df_base[col].to_frame('ticket')\n",
    "    df_ticket['ticket_str'] = df_base[col].apply(get_tck_str)\n",
    "    df_ticket['ticket_num'] = df_base[col].apply(get_tck_num)\n",
    "    return df_ticket[['ticket_str', 'ticket_num']]"
   ]
  },
  {
   "cell_type": "code",
   "execution_count": 268,
   "metadata": {},
   "outputs": [],
   "source": [
    "def transform_cabin(df_base, col):\n",
    "    df_cabin = df_base[col].to_frame('cabin')\n",
    "    df_cabin_clean = df_cabin[~df_cabin['cabin'].isna()].copy()\n",
    "    df_cabin_clean['cabin_str'] = df_cabin_clean['cabin'].apply(lambda x: x[0])\n",
    "    df_cabin_clean['cabin_num'] = df_cabin_clean['cabin'].apply(lambda x: x[1:]).astype(int)\n",
    "    return df_cabin.join(df_cabin_clean[['cabin_str', 'cabin_num']])[['cabin_str', 'cabin_num']]"
   ]
  },
  {
   "cell_type": "code",
   "execution_count": 269,
   "metadata": {},
   "outputs": [],
   "source": [
    "from sklearn.base import TransformerMixin, BaseEstimator\n",
    "class PassNameTransformer(BaseEstimator, TransformerMixin):\n",
    "    def fit(self, X, y=None):\n",
    "        return self\n",
    "\n",
    "    def transform(self, X):\n",
    "        self.X = transform_name(X, 'name')\n",
    "        return self.X\n",
    "\n",
    "    # I have corrected the output here, See point 2\n",
    "    def get_feature_names(self):\n",
    "        return self.X.columns.tolist()\n",
    "\n",
    "class TicketTransformer(BaseEstimator, TransformerMixin):\n",
    "    def fit(self, X, y=None):\n",
    "        return self\n",
    "\n",
    "    def transform(self, X):\n",
    "        self.X = transform_ticket(X, 'ticket')\n",
    "        return self.X\n",
    "\n",
    "    # I have corrected the output here, See point 2\n",
    "    def get_feature_names(self):\n",
    "        return self.X.columns.tolist()\n",
    "    \n",
    "class CabinTransformer(BaseEstimator, TransformerMixin):\n",
    "    def fit(self, X, y=None):\n",
    "        return self\n",
    "\n",
    "    def transform(self, X):\n",
    "        self.X = transform_cabin(X, 'cabin')\n",
    "        return self.X\n",
    "\n",
    "    # I have corrected the output here, See point 2\n",
    "    def get_feature_names(self):\n",
    "        return self.X.columns.tolist()\n",
    "class ColumnSelectTransformer(BaseEstimator, TransformerMixin):\n",
    "    def __init__(self, columns=None):\n",
    "        super(ColumnSelectTransformer).__init__()\n",
    "        self.columns=columns\n",
    "    def fit(self, X, y=None):\n",
    "        return self\n",
    "    def transform(self, X):\n",
    "        return X[self.columns]"
   ]
  },
  {
   "cell_type": "code",
   "execution_count": 270,
   "metadata": {},
   "outputs": [],
   "source": [
    "def lower_values(df):\n",
    "    o_features = df.dtypes[df.dtypes=='object'].index.to_list()\n",
    "    df_copy = df.copy()\n",
    "    for c in o_features:\n",
    "        df_copy[c] = df_copy[c].apply(lambda x: x.lower() if type(x)==str else None)\n",
    "    return df_copy\n",
    "class LowerTransformer(BaseEstimator, TransformerMixin):\n",
    "    def fit(self, X, y=None):\n",
    "        return self\n",
    "    def transform(self,X):\n",
    "        return lower_values(X)"
   ]
  },
  {
   "cell_type": "code",
   "execution_count": 271,
   "metadata": {},
   "outputs": [],
   "source": [
    "from sklearn.pipeline import FeatureUnion\n",
    "from sklearn.compose import ColumnTransformer, make_column_selector\n",
    "from tqdm.auto import tqdm\n",
    "\n",
    "class featureUnion(FeatureUnion):\n",
    "    def _hstack(self, Xs):\n",
    "        cols = [X.columns.tolist() for X in Xs]\n",
    "        dtypes = []\n",
    "        for X in Xs:\n",
    "            dtypes.append([str(X[col].dtype) for col in X])\n",
    "        cols = np.hstack(cols)\n",
    "        dtypes = np.hstack(dtypes)\n",
    "        data = pd.DataFrame(super()._hstack(Xs), columns = cols)\n",
    "        print('====Converting columns types====')\n",
    "        for col, dtype in tqdm(zip(cols, dtypes)):\n",
    "            data[col] = data[col].astype(dtype)\n",
    "        return data\n",
    "\n",
    "class columnTransformer(ColumnTransformer):\n",
    "    def _hstack(self, Xs):\n",
    "        cols = [X.columns.tolist() for X in Xs]\n",
    "        dtypes = []\n",
    "        print(cols)\n",
    "        print([X.shape for X in Xs])\n",
    "        for X in Xs:\n",
    "            dtypes.append([str(X[col].dtype) for col in X])\n",
    "        cols = np.hstack(cols)\n",
    "        dtypes = np.hstack(dtypes)\n",
    "        data = pd.DataFrame(super()._hstack(Xs), columns = cols)\n",
    "        print('====Converting columns types====')\n",
    "        for col, dtype in tqdm(zip(cols, dtypes)):\n",
    "            data[col] = data[col].astype(dtype)\n",
    "        return data"
   ]
  },
  {
   "cell_type": "code",
   "execution_count": 272,
   "metadata": {},
   "outputs": [],
   "source": [
    "col_processor = featureUnion(transformer_list=[\n",
    "    ('pass_name', PassNameTransformer()),\n",
    "    ('ticket', TicketTransformer()),\n",
    "    ('cabin', CabinTransformer()),\n",
    "    ('others', ColumnSelectTransformer(columns=[c for c in original_features if c not in ('name', 'ticket', 'cabin')]))\n",
    "]\n",
    ")\n",
    "pl = Pipeline(steps=[\n",
    "    ('raw_data_processor', col_processor),\n",
    "    ('lower_text_values', LowerTransformer())\n",
    "])"
   ]
  },
  {
   "cell_type": "code",
   "execution_count": 273,
   "metadata": {},
   "outputs": [
    {
     "data": {
      "text/html": [
       "<style>div.sk-top-container {color: black;background-color: white;}div.sk-toggleable {background-color: white;}label.sk-toggleable__label {cursor: pointer;display: block;width: 100%;margin-bottom: 0;padding: 0.2em 0.3em;box-sizing: border-box;text-align: center;}div.sk-toggleable__content {max-height: 0;max-width: 0;overflow: hidden;text-align: left;background-color: #f0f8ff;}div.sk-toggleable__content pre {margin: 0.2em;color: black;border-radius: 0.25em;background-color: #f0f8ff;}input.sk-toggleable__control:checked~div.sk-toggleable__content {max-height: 200px;max-width: 100%;overflow: auto;}div.sk-estimator input.sk-toggleable__control:checked~label.sk-toggleable__label {background-color: #d4ebff;}div.sk-label input.sk-toggleable__control:checked~label.sk-toggleable__label {background-color: #d4ebff;}input.sk-hidden--visually {border: 0;clip: rect(1px 1px 1px 1px);clip: rect(1px, 1px, 1px, 1px);height: 1px;margin: -1px;overflow: hidden;padding: 0;position: absolute;width: 1px;}div.sk-estimator {font-family: monospace;background-color: #f0f8ff;margin: 0.25em 0.25em;border: 1px dotted black;border-radius: 0.25em;box-sizing: border-box;}div.sk-estimator:hover {background-color: #d4ebff;}div.sk-parallel-item::after {content: \"\";width: 100%;border-bottom: 1px solid gray;flex-grow: 1;}div.sk-label:hover label.sk-toggleable__label {background-color: #d4ebff;}div.sk-serial::before {content: \"\";position: absolute;border-left: 1px solid gray;box-sizing: border-box;top: 2em;bottom: 0;left: 50%;}div.sk-serial {display: flex;flex-direction: column;align-items: center;background-color: white;}div.sk-item {z-index: 1;}div.sk-parallel {display: flex;align-items: stretch;justify-content: center;background-color: white;}div.sk-parallel-item {display: flex;flex-direction: column;position: relative;background-color: white;}div.sk-parallel-item:first-child::after {align-self: flex-end;width: 50%;}div.sk-parallel-item:last-child::after {align-self: flex-start;width: 50%;}div.sk-parallel-item:only-child::after {width: 0;}div.sk-dashed-wrapped {border: 1px dashed gray;margin: 0.2em;box-sizing: border-box;padding-bottom: 0.1em;background-color: white;position: relative;}div.sk-label label {font-family: monospace;font-weight: bold;background-color: white;display: inline-block;line-height: 1.2em;}div.sk-label-container {position: relative;z-index: 2;text-align: center;}div.sk-container {display: inline-block;position: relative;}</style><div class=\"sk-top-container\"><div class=\"sk-container\"><div class=\"sk-item sk-dashed-wrapped\"><div class=\"sk-label-container\"><div class=\"sk-label sk-toggleable\"><input class=\"sk-toggleable__control sk-hidden--visually\" id=\"5908cd7b-1888-46cd-8760-fb4336c136a6\" type=\"checkbox\" ><label class=\"sk-toggleable__label\" for=\"5908cd7b-1888-46cd-8760-fb4336c136a6\">Pipeline</label><div class=\"sk-toggleable__content\"><pre>Pipeline(steps=[('raw_data_processor',\n",
       "                 featureUnion(transformer_list=[('pass_name',\n",
       "                                                 PassNameTransformer()),\n",
       "                                                ('ticket', TicketTransformer()),\n",
       "                                                ('cabin', CabinTransformer()),\n",
       "                                                ('others',\n",
       "                                                 ColumnSelectTransformer(columns=['pclass',\n",
       "                                                                                  'sex',\n",
       "                                                                                  'age',\n",
       "                                                                                  'sibsp',\n",
       "                                                                                  'parch',\n",
       "                                                                                  'fare',\n",
       "                                                                                  'embarked']))])),\n",
       "                ('lower_text_values', LowerTransformer())])</pre></div></div></div><div class=\"sk-serial\"><div class=\"sk-item sk-dashed-wrapped\"><div class=\"sk-label-container\"><div class=\"sk-label sk-toggleable\"><input class=\"sk-toggleable__control sk-hidden--visually\" id=\"31cd5dd0-c3c4-43ea-8d98-79557eb70ec7\" type=\"checkbox\" ><label class=\"sk-toggleable__label\" for=\"31cd5dd0-c3c4-43ea-8d98-79557eb70ec7\">raw_data_processor: featureUnion</label><div class=\"sk-toggleable__content\"><pre>featureUnion(transformer_list=[('pass_name', PassNameTransformer()),\n",
       "                               ('ticket', TicketTransformer()),\n",
       "                               ('cabin', CabinTransformer()),\n",
       "                               ('others',\n",
       "                                ColumnSelectTransformer(columns=['pclass',\n",
       "                                                                 'sex', 'age',\n",
       "                                                                 'sibsp',\n",
       "                                                                 'parch',\n",
       "                                                                 'fare',\n",
       "                                                                 'embarked']))])</pre></div></div></div><div class=\"sk-parallel\"><div class=\"sk-parallel-item\"><div class=\"sk-item\"><div class=\"sk-label-container\"><div class=\"sk-label sk-toggleable\"><label>pass_name</label></div></div><div class=\"sk-serial\"><div class=\"sk-item\"><div class=\"sk-estimator sk-toggleable\"><input class=\"sk-toggleable__control sk-hidden--visually\" id=\"1837e9b7-0913-4f4c-9efc-b7c629ac0d54\" type=\"checkbox\" ><label class=\"sk-toggleable__label\" for=\"1837e9b7-0913-4f4c-9efc-b7c629ac0d54\">PassNameTransformer</label><div class=\"sk-toggleable__content\"><pre>PassNameTransformer()</pre></div></div></div></div></div></div><div class=\"sk-parallel-item\"><div class=\"sk-item\"><div class=\"sk-label-container\"><div class=\"sk-label sk-toggleable\"><label>ticket</label></div></div><div class=\"sk-serial\"><div class=\"sk-item\"><div class=\"sk-estimator sk-toggleable\"><input class=\"sk-toggleable__control sk-hidden--visually\" id=\"018dce85-638b-47c1-a358-a42fd9d3e944\" type=\"checkbox\" ><label class=\"sk-toggleable__label\" for=\"018dce85-638b-47c1-a358-a42fd9d3e944\">TicketTransformer</label><div class=\"sk-toggleable__content\"><pre>TicketTransformer()</pre></div></div></div></div></div></div><div class=\"sk-parallel-item\"><div class=\"sk-item\"><div class=\"sk-label-container\"><div class=\"sk-label sk-toggleable\"><label>cabin</label></div></div><div class=\"sk-serial\"><div class=\"sk-item\"><div class=\"sk-estimator sk-toggleable\"><input class=\"sk-toggleable__control sk-hidden--visually\" id=\"b66843d1-fc04-45e5-ad40-508b7f4910a2\" type=\"checkbox\" ><label class=\"sk-toggleable__label\" for=\"b66843d1-fc04-45e5-ad40-508b7f4910a2\">CabinTransformer</label><div class=\"sk-toggleable__content\"><pre>CabinTransformer()</pre></div></div></div></div></div></div><div class=\"sk-parallel-item\"><div class=\"sk-item\"><div class=\"sk-label-container\"><div class=\"sk-label sk-toggleable\"><label>others</label></div></div><div class=\"sk-serial\"><div class=\"sk-item\"><div class=\"sk-estimator sk-toggleable\"><input class=\"sk-toggleable__control sk-hidden--visually\" id=\"f435157d-bfc6-4d4a-9ce1-02a1d64f5623\" type=\"checkbox\" ><label class=\"sk-toggleable__label\" for=\"f435157d-bfc6-4d4a-9ce1-02a1d64f5623\">ColumnSelectTransformer</label><div class=\"sk-toggleable__content\"><pre>ColumnSelectTransformer(columns=['pclass', 'sex', 'age', 'sibsp', 'parch',\n",
       "                                 'fare', 'embarked'])</pre></div></div></div></div></div></div></div></div><div class=\"sk-item\"><div class=\"sk-estimator sk-toggleable\"><input class=\"sk-toggleable__control sk-hidden--visually\" id=\"3dc8d0a5-eaed-4284-a5ee-b77c2187a8da\" type=\"checkbox\" ><label class=\"sk-toggleable__label\" for=\"3dc8d0a5-eaed-4284-a5ee-b77c2187a8da\">LowerTransformer</label><div class=\"sk-toggleable__content\"><pre>LowerTransformer()</pre></div></div></div></div></div></div></div>"
      ],
      "text/plain": [
       "Pipeline(steps=[('raw_data_processor',\n",
       "                 featureUnion(transformer_list=[('pass_name',\n",
       "                                                 PassNameTransformer()),\n",
       "                                                ('ticket', TicketTransformer()),\n",
       "                                                ('cabin', CabinTransformer()),\n",
       "                                                ('others',\n",
       "                                                 ColumnSelectTransformer(columns=['pclass',\n",
       "                                                                                  'sex',\n",
       "                                                                                  'age',\n",
       "                                                                                  'sibsp',\n",
       "                                                                                  'parch',\n",
       "                                                                                  'fare',\n",
       "                                                                                  'embarked']))])),\n",
       "                ('lower_text_values', LowerTransformer())])"
      ]
     },
     "execution_count": 273,
     "metadata": {},
     "output_type": "execute_result"
    }
   ],
   "source": [
    "pl"
   ]
  },
  {
   "cell_type": "code",
   "execution_count": 274,
   "metadata": {},
   "outputs": [
    {
     "name": "stdout",
     "output_type": "stream",
     "text": [
      "====Converting columns types====\n"
     ]
    },
    {
     "data": {
      "application/vnd.jupyter.widget-view+json": {
       "model_id": "59bd85613197415a9ef39ab178957f8a",
       "version_major": 2,
       "version_minor": 0
      },
      "text/plain": [
       "0it [00:00, ?it/s]"
      ]
     },
     "metadata": {},
     "output_type": "display_data"
    }
   ],
   "source": [
    "df2 = pl.fit_transform(X_train)"
   ]
  },
  {
   "cell_type": "code",
   "execution_count": 275,
   "metadata": {},
   "outputs": [
    {
     "data": {
      "text/html": [
       "<div>\n",
       "<style scoped>\n",
       "    .dataframe tbody tr th:only-of-type {\n",
       "        vertical-align: middle;\n",
       "    }\n",
       "\n",
       "    .dataframe tbody tr th {\n",
       "        vertical-align: top;\n",
       "    }\n",
       "\n",
       "    .dataframe thead th {\n",
       "        text-align: right;\n",
       "    }\n",
       "</style>\n",
       "<table border=\"1\" class=\"dataframe\">\n",
       "  <thead>\n",
       "    <tr style=\"text-align: right;\">\n",
       "      <th></th>\n",
       "      <th>surname</th>\n",
       "      <th>forename</th>\n",
       "      <th>ticket_str</th>\n",
       "      <th>ticket_num</th>\n",
       "      <th>cabin_str</th>\n",
       "      <th>cabin_num</th>\n",
       "      <th>pclass</th>\n",
       "      <th>sex</th>\n",
       "      <th>age</th>\n",
       "      <th>sibsp</th>\n",
       "      <th>parch</th>\n",
       "      <th>fare</th>\n",
       "      <th>embarked</th>\n",
       "    </tr>\n",
       "  </thead>\n",
       "  <tbody>\n",
       "    <tr>\n",
       "      <th>0</th>\n",
       "      <td>oconnor</td>\n",
       "      <td>frankie</td>\n",
       "      <td>None</td>\n",
       "      <td>209245.0</td>\n",
       "      <td>c</td>\n",
       "      <td>12239.0</td>\n",
       "      <td>1</td>\n",
       "      <td>male</td>\n",
       "      <td>NaN</td>\n",
       "      <td>2</td>\n",
       "      <td>0</td>\n",
       "      <td>27.14</td>\n",
       "      <td>s</td>\n",
       "    </tr>\n",
       "    <tr>\n",
       "      <th>1</th>\n",
       "      <td>bryan</td>\n",
       "      <td>drew</td>\n",
       "      <td>None</td>\n",
       "      <td>27323.0</td>\n",
       "      <td>None</td>\n",
       "      <td>NaN</td>\n",
       "      <td>3</td>\n",
       "      <td>male</td>\n",
       "      <td>NaN</td>\n",
       "      <td>0</td>\n",
       "      <td>0</td>\n",
       "      <td>13.35</td>\n",
       "      <td>s</td>\n",
       "    </tr>\n",
       "    <tr>\n",
       "      <th>2</th>\n",
       "      <td>owens</td>\n",
       "      <td>kenneth</td>\n",
       "      <td>ca</td>\n",
       "      <td>NaN</td>\n",
       "      <td>None</td>\n",
       "      <td>NaN</td>\n",
       "      <td>3</td>\n",
       "      <td>male</td>\n",
       "      <td>0.33</td>\n",
       "      <td>1</td>\n",
       "      <td>2</td>\n",
       "      <td>71.29</td>\n",
       "      <td>s</td>\n",
       "    </tr>\n",
       "    <tr>\n",
       "      <th>3</th>\n",
       "      <td>kramer</td>\n",
       "      <td>james</td>\n",
       "      <td>a.</td>\n",
       "      <td>NaN</td>\n",
       "      <td>None</td>\n",
       "      <td>NaN</td>\n",
       "      <td>3</td>\n",
       "      <td>male</td>\n",
       "      <td>19.00</td>\n",
       "      <td>0</td>\n",
       "      <td>0</td>\n",
       "      <td>13.04</td>\n",
       "      <td>s</td>\n",
       "    </tr>\n",
       "    <tr>\n",
       "      <th>4</th>\n",
       "      <td>bond</td>\n",
       "      <td>michael</td>\n",
       "      <td>None</td>\n",
       "      <td>427635.0</td>\n",
       "      <td>None</td>\n",
       "      <td>NaN</td>\n",
       "      <td>3</td>\n",
       "      <td>male</td>\n",
       "      <td>25.00</td>\n",
       "      <td>0</td>\n",
       "      <td>0</td>\n",
       "      <td>7.76</td>\n",
       "      <td>s</td>\n",
       "    </tr>\n",
       "    <tr>\n",
       "      <th>...</th>\n",
       "      <td>...</td>\n",
       "      <td>...</td>\n",
       "      <td>...</td>\n",
       "      <td>...</td>\n",
       "      <td>...</td>\n",
       "      <td>...</td>\n",
       "      <td>...</td>\n",
       "      <td>...</td>\n",
       "      <td>...</td>\n",
       "      <td>...</td>\n",
       "      <td>...</td>\n",
       "      <td>...</td>\n",
       "      <td>...</td>\n",
       "    </tr>\n",
       "    <tr>\n",
       "      <th>99995</th>\n",
       "      <td>bell</td>\n",
       "      <td>adele</td>\n",
       "      <td>pc</td>\n",
       "      <td>NaN</td>\n",
       "      <td>d</td>\n",
       "      <td>17243.0</td>\n",
       "      <td>2</td>\n",
       "      <td>female</td>\n",
       "      <td>62.00</td>\n",
       "      <td>0</td>\n",
       "      <td>0</td>\n",
       "      <td>14.86</td>\n",
       "      <td>c</td>\n",
       "    </tr>\n",
       "    <tr>\n",
       "      <th>99996</th>\n",
       "      <td>brown</td>\n",
       "      <td>herman</td>\n",
       "      <td>None</td>\n",
       "      <td>13273.0</td>\n",
       "      <td>None</td>\n",
       "      <td>NaN</td>\n",
       "      <td>2</td>\n",
       "      <td>male</td>\n",
       "      <td>66.00</td>\n",
       "      <td>0</td>\n",
       "      <td>0</td>\n",
       "      <td>11.15</td>\n",
       "      <td>s</td>\n",
       "    </tr>\n",
       "    <tr>\n",
       "      <th>99997</th>\n",
       "      <td>childress</td>\n",
       "      <td>charles</td>\n",
       "      <td>None</td>\n",
       "      <td>NaN</td>\n",
       "      <td>None</td>\n",
       "      <td>NaN</td>\n",
       "      <td>3</td>\n",
       "      <td>male</td>\n",
       "      <td>37.00</td>\n",
       "      <td>0</td>\n",
       "      <td>0</td>\n",
       "      <td>9.95</td>\n",
       "      <td>s</td>\n",
       "    </tr>\n",
       "    <tr>\n",
       "      <th>99998</th>\n",
       "      <td>caughlin</td>\n",
       "      <td>thomas</td>\n",
       "      <td>None</td>\n",
       "      <td>458654.0</td>\n",
       "      <td>None</td>\n",
       "      <td>NaN</td>\n",
       "      <td>3</td>\n",
       "      <td>male</td>\n",
       "      <td>51.00</td>\n",
       "      <td>0</td>\n",
       "      <td>1</td>\n",
       "      <td>30.92</td>\n",
       "      <td>s</td>\n",
       "    </tr>\n",
       "    <tr>\n",
       "      <th>99999</th>\n",
       "      <td>enciso</td>\n",
       "      <td>tyler</td>\n",
       "      <td>None</td>\n",
       "      <td>458074.0</td>\n",
       "      <td>None</td>\n",
       "      <td>NaN</td>\n",
       "      <td>3</td>\n",
       "      <td>male</td>\n",
       "      <td>55.00</td>\n",
       "      <td>0</td>\n",
       "      <td>0</td>\n",
       "      <td>13.96</td>\n",
       "      <td>s</td>\n",
       "    </tr>\n",
       "  </tbody>\n",
       "</table>\n",
       "<p>100000 rows × 13 columns</p>\n",
       "</div>"
      ],
      "text/plain": [
       "         surname  forename ticket_str  ticket_num cabin_str  cabin_num  \\\n",
       "0        oconnor   frankie       None    209245.0         c    12239.0   \n",
       "1          bryan      drew       None     27323.0      None        NaN   \n",
       "2          owens   kenneth         ca         NaN      None        NaN   \n",
       "3         kramer     james         a.         NaN      None        NaN   \n",
       "4           bond   michael       None    427635.0      None        NaN   \n",
       "...          ...       ...        ...         ...       ...        ...   \n",
       "99995       bell     adele         pc         NaN         d    17243.0   \n",
       "99996      brown    herman       None     13273.0      None        NaN   \n",
       "99997  childress   charles       None         NaN      None        NaN   \n",
       "99998   caughlin    thomas       None    458654.0      None        NaN   \n",
       "99999     enciso     tyler       None    458074.0      None        NaN   \n",
       "\n",
       "       pclass     sex    age  sibsp  parch   fare embarked  \n",
       "0           1    male    NaN      2      0  27.14        s  \n",
       "1           3    male    NaN      0      0  13.35        s  \n",
       "2           3    male   0.33      1      2  71.29        s  \n",
       "3           3    male  19.00      0      0  13.04        s  \n",
       "4           3    male  25.00      0      0   7.76        s  \n",
       "...       ...     ...    ...    ...    ...    ...      ...  \n",
       "99995       2  female  62.00      0      0  14.86        c  \n",
       "99996       2    male  66.00      0      0  11.15        s  \n",
       "99997       3    male  37.00      0      0   9.95        s  \n",
       "99998       3    male  51.00      0      1  30.92        s  \n",
       "99999       3    male  55.00      0      0  13.96        s  \n",
       "\n",
       "[100000 rows x 13 columns]"
      ]
     },
     "execution_count": 275,
     "metadata": {},
     "output_type": "execute_result"
    }
   ],
   "source": [
    "df2"
   ]
  },
  {
   "cell_type": "code",
   "execution_count": 276,
   "metadata": {},
   "outputs": [],
   "source": [
    "from sklearn.impute import SimpleImputer\n",
    "\n",
    "class simpleImputer(SimpleImputer):\n",
    "    def fit(self, X, y=None):\n",
    "        self._cols = X.columns.tolist()\n",
    "        self._dtypes = [str(X[col].dtype) for col in X.columns]\n",
    "        super().fit(X, y)\n",
    "        return self\n",
    "        \n",
    "    def transform(self, X):\n",
    "        X_ = super().transform(X)\n",
    "        data = pd.DataFrame(X_, columns = self._cols)\n",
    "        for col, dtype in tqdm(zip(self._cols, self._dtypes)):\n",
    "            data[col] = data[col].astype(dtype)\n",
    "        return data\n",
    "        "
   ]
  },
  {
   "cell_type": "code",
   "execution_count": 277,
   "metadata": {},
   "outputs": [],
   "source": [
    "col_handle_na = columnTransformer(\n",
    "    transformers=[\n",
    "        ('text_features', simpleImputer(missing_values=None, strategy='constant', fill_value='unk'), make_column_selector(dtype_include=['object'])),\n",
    "        ('float_features', simpleImputer(strategy='median'), make_column_selector(dtype_include=['float64'])),\n",
    "        ('count_features', simpleImputer(strategy='most_frequent'), make_column_selector(dtype_include=['int64']))\n",
    "    ],\n",
    "    remainder='passthrough'\n",
    ")"
   ]
  },
  {
   "cell_type": "code",
   "execution_count": 278,
   "metadata": {},
   "outputs": [],
   "source": [
    "pl_simple = Pipeline(steps=[\n",
    "    ('pl', pl),\n",
    "    ('null_handling', col_handle_na)\n",
    "])"
   ]
  },
  {
   "cell_type": "code",
   "execution_count": 279,
   "metadata": {},
   "outputs": [
    {
     "data": {
      "text/html": [
       "<style>div.sk-top-container {color: black;background-color: white;}div.sk-toggleable {background-color: white;}label.sk-toggleable__label {cursor: pointer;display: block;width: 100%;margin-bottom: 0;padding: 0.2em 0.3em;box-sizing: border-box;text-align: center;}div.sk-toggleable__content {max-height: 0;max-width: 0;overflow: hidden;text-align: left;background-color: #f0f8ff;}div.sk-toggleable__content pre {margin: 0.2em;color: black;border-radius: 0.25em;background-color: #f0f8ff;}input.sk-toggleable__control:checked~div.sk-toggleable__content {max-height: 200px;max-width: 100%;overflow: auto;}div.sk-estimator input.sk-toggleable__control:checked~label.sk-toggleable__label {background-color: #d4ebff;}div.sk-label input.sk-toggleable__control:checked~label.sk-toggleable__label {background-color: #d4ebff;}input.sk-hidden--visually {border: 0;clip: rect(1px 1px 1px 1px);clip: rect(1px, 1px, 1px, 1px);height: 1px;margin: -1px;overflow: hidden;padding: 0;position: absolute;width: 1px;}div.sk-estimator {font-family: monospace;background-color: #f0f8ff;margin: 0.25em 0.25em;border: 1px dotted black;border-radius: 0.25em;box-sizing: border-box;}div.sk-estimator:hover {background-color: #d4ebff;}div.sk-parallel-item::after {content: \"\";width: 100%;border-bottom: 1px solid gray;flex-grow: 1;}div.sk-label:hover label.sk-toggleable__label {background-color: #d4ebff;}div.sk-serial::before {content: \"\";position: absolute;border-left: 1px solid gray;box-sizing: border-box;top: 2em;bottom: 0;left: 50%;}div.sk-serial {display: flex;flex-direction: column;align-items: center;background-color: white;}div.sk-item {z-index: 1;}div.sk-parallel {display: flex;align-items: stretch;justify-content: center;background-color: white;}div.sk-parallel-item {display: flex;flex-direction: column;position: relative;background-color: white;}div.sk-parallel-item:first-child::after {align-self: flex-end;width: 50%;}div.sk-parallel-item:last-child::after {align-self: flex-start;width: 50%;}div.sk-parallel-item:only-child::after {width: 0;}div.sk-dashed-wrapped {border: 1px dashed gray;margin: 0.2em;box-sizing: border-box;padding-bottom: 0.1em;background-color: white;position: relative;}div.sk-label label {font-family: monospace;font-weight: bold;background-color: white;display: inline-block;line-height: 1.2em;}div.sk-label-container {position: relative;z-index: 2;text-align: center;}div.sk-container {display: inline-block;position: relative;}</style><div class=\"sk-top-container\"><div class=\"sk-container\"><div class=\"sk-item sk-dashed-wrapped\"><div class=\"sk-label-container\"><div class=\"sk-label sk-toggleable\"><input class=\"sk-toggleable__control sk-hidden--visually\" id=\"8da07a51-284a-4ac7-b1eb-936b60a9b479\" type=\"checkbox\" ><label class=\"sk-toggleable__label\" for=\"8da07a51-284a-4ac7-b1eb-936b60a9b479\">Pipeline</label><div class=\"sk-toggleable__content\"><pre>Pipeline(steps=[('pl',\n",
       "                 Pipeline(steps=[('raw_data_processor',\n",
       "                                  featureUnion(transformer_list=[('pass_name',\n",
       "                                                                  PassNameTransformer()),\n",
       "                                                                 ('ticket',\n",
       "                                                                  TicketTransformer()),\n",
       "                                                                 ('cabin',\n",
       "                                                                  CabinTransformer()),\n",
       "                                                                 ('others',\n",
       "                                                                  ColumnSelectTransformer(columns=['pclass',\n",
       "                                                                                                   'sex',\n",
       "                                                                                                   'age',\n",
       "                                                                                                   'sibsp',\n",
       "                                                                                                   'parch',\n",
       "                                                                                                   'fare',\n",
       "                                                                                                   'embarked']))])),\n",
       "                                 ('lower_text_values', LowerTransformer())])),\n",
       "                ('null_handling...\n",
       "                                                  <sklearn.compose._column_transformer.make_column_selector object at 0x7f9a8814e9d0>),\n",
       "                                                 ('float_features',\n",
       "                                                  simpleImputer(strategy='median'),\n",
       "                                                  <sklearn.compose._column_transformer.make_column_selector object at 0x7f9a8814ea50>),\n",
       "                                                 ('count_features',\n",
       "                                                  simpleImputer(strategy='most_frequent'),\n",
       "                                                  <sklearn.compose._column_transformer.make_column_selector object at 0x7f9a8814ead0>)]))])</pre></div></div></div><div class=\"sk-serial\"><div class=\"sk-item\"><div class=\"sk-label-container\"><div class=\"sk-label sk-toggleable\"><input class=\"sk-toggleable__control sk-hidden--visually\" id=\"c77d0e1d-a7f4-4049-84bf-38c9621ecbd8\" type=\"checkbox\" ><label class=\"sk-toggleable__label\" for=\"c77d0e1d-a7f4-4049-84bf-38c9621ecbd8\">pl: Pipeline</label><div class=\"sk-toggleable__content\"><pre>Pipeline(steps=[('raw_data_processor',\n",
       "                 featureUnion(transformer_list=[('pass_name',\n",
       "                                                 PassNameTransformer()),\n",
       "                                                ('ticket', TicketTransformer()),\n",
       "                                                ('cabin', CabinTransformer()),\n",
       "                                                ('others',\n",
       "                                                 ColumnSelectTransformer(columns=['pclass',\n",
       "                                                                                  'sex',\n",
       "                                                                                  'age',\n",
       "                                                                                  'sibsp',\n",
       "                                                                                  'parch',\n",
       "                                                                                  'fare',\n",
       "                                                                                  'embarked']))])),\n",
       "                ('lower_text_values', LowerTransformer())])</pre></div></div></div><div class=\"sk-serial\"><div class=\"sk-item sk-dashed-wrapped\"><div class=\"sk-label-container\"><div class=\"sk-label sk-toggleable\"><input class=\"sk-toggleable__control sk-hidden--visually\" id=\"81eedc47-00df-44a4-9599-2856ff88ed6f\" type=\"checkbox\" ><label class=\"sk-toggleable__label\" for=\"81eedc47-00df-44a4-9599-2856ff88ed6f\">raw_data_processor: featureUnion</label><div class=\"sk-toggleable__content\"><pre>featureUnion(transformer_list=[('pass_name', PassNameTransformer()),\n",
       "                               ('ticket', TicketTransformer()),\n",
       "                               ('cabin', CabinTransformer()),\n",
       "                               ('others',\n",
       "                                ColumnSelectTransformer(columns=['pclass',\n",
       "                                                                 'sex', 'age',\n",
       "                                                                 'sibsp',\n",
       "                                                                 'parch',\n",
       "                                                                 'fare',\n",
       "                                                                 'embarked']))])</pre></div></div></div><div class=\"sk-parallel\"><div class=\"sk-parallel-item\"><div class=\"sk-item\"><div class=\"sk-label-container\"><div class=\"sk-label sk-toggleable\"><label>pass_name</label></div></div><div class=\"sk-serial\"><div class=\"sk-item\"><div class=\"sk-estimator sk-toggleable\"><input class=\"sk-toggleable__control sk-hidden--visually\" id=\"f02490bf-9d4f-4364-9752-4b45ac9660e9\" type=\"checkbox\" ><label class=\"sk-toggleable__label\" for=\"f02490bf-9d4f-4364-9752-4b45ac9660e9\">PassNameTransformer</label><div class=\"sk-toggleable__content\"><pre>PassNameTransformer()</pre></div></div></div></div></div></div><div class=\"sk-parallel-item\"><div class=\"sk-item\"><div class=\"sk-label-container\"><div class=\"sk-label sk-toggleable\"><label>ticket</label></div></div><div class=\"sk-serial\"><div class=\"sk-item\"><div class=\"sk-estimator sk-toggleable\"><input class=\"sk-toggleable__control sk-hidden--visually\" id=\"1925c5a8-a827-4f38-8e96-de8bcdbc6549\" type=\"checkbox\" ><label class=\"sk-toggleable__label\" for=\"1925c5a8-a827-4f38-8e96-de8bcdbc6549\">TicketTransformer</label><div class=\"sk-toggleable__content\"><pre>TicketTransformer()</pre></div></div></div></div></div></div><div class=\"sk-parallel-item\"><div class=\"sk-item\"><div class=\"sk-label-container\"><div class=\"sk-label sk-toggleable\"><label>cabin</label></div></div><div class=\"sk-serial\"><div class=\"sk-item\"><div class=\"sk-estimator sk-toggleable\"><input class=\"sk-toggleable__control sk-hidden--visually\" id=\"8772773c-137c-4fe0-a2d1-1768e407d82b\" type=\"checkbox\" ><label class=\"sk-toggleable__label\" for=\"8772773c-137c-4fe0-a2d1-1768e407d82b\">CabinTransformer</label><div class=\"sk-toggleable__content\"><pre>CabinTransformer()</pre></div></div></div></div></div></div><div class=\"sk-parallel-item\"><div class=\"sk-item\"><div class=\"sk-label-container\"><div class=\"sk-label sk-toggleable\"><label>others</label></div></div><div class=\"sk-serial\"><div class=\"sk-item\"><div class=\"sk-estimator sk-toggleable\"><input class=\"sk-toggleable__control sk-hidden--visually\" id=\"116f5df3-7c37-418f-87f5-4bde6e65f1c1\" type=\"checkbox\" ><label class=\"sk-toggleable__label\" for=\"116f5df3-7c37-418f-87f5-4bde6e65f1c1\">ColumnSelectTransformer</label><div class=\"sk-toggleable__content\"><pre>ColumnSelectTransformer(columns=['pclass', 'sex', 'age', 'sibsp', 'parch',\n",
       "                                 'fare', 'embarked'])</pre></div></div></div></div></div></div></div></div><div class=\"sk-item\"><div class=\"sk-estimator sk-toggleable\"><input class=\"sk-toggleable__control sk-hidden--visually\" id=\"7b6cabb1-9609-4d99-aeed-152fc0b03868\" type=\"checkbox\" ><label class=\"sk-toggleable__label\" for=\"7b6cabb1-9609-4d99-aeed-152fc0b03868\">LowerTransformer</label><div class=\"sk-toggleable__content\"><pre>LowerTransformer()</pre></div></div></div></div></div><div class=\"sk-item sk-dashed-wrapped\"><div class=\"sk-label-container\"><div class=\"sk-label sk-toggleable\"><input class=\"sk-toggleable__control sk-hidden--visually\" id=\"853bf426-8bc9-43de-b741-76e312d94414\" type=\"checkbox\" ><label class=\"sk-toggleable__label\" for=\"853bf426-8bc9-43de-b741-76e312d94414\">null_handling: columnTransformer</label><div class=\"sk-toggleable__content\"><pre>columnTransformer(remainder='passthrough',\n",
       "                  transformers=[('text_features',\n",
       "                                 simpleImputer(fill_value='unk',\n",
       "                                               missing_values=None,\n",
       "                                               strategy='constant'),\n",
       "                                 <sklearn.compose._column_transformer.make_column_selector object at 0x7f9a8814e9d0>),\n",
       "                                ('float_features',\n",
       "                                 simpleImputer(strategy='median'),\n",
       "                                 <sklearn.compose._column_transformer.make_column_selector object at 0x7f9a8814ea50>),\n",
       "                                ('count_features',\n",
       "                                 simpleImputer(strategy='most_frequent'),\n",
       "                                 <sklearn.compose._column_transformer.make_column_selector object at 0x7f9a8814ead0>)])</pre></div></div></div><div class=\"sk-parallel\"><div class=\"sk-parallel-item\"><div class=\"sk-item\"><div class=\"sk-label-container\"><div class=\"sk-label sk-toggleable\"><input class=\"sk-toggleable__control sk-hidden--visually\" id=\"d5972690-7591-472d-b00b-f8092f191b56\" type=\"checkbox\" ><label class=\"sk-toggleable__label\" for=\"d5972690-7591-472d-b00b-f8092f191b56\">text_features</label><div class=\"sk-toggleable__content\"><pre><sklearn.compose._column_transformer.make_column_selector object at 0x7f9a8814e9d0></pre></div></div></div><div class=\"sk-serial\"><div class=\"sk-item\"><div class=\"sk-estimator sk-toggleable\"><input class=\"sk-toggleable__control sk-hidden--visually\" id=\"7ec631cf-b6a8-4332-a0f3-0b9c07c393af\" type=\"checkbox\" ><label class=\"sk-toggleable__label\" for=\"7ec631cf-b6a8-4332-a0f3-0b9c07c393af\">simpleImputer</label><div class=\"sk-toggleable__content\"><pre>simpleImputer(fill_value='unk', missing_values=None, strategy='constant')</pre></div></div></div></div></div></div><div class=\"sk-parallel-item\"><div class=\"sk-item\"><div class=\"sk-label-container\"><div class=\"sk-label sk-toggleable\"><input class=\"sk-toggleable__control sk-hidden--visually\" id=\"3c28bb85-4cf4-4772-9dd4-d20a6e96c034\" type=\"checkbox\" ><label class=\"sk-toggleable__label\" for=\"3c28bb85-4cf4-4772-9dd4-d20a6e96c034\">float_features</label><div class=\"sk-toggleable__content\"><pre><sklearn.compose._column_transformer.make_column_selector object at 0x7f9a8814ea50></pre></div></div></div><div class=\"sk-serial\"><div class=\"sk-item\"><div class=\"sk-estimator sk-toggleable\"><input class=\"sk-toggleable__control sk-hidden--visually\" id=\"925a4158-c2e0-4680-9779-31ab4d91f73c\" type=\"checkbox\" ><label class=\"sk-toggleable__label\" for=\"925a4158-c2e0-4680-9779-31ab4d91f73c\">simpleImputer</label><div class=\"sk-toggleable__content\"><pre>simpleImputer(strategy='median')</pre></div></div></div></div></div></div><div class=\"sk-parallel-item\"><div class=\"sk-item\"><div class=\"sk-label-container\"><div class=\"sk-label sk-toggleable\"><input class=\"sk-toggleable__control sk-hidden--visually\" id=\"27013d2b-6d58-4d8b-bdb0-d0b49f7be25b\" type=\"checkbox\" ><label class=\"sk-toggleable__label\" for=\"27013d2b-6d58-4d8b-bdb0-d0b49f7be25b\">count_features</label><div class=\"sk-toggleable__content\"><pre><sklearn.compose._column_transformer.make_column_selector object at 0x7f9a8814ead0></pre></div></div></div><div class=\"sk-serial\"><div class=\"sk-item\"><div class=\"sk-estimator sk-toggleable\"><input class=\"sk-toggleable__control sk-hidden--visually\" id=\"e24df7b6-90de-488a-90fb-c4cc3ae72c03\" type=\"checkbox\" ><label class=\"sk-toggleable__label\" for=\"e24df7b6-90de-488a-90fb-c4cc3ae72c03\">simpleImputer</label><div class=\"sk-toggleable__content\"><pre>simpleImputer(strategy='most_frequent')</pre></div></div></div></div></div></div><div class=\"sk-parallel-item\"><div class=\"sk-item\"><div class=\"sk-label-container\"><div class=\"sk-label sk-toggleable\"><input class=\"sk-toggleable__control sk-hidden--visually\" id=\"1c7450f8-2f51-4aec-b0e8-c71a751bd738\" type=\"checkbox\" ><label class=\"sk-toggleable__label\" for=\"1c7450f8-2f51-4aec-b0e8-c71a751bd738\">remainder</label><div class=\"sk-toggleable__content\"><pre></pre></div></div></div><div class=\"sk-serial\"><div class=\"sk-item\"><div class=\"sk-estimator sk-toggleable\"><input class=\"sk-toggleable__control sk-hidden--visually\" id=\"d3f6446b-6fa9-46ff-9734-f35e50bc1de0\" type=\"checkbox\" ><label class=\"sk-toggleable__label\" for=\"d3f6446b-6fa9-46ff-9734-f35e50bc1de0\">passthrough</label><div class=\"sk-toggleable__content\"><pre>passthrough</pre></div></div></div></div></div></div></div></div></div></div></div></div>"
      ],
      "text/plain": [
       "Pipeline(steps=[('pl',\n",
       "                 Pipeline(steps=[('raw_data_processor',\n",
       "                                  featureUnion(transformer_list=[('pass_name',\n",
       "                                                                  PassNameTransformer()),\n",
       "                                                                 ('ticket',\n",
       "                                                                  TicketTransformer()),\n",
       "                                                                 ('cabin',\n",
       "                                                                  CabinTransformer()),\n",
       "                                                                 ('others',\n",
       "                                                                  ColumnSelectTransformer(columns=['pclass',\n",
       "                                                                                                   'sex',\n",
       "                                                                                                   'age',\n",
       "                                                                                                   'sibsp',\n",
       "                                                                                                   'parch',\n",
       "                                                                                                   'fare',\n",
       "                                                                                                   'embarked']))])),\n",
       "                                 ('lower_text_values', LowerTransformer())])),\n",
       "                ('null_handling...\n",
       "                                                  <sklearn.compose._column_transformer.make_column_selector object at 0x7f9a8814e9d0>),\n",
       "                                                 ('float_features',\n",
       "                                                  simpleImputer(strategy='median'),\n",
       "                                                  <sklearn.compose._column_transformer.make_column_selector object at 0x7f9a8814ea50>),\n",
       "                                                 ('count_features',\n",
       "                                                  simpleImputer(strategy='most_frequent'),\n",
       "                                                  <sklearn.compose._column_transformer.make_column_selector object at 0x7f9a8814ead0>)]))])"
      ]
     },
     "execution_count": 279,
     "metadata": {},
     "output_type": "execute_result"
    }
   ],
   "source": [
    "pl_simple"
   ]
  },
  {
   "cell_type": "code",
   "execution_count": 280,
   "metadata": {},
   "outputs": [
    {
     "name": "stdout",
     "output_type": "stream",
     "text": [
      "====Converting columns types====\n"
     ]
    },
    {
     "data": {
      "application/vnd.jupyter.widget-view+json": {
       "model_id": "76eb48c2aaad46c2aa6834032afd7641",
       "version_major": 2,
       "version_minor": 0
      },
      "text/plain": [
       "0it [00:00, ?it/s]"
      ]
     },
     "metadata": {},
     "output_type": "display_data"
    },
    {
     "data": {
      "application/vnd.jupyter.widget-view+json": {
       "model_id": "39ef9aa308194036a54e82d1c50020ee",
       "version_major": 2,
       "version_minor": 0
      },
      "text/plain": [
       "0it [00:00, ?it/s]"
      ]
     },
     "metadata": {},
     "output_type": "display_data"
    },
    {
     "data": {
      "application/vnd.jupyter.widget-view+json": {
       "model_id": "19dcd856d136408c8329c50685c6b93c",
       "version_major": 2,
       "version_minor": 0
      },
      "text/plain": [
       "0it [00:00, ?it/s]"
      ]
     },
     "metadata": {},
     "output_type": "display_data"
    },
    {
     "data": {
      "application/vnd.jupyter.widget-view+json": {
       "model_id": "93fb0f0d80ef4951ba3b8df361989c73",
       "version_major": 2,
       "version_minor": 0
      },
      "text/plain": [
       "0it [00:00, ?it/s]"
      ]
     },
     "metadata": {},
     "output_type": "display_data"
    },
    {
     "name": "stdout",
     "output_type": "stream",
     "text": [
      "[['surname', 'forename', 'ticket_str', 'cabin_str', 'sex', 'embarked'], ['ticket_num', 'cabin_num', 'age', 'fare'], ['pclass', 'sibsp', 'parch']]\n",
      "[(100000, 6), (100000, 4), (100000, 3)]\n",
      "====Converting columns types====\n"
     ]
    },
    {
     "data": {
      "application/vnd.jupyter.widget-view+json": {
       "model_id": "14c98f3c00fb485384c966250ad02f0f",
       "version_major": 2,
       "version_minor": 0
      },
      "text/plain": [
       "0it [00:00, ?it/s]"
      ]
     },
     "metadata": {},
     "output_type": "display_data"
    }
   ],
   "source": [
    "df3 = pl_simple.fit_transform(X_train)"
   ]
  },
  {
   "cell_type": "code",
   "execution_count": 281,
   "metadata": {},
   "outputs": [
    {
     "data": {
      "text/html": [
       "<div>\n",
       "<style scoped>\n",
       "    .dataframe tbody tr th:only-of-type {\n",
       "        vertical-align: middle;\n",
       "    }\n",
       "\n",
       "    .dataframe tbody tr th {\n",
       "        vertical-align: top;\n",
       "    }\n",
       "\n",
       "    .dataframe thead th {\n",
       "        text-align: right;\n",
       "    }\n",
       "</style>\n",
       "<table border=\"1\" class=\"dataframe\">\n",
       "  <thead>\n",
       "    <tr style=\"text-align: right;\">\n",
       "      <th></th>\n",
       "      <th>surname</th>\n",
       "      <th>forename</th>\n",
       "      <th>ticket_str</th>\n",
       "      <th>cabin_str</th>\n",
       "      <th>sex</th>\n",
       "      <th>embarked</th>\n",
       "      <th>ticket_num</th>\n",
       "      <th>cabin_num</th>\n",
       "      <th>age</th>\n",
       "      <th>fare</th>\n",
       "      <th>pclass</th>\n",
       "      <th>sibsp</th>\n",
       "      <th>parch</th>\n",
       "    </tr>\n",
       "  </thead>\n",
       "  <tbody>\n",
       "    <tr>\n",
       "      <th>0</th>\n",
       "      <td>oconnor</td>\n",
       "      <td>frankie</td>\n",
       "      <td>unk</td>\n",
       "      <td>c</td>\n",
       "      <td>male</td>\n",
       "      <td>s</td>\n",
       "      <td>209245.0</td>\n",
       "      <td>12239.0</td>\n",
       "      <td>39.00</td>\n",
       "      <td>27.14</td>\n",
       "      <td>1</td>\n",
       "      <td>2</td>\n",
       "      <td>0</td>\n",
       "    </tr>\n",
       "    <tr>\n",
       "      <th>1</th>\n",
       "      <td>bryan</td>\n",
       "      <td>drew</td>\n",
       "      <td>unk</td>\n",
       "      <td>unk</td>\n",
       "      <td>male</td>\n",
       "      <td>s</td>\n",
       "      <td>27323.0</td>\n",
       "      <td>12603.5</td>\n",
       "      <td>39.00</td>\n",
       "      <td>13.35</td>\n",
       "      <td>3</td>\n",
       "      <td>0</td>\n",
       "      <td>0</td>\n",
       "    </tr>\n",
       "    <tr>\n",
       "      <th>2</th>\n",
       "      <td>owens</td>\n",
       "      <td>kenneth</td>\n",
       "      <td>ca</td>\n",
       "      <td>unk</td>\n",
       "      <td>male</td>\n",
       "      <td>s</td>\n",
       "      <td>39185.5</td>\n",
       "      <td>12603.5</td>\n",
       "      <td>0.33</td>\n",
       "      <td>71.29</td>\n",
       "      <td>3</td>\n",
       "      <td>1</td>\n",
       "      <td>2</td>\n",
       "    </tr>\n",
       "    <tr>\n",
       "      <th>3</th>\n",
       "      <td>kramer</td>\n",
       "      <td>james</td>\n",
       "      <td>a.</td>\n",
       "      <td>unk</td>\n",
       "      <td>male</td>\n",
       "      <td>s</td>\n",
       "      <td>39185.5</td>\n",
       "      <td>12603.5</td>\n",
       "      <td>19.00</td>\n",
       "      <td>13.04</td>\n",
       "      <td>3</td>\n",
       "      <td>0</td>\n",
       "      <td>0</td>\n",
       "    </tr>\n",
       "    <tr>\n",
       "      <th>4</th>\n",
       "      <td>bond</td>\n",
       "      <td>michael</td>\n",
       "      <td>unk</td>\n",
       "      <td>unk</td>\n",
       "      <td>male</td>\n",
       "      <td>s</td>\n",
       "      <td>427635.0</td>\n",
       "      <td>12603.5</td>\n",
       "      <td>25.00</td>\n",
       "      <td>7.76</td>\n",
       "      <td>3</td>\n",
       "      <td>0</td>\n",
       "      <td>0</td>\n",
       "    </tr>\n",
       "    <tr>\n",
       "      <th>...</th>\n",
       "      <td>...</td>\n",
       "      <td>...</td>\n",
       "      <td>...</td>\n",
       "      <td>...</td>\n",
       "      <td>...</td>\n",
       "      <td>...</td>\n",
       "      <td>...</td>\n",
       "      <td>...</td>\n",
       "      <td>...</td>\n",
       "      <td>...</td>\n",
       "      <td>...</td>\n",
       "      <td>...</td>\n",
       "      <td>...</td>\n",
       "    </tr>\n",
       "    <tr>\n",
       "      <th>99995</th>\n",
       "      <td>bell</td>\n",
       "      <td>adele</td>\n",
       "      <td>pc</td>\n",
       "      <td>d</td>\n",
       "      <td>female</td>\n",
       "      <td>c</td>\n",
       "      <td>39185.5</td>\n",
       "      <td>17243.0</td>\n",
       "      <td>62.00</td>\n",
       "      <td>14.86</td>\n",
       "      <td>2</td>\n",
       "      <td>0</td>\n",
       "      <td>0</td>\n",
       "    </tr>\n",
       "    <tr>\n",
       "      <th>99996</th>\n",
       "      <td>brown</td>\n",
       "      <td>herman</td>\n",
       "      <td>unk</td>\n",
       "      <td>unk</td>\n",
       "      <td>male</td>\n",
       "      <td>s</td>\n",
       "      <td>13273.0</td>\n",
       "      <td>12603.5</td>\n",
       "      <td>66.00</td>\n",
       "      <td>11.15</td>\n",
       "      <td>2</td>\n",
       "      <td>0</td>\n",
       "      <td>0</td>\n",
       "    </tr>\n",
       "    <tr>\n",
       "      <th>99997</th>\n",
       "      <td>childress</td>\n",
       "      <td>charles</td>\n",
       "      <td>unk</td>\n",
       "      <td>unk</td>\n",
       "      <td>male</td>\n",
       "      <td>s</td>\n",
       "      <td>39185.5</td>\n",
       "      <td>12603.5</td>\n",
       "      <td>37.00</td>\n",
       "      <td>9.95</td>\n",
       "      <td>3</td>\n",
       "      <td>0</td>\n",
       "      <td>0</td>\n",
       "    </tr>\n",
       "    <tr>\n",
       "      <th>99998</th>\n",
       "      <td>caughlin</td>\n",
       "      <td>thomas</td>\n",
       "      <td>unk</td>\n",
       "      <td>unk</td>\n",
       "      <td>male</td>\n",
       "      <td>s</td>\n",
       "      <td>458654.0</td>\n",
       "      <td>12603.5</td>\n",
       "      <td>51.00</td>\n",
       "      <td>30.92</td>\n",
       "      <td>3</td>\n",
       "      <td>0</td>\n",
       "      <td>1</td>\n",
       "    </tr>\n",
       "    <tr>\n",
       "      <th>99999</th>\n",
       "      <td>enciso</td>\n",
       "      <td>tyler</td>\n",
       "      <td>unk</td>\n",
       "      <td>unk</td>\n",
       "      <td>male</td>\n",
       "      <td>s</td>\n",
       "      <td>458074.0</td>\n",
       "      <td>12603.5</td>\n",
       "      <td>55.00</td>\n",
       "      <td>13.96</td>\n",
       "      <td>3</td>\n",
       "      <td>0</td>\n",
       "      <td>0</td>\n",
       "    </tr>\n",
       "  </tbody>\n",
       "</table>\n",
       "<p>100000 rows × 13 columns</p>\n",
       "</div>"
      ],
      "text/plain": [
       "         surname  forename ticket_str cabin_str     sex embarked  ticket_num  \\\n",
       "0        oconnor   frankie        unk         c    male        s    209245.0   \n",
       "1          bryan      drew        unk       unk    male        s     27323.0   \n",
       "2          owens   kenneth         ca       unk    male        s     39185.5   \n",
       "3         kramer     james         a.       unk    male        s     39185.5   \n",
       "4           bond   michael        unk       unk    male        s    427635.0   \n",
       "...          ...       ...        ...       ...     ...      ...         ...   \n",
       "99995       bell     adele         pc         d  female        c     39185.5   \n",
       "99996      brown    herman        unk       unk    male        s     13273.0   \n",
       "99997  childress   charles        unk       unk    male        s     39185.5   \n",
       "99998   caughlin    thomas        unk       unk    male        s    458654.0   \n",
       "99999     enciso     tyler        unk       unk    male        s    458074.0   \n",
       "\n",
       "       cabin_num    age   fare  pclass  sibsp  parch  \n",
       "0        12239.0  39.00  27.14       1      2      0  \n",
       "1        12603.5  39.00  13.35       3      0      0  \n",
       "2        12603.5   0.33  71.29       3      1      2  \n",
       "3        12603.5  19.00  13.04       3      0      0  \n",
       "4        12603.5  25.00   7.76       3      0      0  \n",
       "...          ...    ...    ...     ...    ...    ...  \n",
       "99995    17243.0  62.00  14.86       2      0      0  \n",
       "99996    12603.5  66.00  11.15       2      0      0  \n",
       "99997    12603.5  37.00   9.95       3      0      0  \n",
       "99998    12603.5  51.00  30.92       3      0      1  \n",
       "99999    12603.5  55.00  13.96       3      0      0  \n",
       "\n",
       "[100000 rows x 13 columns]"
      ]
     },
     "execution_count": 281,
     "metadata": {},
     "output_type": "execute_result"
    }
   ],
   "source": [
    "df3"
   ]
  },
  {
   "cell_type": "code",
   "execution_count": 282,
   "metadata": {},
   "outputs": [],
   "source": [
    "class PipelineLogger(object):\n",
    "    def __init__(self):\n",
    "        pass\n",
    "        \n",
    "    def log_start(self):\n",
    "        self.start_time = time()\n",
    "        print(f'======== {self.__class__.__name__} - START ========')\n",
    "        return None\n",
    "        \n",
    "    def log_finish(self):\n",
    "        self.duration = time() - self.start_time\n",
    "        print(f'======== {self.__class__.__name__} - FINISH =======> Take: {self.duration:.6f}(s)')\n",
    "\n",
    "\n",
    "class ExperimentBase(BaseEstimator):\n",
    "    def evaluate(self, X_test, y_test):\n",
    "        print('Evaluating model')\n",
    "        print(classification_report(y_true=y_test, y_pred=self.predict(X_test)))\n",
    "        metrics = self.auc_report(X_test, y_test)\n",
    "        metrics['precision'], metrics['recall'], metrics['f1_score'], metrics['support'] = precision_recall_fscore_support(y_test, self.predict(X_test))\n",
    "        return metrics\n",
    "    \n",
    "    def auc_report(self, X, y_true):\n",
    "        classes = self.classes_\n",
    "        y_pred_classes = self.predict_proba(X)\n",
    "        n_classes = len(classes)\n",
    "\n",
    "        lw = 2\n",
    "        for i in range(len(classes)):\n",
    "            print(f\"\"\"{classes[i]}: {roc_auc_score(y_true=(y_true==classes[i]).astype(int), y_score=y_pred_classes[:,i])}\"\"\")\n",
    "\n",
    "        # Compute ROC curve and ROC area for each class\n",
    "        fpr = dict()\n",
    "        tpr = dict()\n",
    "        roc_auc = dict()\n",
    "\n",
    "        for i in range(n_classes):\n",
    "            fpr[i], tpr[i], _ = roc_curve(y_true=(y_true==classes[i]).astype(int), y_score=y_pred_classes[:,i])\n",
    "            roc_auc[i] = auc(fpr[i], tpr[i])\n",
    "\n",
    "        all_fpr = np.unique(np.concatenate([fpr[i] for i in range(len(classes))]))\n",
    "\n",
    "        # Then interpolate all ROC curves at this points\n",
    "        mean_tpr = np.zeros_like(all_fpr)\n",
    "        for i in range(len(classes)):\n",
    "            mean_tpr += interp(all_fpr, fpr[i], tpr[i])\n",
    "\n",
    "        # Finally average it and compute AUC\n",
    "        mean_tpr /= n_classes\n",
    "\n",
    "        fpr[\"macro\"] = all_fpr\n",
    "        tpr[\"macro\"] = mean_tpr\n",
    "        roc_auc[\"macro\"] = auc(fpr[\"macro\"], tpr[\"macro\"])\n",
    "\n",
    "        # Plot all ROC curves\n",
    "        plt.figure()\n",
    "\n",
    "        plt.plot(fpr[\"macro\"], tpr[\"macro\"],\n",
    "                 label='macro-average ROC curve (area = {0:0.2f})'\n",
    "                       ''.format(roc_auc[\"macro\"]),\n",
    "                 color='navy', linestyle=':', linewidth=4)\n",
    "\n",
    "        colors = cycle(['aqua', 'darkorange', 'cornflowerblue'])\n",
    "        for i, color in zip(range(n_classes), colors):\n",
    "            plt.plot(fpr[i], tpr[i], color=color, lw=lw,\n",
    "                     label='ROC curve of class {0} (area = {1:0.2f})'\n",
    "                     ''.format(classes[i], roc_auc[i]))\n",
    "\n",
    "        plt.plot([0, 1], [0, 1], 'k--', lw=lw)\n",
    "        plt.xlim([0.0, 1.0])\n",
    "        plt.ylim([0.0, 1.05])\n",
    "        plt.xlabel('False Positive Rate')\n",
    "        plt.ylabel('True Positive Rate')\n",
    "        plt.title('Some extension of Receiver operating characteristic to multi-class')\n",
    "        plt.legend(loc=\"lower right\")\n",
    "        plt.show()\n",
    "        metrics = {\n",
    "            'macro_auc': roc_auc[\"macro\"]\n",
    "        }\n",
    "        for i in range(n_classes):\n",
    "            metrics[f'auc_{classes[i]}'] = roc_auc[i]\n",
    "        return metrics\n"
   ]
  },
  {
   "cell_type": "code",
   "execution_count": 283,
   "metadata": {},
   "outputs": [],
   "source": [
    "class CustomCatBoostClassifier(CatBoostClassifier, ExperimentBase, PipelineLogger):\n",
    "    def __init__(self, *args, **kwargs):\n",
    "        super().__init__(*args, **kwargs)\n",
    "        \n",
    "    def fit(self, X, y, self_evaluate=True, **kwargs):\n",
    "        self.log_start()\n",
    "        if self._init_params.get('cat_features') is not None:\n",
    "            cat_features_ = [c for c in self._init_params['cat_features'] if c in X.columns]\n",
    "            self._init_params['cat_features'] = cat_features_\n",
    "        else:\n",
    "            cat_features_ = None\n",
    "        if self._init_params.get('text_features') is not None:\n",
    "            text_features_ = [c for c in self._init_params['text_features'] if c in X.columns]\n",
    "            self._init_params['text_features'] = text_features_\n",
    "        else:\n",
    "            text_features_ = None\n",
    "        \n",
    "        X_t, X_e, y_t, y_e = self.train_eval_split(X, y, cat_features_, text_features_)\n",
    "        super().fit(X_t, y_t, eval_set=(X_e, y_e), cat_features=cat_features_, text_features=text_features_)\n",
    "        if self_evaluate:\n",
    "            _ = self.evaluate(X_e, y_e)\n",
    "        self.log_finish()\n",
    "        return self\n",
    "        \n",
    "    def train_eval_split(self, X, y, cat_features_, text_features_, eval_frac=0.1, add_na_Xy=False, na_label=0):\n",
    "        X_e = X.sample(frac=eval_frac, random_state=42)\n",
    "        y_e = y.loc[X_e.index]\n",
    "        X_t = X.drop(X_e.index)\n",
    "        y_t = y.loc[X_t.index]\n",
    "        if add_na_Xy:\n",
    "            X_t = pd.concat([X_t, pd.DataFrame([[np.nan] * X_t.shape[1]], columns=X_t.columns)], ignore_index=True)\n",
    "            y_t = pd.concat([y_t, pd.Series([na_label])], ignore_index=True)\n",
    "        if cat_features_ is not None:\n",
    "            cat_features_ = [c for c in cat_features_ if c in X.columns]\n",
    "            X_t[cat_features_] = X_t[cat_features_].fillna('unk')\n",
    "            X_e[cat_features_] = X_e[cat_features_].fillna('unk')\n",
    "        if text_features_ is not None:\n",
    "            text_features_ = [c for c in text_features_ if c in X.columns]\n",
    "            X_t[text_features_] = X_t[text_features_].fillna('unk')\n",
    "            X_e[text_features_] = X_e[text_features_].fillna('unk')\n",
    "        \n",
    "        return X_t, X_e, y_t, y_e\n"
   ]
  },
  {
   "cell_type": "code",
   "execution_count": 284,
   "metadata": {},
   "outputs": [
    {
     "data": {
      "text/html": [
       "<div>\n",
       "<style scoped>\n",
       "    .dataframe tbody tr th:only-of-type {\n",
       "        vertical-align: middle;\n",
       "    }\n",
       "\n",
       "    .dataframe tbody tr th {\n",
       "        vertical-align: top;\n",
       "    }\n",
       "\n",
       "    .dataframe thead th {\n",
       "        text-align: right;\n",
       "    }\n",
       "</style>\n",
       "<table border=\"1\" class=\"dataframe\">\n",
       "  <thead>\n",
       "    <tr style=\"text-align: right;\">\n",
       "      <th></th>\n",
       "      <th>surname</th>\n",
       "      <th>forename</th>\n",
       "      <th>ticket_str</th>\n",
       "      <th>cabin_str</th>\n",
       "      <th>sex</th>\n",
       "      <th>embarked</th>\n",
       "      <th>ticket_num</th>\n",
       "      <th>cabin_num</th>\n",
       "      <th>age</th>\n",
       "      <th>fare</th>\n",
       "      <th>pclass</th>\n",
       "      <th>sibsp</th>\n",
       "      <th>parch</th>\n",
       "    </tr>\n",
       "  </thead>\n",
       "  <tbody>\n",
       "    <tr>\n",
       "      <th>0</th>\n",
       "      <td>oconnor</td>\n",
       "      <td>frankie</td>\n",
       "      <td>unk</td>\n",
       "      <td>c</td>\n",
       "      <td>male</td>\n",
       "      <td>s</td>\n",
       "      <td>209245.0</td>\n",
       "      <td>12239.0</td>\n",
       "      <td>39.0</td>\n",
       "      <td>27.14</td>\n",
       "      <td>1</td>\n",
       "      <td>2</td>\n",
       "      <td>0</td>\n",
       "    </tr>\n",
       "    <tr>\n",
       "      <th>1</th>\n",
       "      <td>bryan</td>\n",
       "      <td>drew</td>\n",
       "      <td>unk</td>\n",
       "      <td>unk</td>\n",
       "      <td>male</td>\n",
       "      <td>s</td>\n",
       "      <td>27323.0</td>\n",
       "      <td>12603.5</td>\n",
       "      <td>39.0</td>\n",
       "      <td>13.35</td>\n",
       "      <td>3</td>\n",
       "      <td>0</td>\n",
       "      <td>0</td>\n",
       "    </tr>\n",
       "  </tbody>\n",
       "</table>\n",
       "</div>"
      ],
      "text/plain": [
       "   surname  forename ticket_str cabin_str   sex embarked  ticket_num  \\\n",
       "0  oconnor   frankie        unk         c  male        s    209245.0   \n",
       "1    bryan      drew        unk       unk  male        s     27323.0   \n",
       "\n",
       "   cabin_num   age   fare  pclass  sibsp  parch  \n",
       "0    12239.0  39.0  27.14       1      2      0  \n",
       "1    12603.5  39.0  13.35       3      0      0  "
      ]
     },
     "execution_count": 284,
     "metadata": {},
     "output_type": "execute_result"
    }
   ],
   "source": [
    "df3.head(2)"
   ]
  },
  {
   "cell_type": "code",
   "execution_count": 285,
   "metadata": {},
   "outputs": [],
   "source": [
    "cat_features = ['ticket_str', 'cabin_str', 'embarked', 'sex'] + ['surname', 'forename']\n",
    "# text_features = \n",
    "cb_cfg = {\n",
    "    'iterations': 1000,\n",
    "    'task_type': 'CPU',\n",
    "    'cat_features': cat_features,\n",
    "#     'text_features': text_features,\n",
    "    'use_best_model': True,\n",
    "    'early_stopping_rounds':50,\n",
    "    'verbose': True,\n",
    "    'metric_period': 25\n",
    "}"
   ]
  },
  {
   "cell_type": "code",
   "execution_count": 286,
   "metadata": {},
   "outputs": [
    {
     "data": {
      "text/html": [
       "<style>div.sk-top-container {color: black;background-color: white;}div.sk-toggleable {background-color: white;}label.sk-toggleable__label {cursor: pointer;display: block;width: 100%;margin-bottom: 0;padding: 0.2em 0.3em;box-sizing: border-box;text-align: center;}div.sk-toggleable__content {max-height: 0;max-width: 0;overflow: hidden;text-align: left;background-color: #f0f8ff;}div.sk-toggleable__content pre {margin: 0.2em;color: black;border-radius: 0.25em;background-color: #f0f8ff;}input.sk-toggleable__control:checked~div.sk-toggleable__content {max-height: 200px;max-width: 100%;overflow: auto;}div.sk-estimator input.sk-toggleable__control:checked~label.sk-toggleable__label {background-color: #d4ebff;}div.sk-label input.sk-toggleable__control:checked~label.sk-toggleable__label {background-color: #d4ebff;}input.sk-hidden--visually {border: 0;clip: rect(1px 1px 1px 1px);clip: rect(1px, 1px, 1px, 1px);height: 1px;margin: -1px;overflow: hidden;padding: 0;position: absolute;width: 1px;}div.sk-estimator {font-family: monospace;background-color: #f0f8ff;margin: 0.25em 0.25em;border: 1px dotted black;border-radius: 0.25em;box-sizing: border-box;}div.sk-estimator:hover {background-color: #d4ebff;}div.sk-parallel-item::after {content: \"\";width: 100%;border-bottom: 1px solid gray;flex-grow: 1;}div.sk-label:hover label.sk-toggleable__label {background-color: #d4ebff;}div.sk-serial::before {content: \"\";position: absolute;border-left: 1px solid gray;box-sizing: border-box;top: 2em;bottom: 0;left: 50%;}div.sk-serial {display: flex;flex-direction: column;align-items: center;background-color: white;}div.sk-item {z-index: 1;}div.sk-parallel {display: flex;align-items: stretch;justify-content: center;background-color: white;}div.sk-parallel-item {display: flex;flex-direction: column;position: relative;background-color: white;}div.sk-parallel-item:first-child::after {align-self: flex-end;width: 50%;}div.sk-parallel-item:last-child::after {align-self: flex-start;width: 50%;}div.sk-parallel-item:only-child::after {width: 0;}div.sk-dashed-wrapped {border: 1px dashed gray;margin: 0.2em;box-sizing: border-box;padding-bottom: 0.1em;background-color: white;position: relative;}div.sk-label label {font-family: monospace;font-weight: bold;background-color: white;display: inline-block;line-height: 1.2em;}div.sk-label-container {position: relative;z-index: 2;text-align: center;}div.sk-container {display: inline-block;position: relative;}</style><div class=\"sk-top-container\"><div class=\"sk-container\"><div class=\"sk-item sk-dashed-wrapped\"><div class=\"sk-label-container\"><div class=\"sk-label sk-toggleable\"><input class=\"sk-toggleable__control sk-hidden--visually\" id=\"09293b01-81d7-49da-8dd7-9bf505c41d85\" type=\"checkbox\" ><label class=\"sk-toggleable__label\" for=\"09293b01-81d7-49da-8dd7-9bf505c41d85\">Pipeline</label><div class=\"sk-toggleable__content\"><pre>Pipeline(steps=[('pl_simple',\n",
       "                 Pipeline(steps=[('pl',\n",
       "                                  Pipeline(steps=[('raw_data_processor',\n",
       "                                                   featureUnion(transformer_list=[('pass_name',\n",
       "                                                                                   PassNameTransformer()),\n",
       "                                                                                  ('ticket',\n",
       "                                                                                   TicketTransformer()),\n",
       "                                                                                  ('cabin',\n",
       "                                                                                   CabinTransformer()),\n",
       "                                                                                  ('others',\n",
       "                                                                                   ColumnSelectTransformer(columns=['pclass',\n",
       "                                                                                                                    'sex',\n",
       "                                                                                                                    'age',\n",
       "                                                                                                                    'sibsp',\n",
       "                                                                                                                    'parch',\n",
       "                                                                                                                    'fare',\n",
       "                                                                                                                    'embarked']))])),\n",
       "                                                  ('lower_text_values',\n",
       "                                                   LowerTran...\n",
       "                                                                   simpleImputer(strategy='most_frequent'),\n",
       "                                                                   <sklearn.compose._column_transformer.make_column_selector object at 0x7f9a8814ead0>)]))])),\n",
       "                ('catboost_simple',\n",
       "                 CustomCatBoostClassifier(cat_features=['ticket_str',\n",
       "                                                        'cabin_str', 'embarked',\n",
       "                                                        'sex', 'surname',\n",
       "                                                        'forename'],\n",
       "                                          early_stopping_rounds=50,\n",
       "                                          iterations=1000, metric_period=25,\n",
       "                                          task_type='CPU', use_best_model=True,\n",
       "                                          verbose=True))])</pre></div></div></div><div class=\"sk-serial\"><div class=\"sk-item\"><div class=\"sk-label-container\"><div class=\"sk-label sk-toggleable\"><input class=\"sk-toggleable__control sk-hidden--visually\" id=\"3b00875f-1a5c-498c-924e-8f294e96df1b\" type=\"checkbox\" ><label class=\"sk-toggleable__label\" for=\"3b00875f-1a5c-498c-924e-8f294e96df1b\">pl_simple: Pipeline</label><div class=\"sk-toggleable__content\"><pre>Pipeline(steps=[('pl',\n",
       "                 Pipeline(steps=[('raw_data_processor',\n",
       "                                  featureUnion(transformer_list=[('pass_name',\n",
       "                                                                  PassNameTransformer()),\n",
       "                                                                 ('ticket',\n",
       "                                                                  TicketTransformer()),\n",
       "                                                                 ('cabin',\n",
       "                                                                  CabinTransformer()),\n",
       "                                                                 ('others',\n",
       "                                                                  ColumnSelectTransformer(columns=['pclass',\n",
       "                                                                                                   'sex',\n",
       "                                                                                                   'age',\n",
       "                                                                                                   'sibsp',\n",
       "                                                                                                   'parch',\n",
       "                                                                                                   'fare',\n",
       "                                                                                                   'embarked']))])),\n",
       "                                 ('lower_text_values', LowerTransformer())])),\n",
       "                ('null_handling...\n",
       "                                                  <sklearn.compose._column_transformer.make_column_selector object at 0x7f9a8814e9d0>),\n",
       "                                                 ('float_features',\n",
       "                                                  simpleImputer(strategy='median'),\n",
       "                                                  <sklearn.compose._column_transformer.make_column_selector object at 0x7f9a8814ea50>),\n",
       "                                                 ('count_features',\n",
       "                                                  simpleImputer(strategy='most_frequent'),\n",
       "                                                  <sklearn.compose._column_transformer.make_column_selector object at 0x7f9a8814ead0>)]))])</pre></div></div></div><div class=\"sk-serial\"><div class=\"sk-item\"><div class=\"sk-label-container\"><div class=\"sk-label sk-toggleable\"><input class=\"sk-toggleable__control sk-hidden--visually\" id=\"59a38287-8c44-4dd9-9f78-baf1f1dcabdf\" type=\"checkbox\" ><label class=\"sk-toggleable__label\" for=\"59a38287-8c44-4dd9-9f78-baf1f1dcabdf\">pl: Pipeline</label><div class=\"sk-toggleable__content\"><pre>Pipeline(steps=[('raw_data_processor',\n",
       "                 featureUnion(transformer_list=[('pass_name',\n",
       "                                                 PassNameTransformer()),\n",
       "                                                ('ticket', TicketTransformer()),\n",
       "                                                ('cabin', CabinTransformer()),\n",
       "                                                ('others',\n",
       "                                                 ColumnSelectTransformer(columns=['pclass',\n",
       "                                                                                  'sex',\n",
       "                                                                                  'age',\n",
       "                                                                                  'sibsp',\n",
       "                                                                                  'parch',\n",
       "                                                                                  'fare',\n",
       "                                                                                  'embarked']))])),\n",
       "                ('lower_text_values', LowerTransformer())])</pre></div></div></div><div class=\"sk-serial\"><div class=\"sk-item sk-dashed-wrapped\"><div class=\"sk-label-container\"><div class=\"sk-label sk-toggleable\"><input class=\"sk-toggleable__control sk-hidden--visually\" id=\"7f12c0ce-114c-45e9-8917-b25aba9852fc\" type=\"checkbox\" ><label class=\"sk-toggleable__label\" for=\"7f12c0ce-114c-45e9-8917-b25aba9852fc\">raw_data_processor: featureUnion</label><div class=\"sk-toggleable__content\"><pre>featureUnion(transformer_list=[('pass_name', PassNameTransformer()),\n",
       "                               ('ticket', TicketTransformer()),\n",
       "                               ('cabin', CabinTransformer()),\n",
       "                               ('others',\n",
       "                                ColumnSelectTransformer(columns=['pclass',\n",
       "                                                                 'sex', 'age',\n",
       "                                                                 'sibsp',\n",
       "                                                                 'parch',\n",
       "                                                                 'fare',\n",
       "                                                                 'embarked']))])</pre></div></div></div><div class=\"sk-parallel\"><div class=\"sk-parallel-item\"><div class=\"sk-item\"><div class=\"sk-label-container\"><div class=\"sk-label sk-toggleable\"><label>pass_name</label></div></div><div class=\"sk-serial\"><div class=\"sk-item\"><div class=\"sk-estimator sk-toggleable\"><input class=\"sk-toggleable__control sk-hidden--visually\" id=\"37be67c6-9a38-43cb-a045-96ead8162986\" type=\"checkbox\" ><label class=\"sk-toggleable__label\" for=\"37be67c6-9a38-43cb-a045-96ead8162986\">PassNameTransformer</label><div class=\"sk-toggleable__content\"><pre>PassNameTransformer()</pre></div></div></div></div></div></div><div class=\"sk-parallel-item\"><div class=\"sk-item\"><div class=\"sk-label-container\"><div class=\"sk-label sk-toggleable\"><label>ticket</label></div></div><div class=\"sk-serial\"><div class=\"sk-item\"><div class=\"sk-estimator sk-toggleable\"><input class=\"sk-toggleable__control sk-hidden--visually\" id=\"90d747a1-c046-4eaa-acdd-0241494917a0\" type=\"checkbox\" ><label class=\"sk-toggleable__label\" for=\"90d747a1-c046-4eaa-acdd-0241494917a0\">TicketTransformer</label><div class=\"sk-toggleable__content\"><pre>TicketTransformer()</pre></div></div></div></div></div></div><div class=\"sk-parallel-item\"><div class=\"sk-item\"><div class=\"sk-label-container\"><div class=\"sk-label sk-toggleable\"><label>cabin</label></div></div><div class=\"sk-serial\"><div class=\"sk-item\"><div class=\"sk-estimator sk-toggleable\"><input class=\"sk-toggleable__control sk-hidden--visually\" id=\"5fab06d5-8171-4b9b-8b70-2cc4026afdad\" type=\"checkbox\" ><label class=\"sk-toggleable__label\" for=\"5fab06d5-8171-4b9b-8b70-2cc4026afdad\">CabinTransformer</label><div class=\"sk-toggleable__content\"><pre>CabinTransformer()</pre></div></div></div></div></div></div><div class=\"sk-parallel-item\"><div class=\"sk-item\"><div class=\"sk-label-container\"><div class=\"sk-label sk-toggleable\"><label>others</label></div></div><div class=\"sk-serial\"><div class=\"sk-item\"><div class=\"sk-estimator sk-toggleable\"><input class=\"sk-toggleable__control sk-hidden--visually\" id=\"fe86986e-ff9a-4cf0-9211-cf2f64e20531\" type=\"checkbox\" ><label class=\"sk-toggleable__label\" for=\"fe86986e-ff9a-4cf0-9211-cf2f64e20531\">ColumnSelectTransformer</label><div class=\"sk-toggleable__content\"><pre>ColumnSelectTransformer(columns=['pclass', 'sex', 'age', 'sibsp', 'parch',\n",
       "                                 'fare', 'embarked'])</pre></div></div></div></div></div></div></div></div><div class=\"sk-item\"><div class=\"sk-estimator sk-toggleable\"><input class=\"sk-toggleable__control sk-hidden--visually\" id=\"03c911f6-508a-4b76-8883-7d04cb59e3d7\" type=\"checkbox\" ><label class=\"sk-toggleable__label\" for=\"03c911f6-508a-4b76-8883-7d04cb59e3d7\">LowerTransformer</label><div class=\"sk-toggleable__content\"><pre>LowerTransformer()</pre></div></div></div></div></div><div class=\"sk-item sk-dashed-wrapped\"><div class=\"sk-label-container\"><div class=\"sk-label sk-toggleable\"><input class=\"sk-toggleable__control sk-hidden--visually\" id=\"bb946b60-f6fe-4730-b7d8-eb58d4a24aa3\" type=\"checkbox\" ><label class=\"sk-toggleable__label\" for=\"bb946b60-f6fe-4730-b7d8-eb58d4a24aa3\">null_handling: columnTransformer</label><div class=\"sk-toggleable__content\"><pre>columnTransformer(remainder='passthrough',\n",
       "                  transformers=[('text_features',\n",
       "                                 simpleImputer(fill_value='unk',\n",
       "                                               missing_values=None,\n",
       "                                               strategy='constant'),\n",
       "                                 <sklearn.compose._column_transformer.make_column_selector object at 0x7f9a8814e9d0>),\n",
       "                                ('float_features',\n",
       "                                 simpleImputer(strategy='median'),\n",
       "                                 <sklearn.compose._column_transformer.make_column_selector object at 0x7f9a8814ea50>),\n",
       "                                ('count_features',\n",
       "                                 simpleImputer(strategy='most_frequent'),\n",
       "                                 <sklearn.compose._column_transformer.make_column_selector object at 0x7f9a8814ead0>)])</pre></div></div></div><div class=\"sk-parallel\"><div class=\"sk-parallel-item\"><div class=\"sk-item\"><div class=\"sk-label-container\"><div class=\"sk-label sk-toggleable\"><input class=\"sk-toggleable__control sk-hidden--visually\" id=\"d9af7775-caae-4e22-950d-8e453444b73a\" type=\"checkbox\" ><label class=\"sk-toggleable__label\" for=\"d9af7775-caae-4e22-950d-8e453444b73a\">text_features</label><div class=\"sk-toggleable__content\"><pre><sklearn.compose._column_transformer.make_column_selector object at 0x7f9a8814e9d0></pre></div></div></div><div class=\"sk-serial\"><div class=\"sk-item\"><div class=\"sk-estimator sk-toggleable\"><input class=\"sk-toggleable__control sk-hidden--visually\" id=\"584a546c-d229-4392-a31a-f1cd62894a4e\" type=\"checkbox\" ><label class=\"sk-toggleable__label\" for=\"584a546c-d229-4392-a31a-f1cd62894a4e\">simpleImputer</label><div class=\"sk-toggleable__content\"><pre>simpleImputer(fill_value='unk', missing_values=None, strategy='constant')</pre></div></div></div></div></div></div><div class=\"sk-parallel-item\"><div class=\"sk-item\"><div class=\"sk-label-container\"><div class=\"sk-label sk-toggleable\"><input class=\"sk-toggleable__control sk-hidden--visually\" id=\"ee27bd54-dff6-4a84-a94e-7dbb8a1bb933\" type=\"checkbox\" ><label class=\"sk-toggleable__label\" for=\"ee27bd54-dff6-4a84-a94e-7dbb8a1bb933\">float_features</label><div class=\"sk-toggleable__content\"><pre><sklearn.compose._column_transformer.make_column_selector object at 0x7f9a8814ea50></pre></div></div></div><div class=\"sk-serial\"><div class=\"sk-item\"><div class=\"sk-estimator sk-toggleable\"><input class=\"sk-toggleable__control sk-hidden--visually\" id=\"8861e1c4-039b-4d4f-8776-b13c2e79f63e\" type=\"checkbox\" ><label class=\"sk-toggleable__label\" for=\"8861e1c4-039b-4d4f-8776-b13c2e79f63e\">simpleImputer</label><div class=\"sk-toggleable__content\"><pre>simpleImputer(strategy='median')</pre></div></div></div></div></div></div><div class=\"sk-parallel-item\"><div class=\"sk-item\"><div class=\"sk-label-container\"><div class=\"sk-label sk-toggleable\"><input class=\"sk-toggleable__control sk-hidden--visually\" id=\"363647e2-0884-45a7-9fd8-c165b90fcfc8\" type=\"checkbox\" ><label class=\"sk-toggleable__label\" for=\"363647e2-0884-45a7-9fd8-c165b90fcfc8\">count_features</label><div class=\"sk-toggleable__content\"><pre><sklearn.compose._column_transformer.make_column_selector object at 0x7f9a8814ead0></pre></div></div></div><div class=\"sk-serial\"><div class=\"sk-item\"><div class=\"sk-estimator sk-toggleable\"><input class=\"sk-toggleable__control sk-hidden--visually\" id=\"3dcfed55-9459-4161-8538-f64b1ee86148\" type=\"checkbox\" ><label class=\"sk-toggleable__label\" for=\"3dcfed55-9459-4161-8538-f64b1ee86148\">simpleImputer</label><div class=\"sk-toggleable__content\"><pre>simpleImputer(strategy='most_frequent')</pre></div></div></div></div></div></div><div class=\"sk-parallel-item\"><div class=\"sk-item\"><div class=\"sk-label-container\"><div class=\"sk-label sk-toggleable\"><input class=\"sk-toggleable__control sk-hidden--visually\" id=\"2f113b5f-602c-48c9-ae82-adf500ae580d\" type=\"checkbox\" ><label class=\"sk-toggleable__label\" for=\"2f113b5f-602c-48c9-ae82-adf500ae580d\">remainder</label><div class=\"sk-toggleable__content\"><pre>[['surname', 'forename', 'ticket_str', 'ticket_num', 'cabin_str', 'cabin_num', 'pclass', 'sex', 'age', 'sibsp', 'parch', 'fare', 'embarked']]</pre></div></div></div><div class=\"sk-serial\"><div class=\"sk-item\"><div class=\"sk-estimator sk-toggleable\"><input class=\"sk-toggleable__control sk-hidden--visually\" id=\"894a2e24-4775-4cd4-9f47-a01707a661ce\" type=\"checkbox\" ><label class=\"sk-toggleable__label\" for=\"894a2e24-4775-4cd4-9f47-a01707a661ce\">passthrough</label><div class=\"sk-toggleable__content\"><pre>passthrough</pre></div></div></div></div></div></div></div></div></div></div><div class=\"sk-item\"><div class=\"sk-estimator sk-toggleable\"><input class=\"sk-toggleable__control sk-hidden--visually\" id=\"a314959d-4796-4964-9126-f195e4dc4b48\" type=\"checkbox\" ><label class=\"sk-toggleable__label\" for=\"a314959d-4796-4964-9126-f195e4dc4b48\">CustomCatBoostClassifier</label><div class=\"sk-toggleable__content\"><pre>CustomCatBoostClassifier(cat_features=['ticket_str', 'cabin_str', 'embarked',\n",
       "                                       'sex', 'surname', 'forename'],\n",
       "                         early_stopping_rounds=50, iterations=1000,\n",
       "                         metric_period=25, task_type='CPU', use_best_model=True,\n",
       "                         verbose=True)</pre></div></div></div></div></div></div></div>"
      ],
      "text/plain": [
       "Pipeline(steps=[('pl_simple',\n",
       "                 Pipeline(steps=[('pl',\n",
       "                                  Pipeline(steps=[('raw_data_processor',\n",
       "                                                   featureUnion(transformer_list=[('pass_name',\n",
       "                                                                                   PassNameTransformer()),\n",
       "                                                                                  ('ticket',\n",
       "                                                                                   TicketTransformer()),\n",
       "                                                                                  ('cabin',\n",
       "                                                                                   CabinTransformer()),\n",
       "                                                                                  ('others',\n",
       "                                                                                   ColumnSelectTransformer(columns=['pclass',\n",
       "                                                                                                                    'sex',\n",
       "                                                                                                                    'age',\n",
       "                                                                                                                    'sibsp',\n",
       "                                                                                                                    'parch',\n",
       "                                                                                                                    'fare',\n",
       "                                                                                                                    'embarked']))])),\n",
       "                                                  ('lower_text_values',\n",
       "                                                   LowerTran...\n",
       "                                                                   simpleImputer(strategy='most_frequent'),\n",
       "                                                                   <sklearn.compose._column_transformer.make_column_selector object at 0x7f9a8814ead0>)]))])),\n",
       "                ('catboost_simple',\n",
       "                 CustomCatBoostClassifier(cat_features=['ticket_str',\n",
       "                                                        'cabin_str', 'embarked',\n",
       "                                                        'sex', 'surname',\n",
       "                                                        'forename'],\n",
       "                                          early_stopping_rounds=50,\n",
       "                                          iterations=1000, metric_period=25,\n",
       "                                          task_type='CPU', use_best_model=True,\n",
       "                                          verbose=True))])"
      ]
     },
     "execution_count": 286,
     "metadata": {},
     "output_type": "execute_result"
    }
   ],
   "source": [
    "pl4 = Pipeline(steps=[\n",
    "    ('pl_simple', pl_simple),\n",
    "    ('catboost_simple', CustomCatBoostClassifier(**cb_cfg))\n",
    "])\n",
    "pl4"
   ]
  },
  {
   "cell_type": "code",
   "execution_count": 317,
   "metadata": {},
   "outputs": [
    {
     "name": "stdout",
     "output_type": "stream",
     "text": [
      "====Converting columns types====\n"
     ]
    },
    {
     "data": {
      "application/vnd.jupyter.widget-view+json": {
       "model_id": "ed2d5f1f6b3043cd809b86c3214cef05",
       "version_major": 2,
       "version_minor": 0
      },
      "text/plain": [
       "0it [00:00, ?it/s]"
      ]
     },
     "metadata": {},
     "output_type": "display_data"
    },
    {
     "data": {
      "application/vnd.jupyter.widget-view+json": {
       "model_id": "7fe80156f67543ad841dd6144baa1ec5",
       "version_major": 2,
       "version_minor": 0
      },
      "text/plain": [
       "0it [00:00, ?it/s]"
      ]
     },
     "metadata": {},
     "output_type": "display_data"
    },
    {
     "data": {
      "application/vnd.jupyter.widget-view+json": {
       "model_id": "7c7c6eb3fd3a4ca4aee1af15c934f3f2",
       "version_major": 2,
       "version_minor": 0
      },
      "text/plain": [
       "0it [00:00, ?it/s]"
      ]
     },
     "metadata": {},
     "output_type": "display_data"
    },
    {
     "data": {
      "application/vnd.jupyter.widget-view+json": {
       "model_id": "c20491479a2b429c910f86acbcef0f4e",
       "version_major": 2,
       "version_minor": 0
      },
      "text/plain": [
       "0it [00:00, ?it/s]"
      ]
     },
     "metadata": {},
     "output_type": "display_data"
    },
    {
     "name": "stdout",
     "output_type": "stream",
     "text": [
      "[['surname', 'forename', 'ticket_str', 'cabin_str', 'sex', 'embarked'], ['ticket_num', 'cabin_num', 'age', 'fare'], ['pclass', 'sibsp', 'parch']]\n",
      "[(100000, 6), (100000, 4), (100000, 3)]\n",
      "====Converting columns types====\n"
     ]
    },
    {
     "data": {
      "application/vnd.jupyter.widget-view+json": {
       "model_id": "3f82798d15704903a50e7e69e19e0243",
       "version_major": 2,
       "version_minor": 0
      },
      "text/plain": [
       "0it [00:00, ?it/s]"
      ]
     },
     "metadata": {},
     "output_type": "display_data"
    },
    {
     "name": "stdout",
     "output_type": "stream",
     "text": [
      "======== CustomCatBoostClassifier - START ========\n",
      "Learning rate set to 0.096296\n",
      "0:\tlearn: 0.6509106\ttest: 0.6500870\tbest: 0.6500870 (0)\ttotal: 91.8ms\tremaining: 1m 31s\n"
     ]
    },
    {
     "name": "stderr",
     "output_type": "stream",
     "text": [
      "Warning: Overfitting detector is active, thus evaluation metric is calculated on every iteration. 'metric_period' is ignored for evaluation metric.\n"
     ]
    },
    {
     "name": "stdout",
     "output_type": "stream",
     "text": [
      "25:\tlearn: 0.4771816\ttest: 0.4732935\tbest: 0.4732935 (25)\ttotal: 1.74s\tremaining: 1m 5s\n",
      "50:\tlearn: 0.4697525\ttest: 0.4668532\tbest: 0.4668532 (50)\ttotal: 3.59s\tremaining: 1m 6s\n",
      "75:\tlearn: 0.4669314\ttest: 0.4651706\tbest: 0.4651706 (75)\ttotal: 5.42s\tremaining: 1m 5s\n",
      "100:\tlearn: 0.4650181\ttest: 0.4643460\tbest: 0.4643238 (99)\ttotal: 7.25s\tremaining: 1m 4s\n",
      "125:\tlearn: 0.4631222\ttest: 0.4637807\tbest: 0.4637527 (123)\ttotal: 9.01s\tremaining: 1m 2s\n",
      "150:\tlearn: 0.4606853\ttest: 0.4627402\tbest: 0.4627402 (150)\ttotal: 10.9s\tremaining: 1m 1s\n",
      "175:\tlearn: 0.4592878\ttest: 0.4622651\tbest: 0.4622533 (174)\ttotal: 12.8s\tremaining: 59.8s\n",
      "200:\tlearn: 0.4579564\ttest: 0.4619557\tbest: 0.4619557 (200)\ttotal: 14.8s\tremaining: 58.7s\n",
      "225:\tlearn: 0.4568762\ttest: 0.4619415\tbest: 0.4619334 (224)\ttotal: 16.7s\tremaining: 57.1s\n",
      "250:\tlearn: 0.4558493\ttest: 0.4620429\tbest: 0.4619334 (224)\ttotal: 18.5s\tremaining: 55.2s\n",
      "275:\tlearn: 0.4546970\ttest: 0.4619447\tbest: 0.4618932 (266)\ttotal: 20.3s\tremaining: 53.3s\n",
      "300:\tlearn: 0.4538030\ttest: 0.4618736\tbest: 0.4618389 (286)\ttotal: 22.2s\tremaining: 51.5s\n",
      "325:\tlearn: 0.4527144\ttest: 0.4618612\tbest: 0.4618389 (286)\ttotal: 24.1s\tremaining: 49.7s\n",
      "Stopped by overfitting detector  (50 iterations wait)\n",
      "\n",
      "bestTest = 0.4618388869\n",
      "bestIteration = 286\n",
      "\n",
      "Shrink model to first 287 iterations.\n",
      "Evaluating model\n",
      "              precision    recall  f1-score   support\n",
      "\n",
      "           0       0.81      0.83      0.82      5762\n",
      "           1       0.76      0.74      0.75      4238\n",
      "\n",
      "    accuracy                           0.79     10000\n",
      "   macro avg       0.78      0.78      0.78     10000\n",
      "weighted avg       0.79      0.79      0.79     10000\n",
      "\n",
      "0: 0.8590967345739994\n",
      "1: 0.8590967345739995\n"
     ]
    },
    {
     "data": {
      "image/png": "[encoded data removed]",
      "text/plain": [
       "<Figure size 432x288 with 1 Axes>"
      ]
     },
     "metadata": {
      "needs_background": "light"
     },
     "output_type": "display_data"
    },
    {
     "name": "stdout",
     "output_type": "stream",
     "text": [
      "======== CustomCatBoostClassifier - FINISH =======> Take: 25.811851(s)\n"
     ]
    },
    {
     "data": {
      "text/html": [
       "<style>div.sk-top-container {color: black;background-color: white;}div.sk-toggleable {background-color: white;}label.sk-toggleable__label {cursor: pointer;display: block;width: 100%;margin-bottom: 0;padding: 0.2em 0.3em;box-sizing: border-box;text-align: center;}div.sk-toggleable__content {max-height: 0;max-width: 0;overflow: hidden;text-align: left;background-color: #f0f8ff;}div.sk-toggleable__content pre {margin: 0.2em;color: black;border-radius: 0.25em;background-color: #f0f8ff;}input.sk-toggleable__control:checked~div.sk-toggleable__content {max-height: 200px;max-width: 100%;overflow: auto;}div.sk-estimator input.sk-toggleable__control:checked~label.sk-toggleable__label {background-color: #d4ebff;}div.sk-label input.sk-toggleable__control:checked~label.sk-toggleable__label {background-color: #d4ebff;}input.sk-hidden--visually {border: 0;clip: rect(1px 1px 1px 1px);clip: rect(1px, 1px, 1px, 1px);height: 1px;margin: -1px;overflow: hidden;padding: 0;position: absolute;width: 1px;}div.sk-estimator {font-family: monospace;background-color: #f0f8ff;margin: 0.25em 0.25em;border: 1px dotted black;border-radius: 0.25em;box-sizing: border-box;}div.sk-estimator:hover {background-color: #d4ebff;}div.sk-parallel-item::after {content: \"\";width: 100%;border-bottom: 1px solid gray;flex-grow: 1;}div.sk-label:hover label.sk-toggleable__label {background-color: #d4ebff;}div.sk-serial::before {content: \"\";position: absolute;border-left: 1px solid gray;box-sizing: border-box;top: 2em;bottom: 0;left: 50%;}div.sk-serial {display: flex;flex-direction: column;align-items: center;background-color: white;}div.sk-item {z-index: 1;}div.sk-parallel {display: flex;align-items: stretch;justify-content: center;background-color: white;}div.sk-parallel-item {display: flex;flex-direction: column;position: relative;background-color: white;}div.sk-parallel-item:first-child::after {align-self: flex-end;width: 50%;}div.sk-parallel-item:last-child::after {align-self: flex-start;width: 50%;}div.sk-parallel-item:only-child::after {width: 0;}div.sk-dashed-wrapped {border: 1px dashed gray;margin: 0.2em;box-sizing: border-box;padding-bottom: 0.1em;background-color: white;position: relative;}div.sk-label label {font-family: monospace;font-weight: bold;background-color: white;display: inline-block;line-height: 1.2em;}div.sk-label-container {position: relative;z-index: 2;text-align: center;}div.sk-container {display: inline-block;position: relative;}</style><div class=\"sk-top-container\"><div class=\"sk-container\"><div class=\"sk-item sk-dashed-wrapped\"><div class=\"sk-label-container\"><div class=\"sk-label sk-toggleable\"><input class=\"sk-toggleable__control sk-hidden--visually\" id=\"ab573070-84a6-4d89-a9df-7956c7cb30cd\" type=\"checkbox\" ><label class=\"sk-toggleable__label\" for=\"ab573070-84a6-4d89-a9df-7956c7cb30cd\">Pipeline</label><div class=\"sk-toggleable__content\"><pre>Pipeline(steps=[('pl_simple',\n",
       "                 Pipeline(steps=[('pl',\n",
       "                                  Pipeline(steps=[('raw_data_processor',\n",
       "                                                   featureUnion(transformer_list=[('pass_name',\n",
       "                                                                                   PassNameTransformer()),\n",
       "                                                                                  ('ticket',\n",
       "                                                                                   TicketTransformer()),\n",
       "                                                                                  ('cabin',\n",
       "                                                                                   CabinTransformer()),\n",
       "                                                                                  ('others',\n",
       "                                                                                   ColumnSelectTransformer(columns=['pclass',\n",
       "                                                                                                                    'sex',\n",
       "                                                                                                                    'age',\n",
       "                                                                                                                    'sibsp',\n",
       "                                                                                                                    'parch',\n",
       "                                                                                                                    'fare',\n",
       "                                                                                                                    'embarked']))])),\n",
       "                                                  ('lower_text_values',\n",
       "                                                   LowerTran...\n",
       "                                                                   simpleImputer(strategy='most_frequent'),\n",
       "                                                                   <sklearn.compose._column_transformer.make_column_selector object at 0x7f9a8814ead0>)]))])),\n",
       "                ('catboost_simple',\n",
       "                 CustomCatBoostClassifier(cat_features=['ticket_str',\n",
       "                                                        'cabin_str', 'embarked',\n",
       "                                                        'sex', 'surname',\n",
       "                                                        'forename'],\n",
       "                                          early_stopping_rounds=50,\n",
       "                                          iterations=1000, metric_period=25,\n",
       "                                          task_type='CPU', use_best_model=True,\n",
       "                                          verbose=True))])</pre></div></div></div><div class=\"sk-serial\"><div class=\"sk-item\"><div class=\"sk-label-container\"><div class=\"sk-label sk-toggleable\"><input class=\"sk-toggleable__control sk-hidden--visually\" id=\"550563a5-7868-4ebc-a0eb-237586f55325\" type=\"checkbox\" ><label class=\"sk-toggleable__label\" for=\"550563a5-7868-4ebc-a0eb-237586f55325\">pl_simple: Pipeline</label><div class=\"sk-toggleable__content\"><pre>Pipeline(steps=[('pl',\n",
       "                 Pipeline(steps=[('raw_data_processor',\n",
       "                                  featureUnion(transformer_list=[('pass_name',\n",
       "                                                                  PassNameTransformer()),\n",
       "                                                                 ('ticket',\n",
       "                                                                  TicketTransformer()),\n",
       "                                                                 ('cabin',\n",
       "                                                                  CabinTransformer()),\n",
       "                                                                 ('others',\n",
       "                                                                  ColumnSelectTransformer(columns=['pclass',\n",
       "                                                                                                   'sex',\n",
       "                                                                                                   'age',\n",
       "                                                                                                   'sibsp',\n",
       "                                                                                                   'parch',\n",
       "                                                                                                   'fare',\n",
       "                                                                                                   'embarked']))])),\n",
       "                                 ('lower_text_values', LowerTransformer())])),\n",
       "                ('null_handling...\n",
       "                                                  <sklearn.compose._column_transformer.make_column_selector object at 0x7f9a8814e9d0>),\n",
       "                                                 ('float_features',\n",
       "                                                  simpleImputer(strategy='median'),\n",
       "                                                  <sklearn.compose._column_transformer.make_column_selector object at 0x7f9a8814ea50>),\n",
       "                                                 ('count_features',\n",
       "                                                  simpleImputer(strategy='most_frequent'),\n",
       "                                                  <sklearn.compose._column_transformer.make_column_selector object at 0x7f9a8814ead0>)]))])</pre></div></div></div><div class=\"sk-serial\"><div class=\"sk-item\"><div class=\"sk-label-container\"><div class=\"sk-label sk-toggleable\"><input class=\"sk-toggleable__control sk-hidden--visually\" id=\"0bd44cfc-1584-4fc6-b705-1e43ab152740\" type=\"checkbox\" ><label class=\"sk-toggleable__label\" for=\"0bd44cfc-1584-4fc6-b705-1e43ab152740\">pl: Pipeline</label><div class=\"sk-toggleable__content\"><pre>Pipeline(steps=[('raw_data_processor',\n",
       "                 featureUnion(transformer_list=[('pass_name',\n",
       "                                                 PassNameTransformer()),\n",
       "                                                ('ticket', TicketTransformer()),\n",
       "                                                ('cabin', CabinTransformer()),\n",
       "                                                ('others',\n",
       "                                                 ColumnSelectTransformer(columns=['pclass',\n",
       "                                                                                  'sex',\n",
       "                                                                                  'age',\n",
       "                                                                                  'sibsp',\n",
       "                                                                                  'parch',\n",
       "                                                                                  'fare',\n",
       "                                                                                  'embarked']))])),\n",
       "                ('lower_text_values', LowerTransformer())])</pre></div></div></div><div class=\"sk-serial\"><div class=\"sk-item sk-dashed-wrapped\"><div class=\"sk-label-container\"><div class=\"sk-label sk-toggleable\"><input class=\"sk-toggleable__control sk-hidden--visually\" id=\"5d385964-f2bb-4eef-bff3-282b3d1533a8\" type=\"checkbox\" ><label class=\"sk-toggleable__label\" for=\"5d385964-f2bb-4eef-bff3-282b3d1533a8\">raw_data_processor: featureUnion</label><div class=\"sk-toggleable__content\"><pre>featureUnion(transformer_list=[('pass_name', PassNameTransformer()),\n",
       "                               ('ticket', TicketTransformer()),\n",
       "                               ('cabin', CabinTransformer()),\n",
       "                               ('others',\n",
       "                                ColumnSelectTransformer(columns=['pclass',\n",
       "                                                                 'sex', 'age',\n",
       "                                                                 'sibsp',\n",
       "                                                                 'parch',\n",
       "                                                                 'fare',\n",
       "                                                                 'embarked']))])</pre></div></div></div><div class=\"sk-parallel\"><div class=\"sk-parallel-item\"><div class=\"sk-item\"><div class=\"sk-label-container\"><div class=\"sk-label sk-toggleable\"><label>pass_name</label></div></div><div class=\"sk-serial\"><div class=\"sk-item\"><div class=\"sk-estimator sk-toggleable\"><input class=\"sk-toggleable__control sk-hidden--visually\" id=\"0b7148f8-c9aa-4aa9-9fff-d11ee9b0ffa4\" type=\"checkbox\" ><label class=\"sk-toggleable__label\" for=\"0b7148f8-c9aa-4aa9-9fff-d11ee9b0ffa4\">PassNameTransformer</label><div class=\"sk-toggleable__content\"><pre>PassNameTransformer()</pre></div></div></div></div></div></div><div class=\"sk-parallel-item\"><div class=\"sk-item\"><div class=\"sk-label-container\"><div class=\"sk-label sk-toggleable\"><label>ticket</label></div></div><div class=\"sk-serial\"><div class=\"sk-item\"><div class=\"sk-estimator sk-toggleable\"><input class=\"sk-toggleable__control sk-hidden--visually\" id=\"244fd153-7ed9-4555-ae2d-0948fc0e53d3\" type=\"checkbox\" ><label class=\"sk-toggleable__label\" for=\"244fd153-7ed9-4555-ae2d-0948fc0e53d3\">TicketTransformer</label><div class=\"sk-toggleable__content\"><pre>TicketTransformer()</pre></div></div></div></div></div></div><div class=\"sk-parallel-item\"><div class=\"sk-item\"><div class=\"sk-label-container\"><div class=\"sk-label sk-toggleable\"><label>cabin</label></div></div><div class=\"sk-serial\"><div class=\"sk-item\"><div class=\"sk-estimator sk-toggleable\"><input class=\"sk-toggleable__control sk-hidden--visually\" id=\"1caf72bc-8db4-426d-b457-0e8bd7cef310\" type=\"checkbox\" ><label class=\"sk-toggleable__label\" for=\"1caf72bc-8db4-426d-b457-0e8bd7cef310\">CabinTransformer</label><div class=\"sk-toggleable__content\"><pre>CabinTransformer()</pre></div></div></div></div></div></div><div class=\"sk-parallel-item\"><div class=\"sk-item\"><div class=\"sk-label-container\"><div class=\"sk-label sk-toggleable\"><label>others</label></div></div><div class=\"sk-serial\"><div class=\"sk-item\"><div class=\"sk-estimator sk-toggleable\"><input class=\"sk-toggleable__control sk-hidden--visually\" id=\"74059805-7202-4c15-b169-25dc9ff0db48\" type=\"checkbox\" ><label class=\"sk-toggleable__label\" for=\"74059805-7202-4c15-b169-25dc9ff0db48\">ColumnSelectTransformer</label><div class=\"sk-toggleable__content\"><pre>ColumnSelectTransformer(columns=['pclass', 'sex', 'age', 'sibsp', 'parch',\n",
       "                                 'fare', 'embarked'])</pre></div></div></div></div></div></div></div></div><div class=\"sk-item\"><div class=\"sk-estimator sk-toggleable\"><input class=\"sk-toggleable__control sk-hidden--visually\" id=\"a1a201c2-91b2-4d56-b881-bf609db710be\" type=\"checkbox\" ><label class=\"sk-toggleable__label\" for=\"a1a201c2-91b2-4d56-b881-bf609db710be\">LowerTransformer</label><div class=\"sk-toggleable__content\"><pre>LowerTransformer()</pre></div></div></div></div></div><div class=\"sk-item sk-dashed-wrapped\"><div class=\"sk-label-container\"><div class=\"sk-label sk-toggleable\"><input class=\"sk-toggleable__control sk-hidden--visually\" id=\"856af61b-da9f-4773-8661-3580106b0022\" type=\"checkbox\" ><label class=\"sk-toggleable__label\" for=\"856af61b-da9f-4773-8661-3580106b0022\">null_handling: columnTransformer</label><div class=\"sk-toggleable__content\"><pre>columnTransformer(remainder='passthrough',\n",
       "                  transformers=[('text_features',\n",
       "                                 simpleImputer(fill_value='unk',\n",
       "                                               missing_values=None,\n",
       "                                               strategy='constant'),\n",
       "                                 <sklearn.compose._column_transformer.make_column_selector object at 0x7f9a8814e9d0>),\n",
       "                                ('float_features',\n",
       "                                 simpleImputer(strategy='median'),\n",
       "                                 <sklearn.compose._column_transformer.make_column_selector object at 0x7f9a8814ea50>),\n",
       "                                ('count_features',\n",
       "                                 simpleImputer(strategy='most_frequent'),\n",
       "                                 <sklearn.compose._column_transformer.make_column_selector object at 0x7f9a8814ead0>)])</pre></div></div></div><div class=\"sk-parallel\"><div class=\"sk-parallel-item\"><div class=\"sk-item\"><div class=\"sk-label-container\"><div class=\"sk-label sk-toggleable\"><input class=\"sk-toggleable__control sk-hidden--visually\" id=\"63da65b7-a69b-4786-ba8d-41ee4d80f340\" type=\"checkbox\" ><label class=\"sk-toggleable__label\" for=\"63da65b7-a69b-4786-ba8d-41ee4d80f340\">text_features</label><div class=\"sk-toggleable__content\"><pre><sklearn.compose._column_transformer.make_column_selector object at 0x7f9a8814e9d0></pre></div></div></div><div class=\"sk-serial\"><div class=\"sk-item\"><div class=\"sk-estimator sk-toggleable\"><input class=\"sk-toggleable__control sk-hidden--visually\" id=\"448da0eb-2ff6-4eeb-ab11-8c7b67517582\" type=\"checkbox\" ><label class=\"sk-toggleable__label\" for=\"448da0eb-2ff6-4eeb-ab11-8c7b67517582\">simpleImputer</label><div class=\"sk-toggleable__content\"><pre>simpleImputer(fill_value='unk', missing_values=None, strategy='constant')</pre></div></div></div></div></div></div><div class=\"sk-parallel-item\"><div class=\"sk-item\"><div class=\"sk-label-container\"><div class=\"sk-label sk-toggleable\"><input class=\"sk-toggleable__control sk-hidden--visually\" id=\"b0031688-f98d-4e2f-9d7f-dc5491229c55\" type=\"checkbox\" ><label class=\"sk-toggleable__label\" for=\"b0031688-f98d-4e2f-9d7f-dc5491229c55\">float_features</label><div class=\"sk-toggleable__content\"><pre><sklearn.compose._column_transformer.make_column_selector object at 0x7f9a8814ea50></pre></div></div></div><div class=\"sk-serial\"><div class=\"sk-item\"><div class=\"sk-estimator sk-toggleable\"><input class=\"sk-toggleable__control sk-hidden--visually\" id=\"4f00cf49-80ab-4109-93cf-77aa5db61cd1\" type=\"checkbox\" ><label class=\"sk-toggleable__label\" for=\"4f00cf49-80ab-4109-93cf-77aa5db61cd1\">simpleImputer</label><div class=\"sk-toggleable__content\"><pre>simpleImputer(strategy='median')</pre></div></div></div></div></div></div><div class=\"sk-parallel-item\"><div class=\"sk-item\"><div class=\"sk-label-container\"><div class=\"sk-label sk-toggleable\"><input class=\"sk-toggleable__control sk-hidden--visually\" id=\"da72066a-658a-4b36-9ff6-1fc6e1d960a2\" type=\"checkbox\" ><label class=\"sk-toggleable__label\" for=\"da72066a-658a-4b36-9ff6-1fc6e1d960a2\">count_features</label><div class=\"sk-toggleable__content\"><pre><sklearn.compose._column_transformer.make_column_selector object at 0x7f9a8814ead0></pre></div></div></div><div class=\"sk-serial\"><div class=\"sk-item\"><div class=\"sk-estimator sk-toggleable\"><input class=\"sk-toggleable__control sk-hidden--visually\" id=\"3e60b62d-c7f5-4b37-9f90-f509f9ad1a28\" type=\"checkbox\" ><label class=\"sk-toggleable__label\" for=\"3e60b62d-c7f5-4b37-9f90-f509f9ad1a28\">simpleImputer</label><div class=\"sk-toggleable__content\"><pre>simpleImputer(strategy='most_frequent')</pre></div></div></div></div></div></div><div class=\"sk-parallel-item\"><div class=\"sk-item\"><div class=\"sk-label-container\"><div class=\"sk-label sk-toggleable\"><input class=\"sk-toggleable__control sk-hidden--visually\" id=\"1eb769a0-0e17-4567-91a5-c16c40c9188e\" type=\"checkbox\" ><label class=\"sk-toggleable__label\" for=\"1eb769a0-0e17-4567-91a5-c16c40c9188e\">remainder</label><div class=\"sk-toggleable__content\"><pre>[['surname', 'forename', 'ticket_str', 'ticket_num', 'cabin_str', 'cabin_num', 'pclass', 'sex', 'age', 'sibsp', 'parch', 'fare', 'embarked']]</pre></div></div></div><div class=\"sk-serial\"><div class=\"sk-item\"><div class=\"sk-estimator sk-toggleable\"><input class=\"sk-toggleable__control sk-hidden--visually\" id=\"71d58262-cf68-4655-ac23-aa915dea8c7b\" type=\"checkbox\" ><label class=\"sk-toggleable__label\" for=\"71d58262-cf68-4655-ac23-aa915dea8c7b\">passthrough</label><div class=\"sk-toggleable__content\"><pre>passthrough</pre></div></div></div></div></div></div></div></div></div></div><div class=\"sk-item\"><div class=\"sk-estimator sk-toggleable\"><input class=\"sk-toggleable__control sk-hidden--visually\" id=\"2af0016a-4e16-4733-9d18-1d6144c0896b\" type=\"checkbox\" ><label class=\"sk-toggleable__label\" for=\"2af0016a-4e16-4733-9d18-1d6144c0896b\">CustomCatBoostClassifier</label><div class=\"sk-toggleable__content\"><pre>CustomCatBoostClassifier(cat_features=['ticket_str', 'cabin_str', 'embarked',\n",
       "                                       'sex', 'surname', 'forename'],\n",
       "                         early_stopping_rounds=50, iterations=1000,\n",
       "                         metric_period=25, task_type='CPU', use_best_model=True,\n",
       "                         verbose=True)</pre></div></div></div></div></div></div></div>"
      ],
      "text/plain": [
       "Pipeline(steps=[('pl_simple',\n",
       "                 Pipeline(steps=[('pl',\n",
       "                                  Pipeline(steps=[('raw_data_processor',\n",
       "                                                   featureUnion(transformer_list=[('pass_name',\n",
       "                                                                                   PassNameTransformer()),\n",
       "                                                                                  ('ticket',\n",
       "                                                                                   TicketTransformer()),\n",
       "                                                                                  ('cabin',\n",
       "                                                                                   CabinTransformer()),\n",
       "                                                                                  ('others',\n",
       "                                                                                   ColumnSelectTransformer(columns=['pclass',\n",
       "                                                                                                                    'sex',\n",
       "                                                                                                                    'age',\n",
       "                                                                                                                    'sibsp',\n",
       "                                                                                                                    'parch',\n",
       "                                                                                                                    'fare',\n",
       "                                                                                                                    'embarked']))])),\n",
       "                                                  ('lower_text_values',\n",
       "                                                   LowerTran...\n",
       "                                                                   simpleImputer(strategy='most_frequent'),\n",
       "                                                                   <sklearn.compose._column_transformer.make_column_selector object at 0x7f9a8814ead0>)]))])),\n",
       "                ('catboost_simple',\n",
       "                 CustomCatBoostClassifier(cat_features=['ticket_str',\n",
       "                                                        'cabin_str', 'embarked',\n",
       "                                                        'sex', 'surname',\n",
       "                                                        'forename'],\n",
       "                                          early_stopping_rounds=50,\n",
       "                                          iterations=1000, metric_period=25,\n",
       "                                          task_type='CPU', use_best_model=True,\n",
       "                                          verbose=True))])"
      ]
     },
     "execution_count": 317,
     "metadata": {},
     "output_type": "execute_result"
    }
   ],
   "source": [
    "pl4.fit(X_train, y_train)"
   ]
  },
  {
   "cell_type": "code",
   "execution_count": 318,
   "metadata": {},
   "outputs": [
    {
     "name": "stdout",
     "output_type": "stream",
     "text": [
      "====Converting columns types====\n"
     ]
    },
    {
     "data": {
      "application/vnd.jupyter.widget-view+json": {
       "model_id": "83893c188d8c49e7a4a1dc08d4520997",
       "version_major": 2,
       "version_minor": 0
      },
      "text/plain": [
       "0it [00:00, ?it/s]"
      ]
     },
     "metadata": {},
     "output_type": "display_data"
    },
    {
     "data": {
      "application/vnd.jupyter.widget-view+json": {
       "model_id": "74d79bbd89cc4c6db43ac7241ec71730",
       "version_major": 2,
       "version_minor": 0
      },
      "text/plain": [
       "0it [00:00, ?it/s]"
      ]
     },
     "metadata": {},
     "output_type": "display_data"
    },
    {
     "data": {
      "application/vnd.jupyter.widget-view+json": {
       "model_id": "ada938fa205a409fae62864c85b4a8cf",
       "version_major": 2,
       "version_minor": 0
      },
      "text/plain": [
       "0it [00:00, ?it/s]"
      ]
     },
     "metadata": {},
     "output_type": "display_data"
    },
    {
     "data": {
      "application/vnd.jupyter.widget-view+json": {
       "model_id": "3b6a9fab414b48a6bbcf715e755c84f6",
       "version_major": 2,
       "version_minor": 0
      },
      "text/plain": [
       "0it [00:00, ?it/s]"
      ]
     },
     "metadata": {},
     "output_type": "display_data"
    },
    {
     "name": "stdout",
     "output_type": "stream",
     "text": [
      "[['surname', 'forename', 'ticket_str', 'cabin_str', 'sex', 'embarked'], ['ticket_num', 'cabin_num', 'age', 'fare'], ['pclass', 'sibsp', 'parch']]\n",
      "[(100000, 6), (100000, 4), (100000, 3)]\n",
      "====Converting columns types====\n"
     ]
    },
    {
     "data": {
      "application/vnd.jupyter.widget-view+json": {
       "model_id": "d4004c6ace70425eb30fc3ac2d94b90e",
       "version_major": 2,
       "version_minor": 0
      },
      "text/plain": [
       "0it [00:00, ?it/s]"
      ]
     },
     "metadata": {},
     "output_type": "display_data"
    }
   ],
   "source": [
    "b = pl4.predict(X_test)"
   ]
  },
  {
   "cell_type": "code",
   "execution_count": 289,
   "metadata": {},
   "outputs": [
    {
     "data": {
      "text/html": [
       "<div>\n",
       "<style scoped>\n",
       "    .dataframe tbody tr th:only-of-type {\n",
       "        vertical-align: middle;\n",
       "    }\n",
       "\n",
       "    .dataframe tbody tr th {\n",
       "        vertical-align: top;\n",
       "    }\n",
       "\n",
       "    .dataframe thead th {\n",
       "        text-align: right;\n",
       "    }\n",
       "</style>\n",
       "<table border=\"1\" class=\"dataframe\">\n",
       "  <thead>\n",
       "    <tr style=\"text-align: right;\">\n",
       "      <th></th>\n",
       "      <th>surname</th>\n",
       "      <th>forename</th>\n",
       "      <th>ticket_str</th>\n",
       "      <th>cabin_str</th>\n",
       "      <th>sex</th>\n",
       "      <th>embarked</th>\n",
       "    </tr>\n",
       "  </thead>\n",
       "  <tbody>\n",
       "    <tr>\n",
       "      <th>0</th>\n",
       "      <td>oconnor</td>\n",
       "      <td>frankie</td>\n",
       "      <td>None</td>\n",
       "      <td>c</td>\n",
       "      <td>male</td>\n",
       "      <td>s</td>\n",
       "    </tr>\n",
       "    <tr>\n",
       "      <th>1</th>\n",
       "      <td>bryan</td>\n",
       "      <td>drew</td>\n",
       "      <td>None</td>\n",
       "      <td>None</td>\n",
       "      <td>male</td>\n",
       "      <td>s</td>\n",
       "    </tr>\n",
       "    <tr>\n",
       "      <th>2</th>\n",
       "      <td>owens</td>\n",
       "      <td>kenneth</td>\n",
       "      <td>ca</td>\n",
       "      <td>None</td>\n",
       "      <td>male</td>\n",
       "      <td>s</td>\n",
       "    </tr>\n",
       "    <tr>\n",
       "      <th>3</th>\n",
       "      <td>kramer</td>\n",
       "      <td>james</td>\n",
       "      <td>a.</td>\n",
       "      <td>None</td>\n",
       "      <td>male</td>\n",
       "      <td>s</td>\n",
       "    </tr>\n",
       "    <tr>\n",
       "      <th>4</th>\n",
       "      <td>bond</td>\n",
       "      <td>michael</td>\n",
       "      <td>None</td>\n",
       "      <td>None</td>\n",
       "      <td>male</td>\n",
       "      <td>s</td>\n",
       "    </tr>\n",
       "    <tr>\n",
       "      <th>...</th>\n",
       "      <td>...</td>\n",
       "      <td>...</td>\n",
       "      <td>...</td>\n",
       "      <td>...</td>\n",
       "      <td>...</td>\n",
       "      <td>...</td>\n",
       "    </tr>\n",
       "    <tr>\n",
       "      <th>99995</th>\n",
       "      <td>bell</td>\n",
       "      <td>adele</td>\n",
       "      <td>pc</td>\n",
       "      <td>d</td>\n",
       "      <td>female</td>\n",
       "      <td>c</td>\n",
       "    </tr>\n",
       "    <tr>\n",
       "      <th>99996</th>\n",
       "      <td>brown</td>\n",
       "      <td>herman</td>\n",
       "      <td>None</td>\n",
       "      <td>None</td>\n",
       "      <td>male</td>\n",
       "      <td>s</td>\n",
       "    </tr>\n",
       "    <tr>\n",
       "      <th>99997</th>\n",
       "      <td>childress</td>\n",
       "      <td>charles</td>\n",
       "      <td>None</td>\n",
       "      <td>None</td>\n",
       "      <td>male</td>\n",
       "      <td>s</td>\n",
       "    </tr>\n",
       "    <tr>\n",
       "      <th>99998</th>\n",
       "      <td>caughlin</td>\n",
       "      <td>thomas</td>\n",
       "      <td>None</td>\n",
       "      <td>None</td>\n",
       "      <td>male</td>\n",
       "      <td>s</td>\n",
       "    </tr>\n",
       "    <tr>\n",
       "      <th>99999</th>\n",
       "      <td>enciso</td>\n",
       "      <td>tyler</td>\n",
       "      <td>None</td>\n",
       "      <td>None</td>\n",
       "      <td>male</td>\n",
       "      <td>s</td>\n",
       "    </tr>\n",
       "  </tbody>\n",
       "</table>\n",
       "<p>100000 rows × 6 columns</p>\n",
       "</div>"
      ],
      "text/plain": [
       "         surname  forename ticket_str cabin_str     sex embarked\n",
       "0        oconnor   frankie       None         c    male        s\n",
       "1          bryan      drew       None      None    male        s\n",
       "2          owens   kenneth         ca      None    male        s\n",
       "3         kramer     james         a.      None    male        s\n",
       "4           bond   michael       None      None    male        s\n",
       "...          ...       ...        ...       ...     ...      ...\n",
       "99995       bell     adele         pc         d  female        c\n",
       "99996      brown    herman       None      None    male        s\n",
       "99997  childress   charles       None      None    male        s\n",
       "99998   caughlin    thomas       None      None    male        s\n",
       "99999     enciso     tyler       None      None    male        s\n",
       "\n",
       "[100000 rows x 6 columns]"
      ]
     },
     "execution_count": 289,
     "metadata": {},
     "output_type": "execute_result"
    }
   ],
   "source": [
    "df2[['surname', 'forename', 'ticket_str', 'cabin_str', 'sex', 'embarked']]"
   ]
  },
  {
   "cell_type": "code",
   "execution_count": 298,
   "metadata": {},
   "outputs": [],
   "source": [
    "from sklearn.preprocessing import LabelEncoder\n",
    "class CustomLabelEncoder(PipelineLogger,TransformerMixin, BaseEstimator):\n",
    "    def __init__(self, columns=None):\n",
    "        super(CustomLabelEncoder).__init__()\n",
    "        self.columns = columns\n",
    "        self.label_encoders = {}\n",
    "        \n",
    "    def fit(self, X, y=None):\n",
    "        X_ = X[self.columns]\n",
    "        X_ = pd.concat([X_, pd.DataFrame([['unk'] * X_.shape[1]], columns=X_.columns)], ignore_index=True)\n",
    "        for c in self.columns:\n",
    "            self.label_encoders[c] = LabelEncoder().fit(X_[c])\n",
    "        print(self.label_encoders)\n",
    "        return self\n",
    "    \n",
    "    def transform(self, X, y=None):\n",
    "        X_ = pd.DataFrame()\n",
    "        self.dummy_dicts = {}\n",
    "        for c in self.columns:\n",
    "            dd = {}\n",
    "            for cl in self.label_encoders[c].classes_:\n",
    "                dd[cl] = True\n",
    "            sr = X[c].map(lambda s: 'unk' if dd.get(s) is None else s)\n",
    "            X_[c] = self.label_encoders[c].transform(sr)\n",
    "        return X_\n",
    "            \n",
    "    def inverse_transform(self, X_encode, y=None):\n",
    "        X_decode = pd.DataFrame()\n",
    "        for c in self.columns:\n",
    "            X_decode[c] = self.label_encoders[c].inverse_transform(X_encode[c])\n",
    "        return X_decode"
   ]
  },
  {
   "cell_type": "code",
   "execution_count": 299,
   "metadata": {},
   "outputs": [],
   "source": [
    "mul_le = CustomLabelEncoder(\n",
    "        columns=['surname', 'forename', 'ticket_str', 'cabin_str', 'sex', 'embarked']\n",
    ")"
   ]
  },
  {
   "cell_type": "code",
   "execution_count": 300,
   "metadata": {},
   "outputs": [],
   "source": [
    "label_encoding = columnTransformer(transformers=[\n",
    "    ('category_encoder', mul_le, ['surname', 'forename', 'ticket_str', 'cabin_str', 'sex', 'embarked'])\n",
    "], remainder='passthrough')"
   ]
  },
  {
   "cell_type": "code",
   "execution_count": 301,
   "metadata": {},
   "outputs": [
    {
     "name": "stdout",
     "output_type": "stream",
     "text": [
      "{'surname': LabelEncoder(), 'forename': LabelEncoder(), 'ticket_str': LabelEncoder(), 'cabin_str': LabelEncoder(), 'sex': LabelEncoder(), 'embarked': LabelEncoder()}\n"
     ]
    },
    {
     "data": {
      "text/html": [
       "<div>\n",
       "<style scoped>\n",
       "    .dataframe tbody tr th:only-of-type {\n",
       "        vertical-align: middle;\n",
       "    }\n",
       "\n",
       "    .dataframe tbody tr th {\n",
       "        vertical-align: top;\n",
       "    }\n",
       "\n",
       "    .dataframe thead th {\n",
       "        text-align: right;\n",
       "    }\n",
       "</style>\n",
       "<table border=\"1\" class=\"dataframe\">\n",
       "  <thead>\n",
       "    <tr style=\"text-align: right;\">\n",
       "      <th></th>\n",
       "      <th>surname</th>\n",
       "      <th>forename</th>\n",
       "      <th>ticket_str</th>\n",
       "      <th>cabin_str</th>\n",
       "      <th>sex</th>\n",
       "      <th>embarked</th>\n",
       "    </tr>\n",
       "  </thead>\n",
       "  <tbody>\n",
       "    <tr>\n",
       "      <th>0</th>\n",
       "      <td>14195</td>\n",
       "      <td>1311</td>\n",
       "      <td>49</td>\n",
       "      <td>2</td>\n",
       "      <td>1</td>\n",
       "      <td>2</td>\n",
       "    </tr>\n",
       "    <tr>\n",
       "      <th>1</th>\n",
       "      <td>2495</td>\n",
       "      <td>1015</td>\n",
       "      <td>49</td>\n",
       "      <td>9</td>\n",
       "      <td>1</td>\n",
       "      <td>2</td>\n",
       "    </tr>\n",
       "    <tr>\n",
       "      <th>2</th>\n",
       "      <td>14478</td>\n",
       "      <td>2010</td>\n",
       "      <td>14</td>\n",
       "      <td>9</td>\n",
       "      <td>1</td>\n",
       "      <td>2</td>\n",
       "    </tr>\n",
       "    <tr>\n",
       "      <th>3</th>\n",
       "      <td>10435</td>\n",
       "      <td>1662</td>\n",
       "      <td>0</td>\n",
       "      <td>9</td>\n",
       "      <td>1</td>\n",
       "      <td>2</td>\n",
       "    </tr>\n",
       "    <tr>\n",
       "      <th>4</th>\n",
       "      <td>1902</td>\n",
       "      <td>2678</td>\n",
       "      <td>49</td>\n",
       "      <td>9</td>\n",
       "      <td>1</td>\n",
       "      <td>2</td>\n",
       "    </tr>\n",
       "    <tr>\n",
       "      <th>...</th>\n",
       "      <td>...</td>\n",
       "      <td>...</td>\n",
       "      <td>...</td>\n",
       "      <td>...</td>\n",
       "      <td>...</td>\n",
       "      <td>...</td>\n",
       "    </tr>\n",
       "    <tr>\n",
       "      <th>99995</th>\n",
       "      <td>1301</td>\n",
       "      <td>18</td>\n",
       "      <td>21</td>\n",
       "      <td>3</td>\n",
       "      <td>0</td>\n",
       "      <td>0</td>\n",
       "    </tr>\n",
       "    <tr>\n",
       "      <th>99996</th>\n",
       "      <td>2436</td>\n",
       "      <td>1507</td>\n",
       "      <td>49</td>\n",
       "      <td>9</td>\n",
       "      <td>1</td>\n",
       "      <td>2</td>\n",
       "    </tr>\n",
       "    <tr>\n",
       "      <th>99997</th>\n",
       "      <td>3463</td>\n",
       "      <td>610</td>\n",
       "      <td>49</td>\n",
       "      <td>9</td>\n",
       "      <td>1</td>\n",
       "      <td>2</td>\n",
       "    </tr>\n",
       "    <tr>\n",
       "      <th>99998</th>\n",
       "      <td>3226</td>\n",
       "      <td>3636</td>\n",
       "      <td>49</td>\n",
       "      <td>9</td>\n",
       "      <td>1</td>\n",
       "      <td>2</td>\n",
       "    </tr>\n",
       "    <tr>\n",
       "      <th>99999</th>\n",
       "      <td>5762</td>\n",
       "      <td>3730</td>\n",
       "      <td>49</td>\n",
       "      <td>9</td>\n",
       "      <td>1</td>\n",
       "      <td>2</td>\n",
       "    </tr>\n",
       "  </tbody>\n",
       "</table>\n",
       "<p>100000 rows × 6 columns</p>\n",
       "</div>"
      ],
      "text/plain": [
       "       surname  forename  ticket_str  cabin_str  sex  embarked\n",
       "0        14195      1311          49          2    1         2\n",
       "1         2495      1015          49          9    1         2\n",
       "2        14478      2010          14          9    1         2\n",
       "3        10435      1662           0          9    1         2\n",
       "4         1902      2678          49          9    1         2\n",
       "...        ...       ...         ...        ...  ...       ...\n",
       "99995     1301        18          21          3    0         0\n",
       "99996     2436      1507          49          9    1         2\n",
       "99997     3463       610          49          9    1         2\n",
       "99998     3226      3636          49          9    1         2\n",
       "99999     5762      3730          49          9    1         2\n",
       "\n",
       "[100000 rows x 6 columns]"
      ]
     },
     "execution_count": 301,
     "metadata": {},
     "output_type": "execute_result"
    }
   ],
   "source": [
    "mul_le.fit_transform(df2)"
   ]
  },
  {
   "cell_type": "code",
   "execution_count": 302,
   "metadata": {},
   "outputs": [
    {
     "data": {
      "text/html": [
       "<div>\n",
       "<style scoped>\n",
       "    .dataframe tbody tr th:only-of-type {\n",
       "        vertical-align: middle;\n",
       "    }\n",
       "\n",
       "    .dataframe tbody tr th {\n",
       "        vertical-align: top;\n",
       "    }\n",
       "\n",
       "    .dataframe thead th {\n",
       "        text-align: right;\n",
       "    }\n",
       "</style>\n",
       "<table border=\"1\" class=\"dataframe\">\n",
       "  <thead>\n",
       "    <tr style=\"text-align: right;\">\n",
       "      <th></th>\n",
       "      <th>surname</th>\n",
       "      <th>forename</th>\n",
       "      <th>ticket_str</th>\n",
       "      <th>ticket_num</th>\n",
       "      <th>cabin_str</th>\n",
       "      <th>cabin_num</th>\n",
       "      <th>pclass</th>\n",
       "      <th>sex</th>\n",
       "      <th>age</th>\n",
       "      <th>sibsp</th>\n",
       "      <th>parch</th>\n",
       "      <th>fare</th>\n",
       "      <th>embarked</th>\n",
       "    </tr>\n",
       "  </thead>\n",
       "  <tbody>\n",
       "    <tr>\n",
       "      <th>0</th>\n",
       "      <td>oconnor</td>\n",
       "      <td>frankie</td>\n",
       "      <td>None</td>\n",
       "      <td>209245.0</td>\n",
       "      <td>c</td>\n",
       "      <td>12239.0</td>\n",
       "      <td>1</td>\n",
       "      <td>male</td>\n",
       "      <td>NaN</td>\n",
       "      <td>2</td>\n",
       "      <td>0</td>\n",
       "      <td>27.14</td>\n",
       "      <td>s</td>\n",
       "    </tr>\n",
       "    <tr>\n",
       "      <th>1</th>\n",
       "      <td>bryan</td>\n",
       "      <td>drew</td>\n",
       "      <td>None</td>\n",
       "      <td>27323.0</td>\n",
       "      <td>None</td>\n",
       "      <td>NaN</td>\n",
       "      <td>3</td>\n",
       "      <td>male</td>\n",
       "      <td>NaN</td>\n",
       "      <td>0</td>\n",
       "      <td>0</td>\n",
       "      <td>13.35</td>\n",
       "      <td>s</td>\n",
       "    </tr>\n",
       "    <tr>\n",
       "      <th>2</th>\n",
       "      <td>owens</td>\n",
       "      <td>kenneth</td>\n",
       "      <td>ca</td>\n",
       "      <td>NaN</td>\n",
       "      <td>None</td>\n",
       "      <td>NaN</td>\n",
       "      <td>3</td>\n",
       "      <td>male</td>\n",
       "      <td>0.33</td>\n",
       "      <td>1</td>\n",
       "      <td>2</td>\n",
       "      <td>71.29</td>\n",
       "      <td>s</td>\n",
       "    </tr>\n",
       "    <tr>\n",
       "      <th>3</th>\n",
       "      <td>kramer</td>\n",
       "      <td>james</td>\n",
       "      <td>a.</td>\n",
       "      <td>NaN</td>\n",
       "      <td>None</td>\n",
       "      <td>NaN</td>\n",
       "      <td>3</td>\n",
       "      <td>male</td>\n",
       "      <td>19.00</td>\n",
       "      <td>0</td>\n",
       "      <td>0</td>\n",
       "      <td>13.04</td>\n",
       "      <td>s</td>\n",
       "    </tr>\n",
       "    <tr>\n",
       "      <th>4</th>\n",
       "      <td>bond</td>\n",
       "      <td>michael</td>\n",
       "      <td>None</td>\n",
       "      <td>427635.0</td>\n",
       "      <td>None</td>\n",
       "      <td>NaN</td>\n",
       "      <td>3</td>\n",
       "      <td>male</td>\n",
       "      <td>25.00</td>\n",
       "      <td>0</td>\n",
       "      <td>0</td>\n",
       "      <td>7.76</td>\n",
       "      <td>s</td>\n",
       "    </tr>\n",
       "    <tr>\n",
       "      <th>...</th>\n",
       "      <td>...</td>\n",
       "      <td>...</td>\n",
       "      <td>...</td>\n",
       "      <td>...</td>\n",
       "      <td>...</td>\n",
       "      <td>...</td>\n",
       "      <td>...</td>\n",
       "      <td>...</td>\n",
       "      <td>...</td>\n",
       "      <td>...</td>\n",
       "      <td>...</td>\n",
       "      <td>...</td>\n",
       "      <td>...</td>\n",
       "    </tr>\n",
       "    <tr>\n",
       "      <th>99995</th>\n",
       "      <td>bell</td>\n",
       "      <td>adele</td>\n",
       "      <td>pc</td>\n",
       "      <td>NaN</td>\n",
       "      <td>d</td>\n",
       "      <td>17243.0</td>\n",
       "      <td>2</td>\n",
       "      <td>female</td>\n",
       "      <td>62.00</td>\n",
       "      <td>0</td>\n",
       "      <td>0</td>\n",
       "      <td>14.86</td>\n",
       "      <td>c</td>\n",
       "    </tr>\n",
       "    <tr>\n",
       "      <th>99996</th>\n",
       "      <td>brown</td>\n",
       "      <td>herman</td>\n",
       "      <td>None</td>\n",
       "      <td>13273.0</td>\n",
       "      <td>None</td>\n",
       "      <td>NaN</td>\n",
       "      <td>2</td>\n",
       "      <td>male</td>\n",
       "      <td>66.00</td>\n",
       "      <td>0</td>\n",
       "      <td>0</td>\n",
       "      <td>11.15</td>\n",
       "      <td>s</td>\n",
       "    </tr>\n",
       "    <tr>\n",
       "      <th>99997</th>\n",
       "      <td>childress</td>\n",
       "      <td>charles</td>\n",
       "      <td>None</td>\n",
       "      <td>NaN</td>\n",
       "      <td>None</td>\n",
       "      <td>NaN</td>\n",
       "      <td>3</td>\n",
       "      <td>male</td>\n",
       "      <td>37.00</td>\n",
       "      <td>0</td>\n",
       "      <td>0</td>\n",
       "      <td>9.95</td>\n",
       "      <td>s</td>\n",
       "    </tr>\n",
       "    <tr>\n",
       "      <th>99998</th>\n",
       "      <td>caughlin</td>\n",
       "      <td>thomas</td>\n",
       "      <td>None</td>\n",
       "      <td>458654.0</td>\n",
       "      <td>None</td>\n",
       "      <td>NaN</td>\n",
       "      <td>3</td>\n",
       "      <td>male</td>\n",
       "      <td>51.00</td>\n",
       "      <td>0</td>\n",
       "      <td>1</td>\n",
       "      <td>30.92</td>\n",
       "      <td>s</td>\n",
       "    </tr>\n",
       "    <tr>\n",
       "      <th>99999</th>\n",
       "      <td>enciso</td>\n",
       "      <td>tyler</td>\n",
       "      <td>None</td>\n",
       "      <td>458074.0</td>\n",
       "      <td>None</td>\n",
       "      <td>NaN</td>\n",
       "      <td>3</td>\n",
       "      <td>male</td>\n",
       "      <td>55.00</td>\n",
       "      <td>0</td>\n",
       "      <td>0</td>\n",
       "      <td>13.96</td>\n",
       "      <td>s</td>\n",
       "    </tr>\n",
       "  </tbody>\n",
       "</table>\n",
       "<p>100000 rows × 13 columns</p>\n",
       "</div>"
      ],
      "text/plain": [
       "         surname  forename ticket_str  ticket_num cabin_str  cabin_num  \\\n",
       "0        oconnor   frankie       None    209245.0         c    12239.0   \n",
       "1          bryan      drew       None     27323.0      None        NaN   \n",
       "2          owens   kenneth         ca         NaN      None        NaN   \n",
       "3         kramer     james         a.         NaN      None        NaN   \n",
       "4           bond   michael       None    427635.0      None        NaN   \n",
       "...          ...       ...        ...         ...       ...        ...   \n",
       "99995       bell     adele         pc         NaN         d    17243.0   \n",
       "99996      brown    herman       None     13273.0      None        NaN   \n",
       "99997  childress   charles       None         NaN      None        NaN   \n",
       "99998   caughlin    thomas       None    458654.0      None        NaN   \n",
       "99999     enciso     tyler       None    458074.0      None        NaN   \n",
       "\n",
       "       pclass     sex    age  sibsp  parch   fare embarked  \n",
       "0           1    male    NaN      2      0  27.14        s  \n",
       "1           3    male    NaN      0      0  13.35        s  \n",
       "2           3    male   0.33      1      2  71.29        s  \n",
       "3           3    male  19.00      0      0  13.04        s  \n",
       "4           3    male  25.00      0      0   7.76        s  \n",
       "...       ...     ...    ...    ...    ...    ...      ...  \n",
       "99995       2  female  62.00      0      0  14.86        c  \n",
       "99996       2    male  66.00      0      0  11.15        s  \n",
       "99997       3    male  37.00      0      0   9.95        s  \n",
       "99998       3    male  51.00      0      1  30.92        s  \n",
       "99999       3    male  55.00      0      0  13.96        s  \n",
       "\n",
       "[100000 rows x 13 columns]"
      ]
     },
     "execution_count": 302,
     "metadata": {},
     "output_type": "execute_result"
    }
   ],
   "source": [
    "df2"
   ]
  },
  {
   "cell_type": "code",
   "execution_count": 306,
   "metadata": {},
   "outputs": [],
   "source": [
    "class CustomLGBMClassifier(ExperimentBase, LGBMClassifier):\n",
    "    pass"
   ]
  },
  {
   "cell_type": "code",
   "execution_count": 307,
   "metadata": {},
   "outputs": [],
   "source": [
    "pl_lgbm = Pipeline(steps=[\n",
    "    ('prepro', pl),\n",
    "    ('label_encoding', label_encoding),\n",
    "    ('lgbm', CustomLGBMClassifier())\n",
    "])"
   ]
  },
  {
   "cell_type": "code",
   "execution_count": 308,
   "metadata": {},
   "outputs": [
    {
     "name": "stdout",
     "output_type": "stream",
     "text": [
      "====Converting columns types====\n"
     ]
    },
    {
     "data": {
      "application/vnd.jupyter.widget-view+json": {
       "model_id": "700eea0526724357880172dd14ab7ab1",
       "version_major": 2,
       "version_minor": 0
      },
      "text/plain": [
       "0it [00:00, ?it/s]"
      ]
     },
     "metadata": {},
     "output_type": "display_data"
    },
    {
     "name": "stdout",
     "output_type": "stream",
     "text": [
      "{'surname': LabelEncoder(), 'forename': LabelEncoder(), 'ticket_str': LabelEncoder(), 'cabin_str': LabelEncoder(), 'sex': LabelEncoder(), 'embarked': LabelEncoder()}\n",
      "[['surname', 'forename', 'ticket_str', 'cabin_str', 'sex', 'embarked'], ['ticket_num', 'cabin_num', 'pclass', 'age', 'sibsp', 'parch', 'fare']]\n",
      "[(100000, 6), (100000, 7)]\n",
      "====Converting columns types====\n"
     ]
    },
    {
     "data": {
      "application/vnd.jupyter.widget-view+json": {
       "model_id": "a4cd7fd37c244494954590205711e3e8",
       "version_major": 2,
       "version_minor": 0
      },
      "text/plain": [
       "0it [00:00, ?it/s]"
      ]
     },
     "metadata": {},
     "output_type": "display_data"
    },
    {
     "data": {
      "text/html": [
       "<style>div.sk-top-container {color: black;background-color: white;}div.sk-toggleable {background-color: white;}label.sk-toggleable__label {cursor: pointer;display: block;width: 100%;margin-bottom: 0;padding: 0.2em 0.3em;box-sizing: border-box;text-align: center;}div.sk-toggleable__content {max-height: 0;max-width: 0;overflow: hidden;text-align: left;background-color: #f0f8ff;}div.sk-toggleable__content pre {margin: 0.2em;color: black;border-radius: 0.25em;background-color: #f0f8ff;}input.sk-toggleable__control:checked~div.sk-toggleable__content {max-height: 200px;max-width: 100%;overflow: auto;}div.sk-estimator input.sk-toggleable__control:checked~label.sk-toggleable__label {background-color: #d4ebff;}div.sk-label input.sk-toggleable__control:checked~label.sk-toggleable__label {background-color: #d4ebff;}input.sk-hidden--visually {border: 0;clip: rect(1px 1px 1px 1px);clip: rect(1px, 1px, 1px, 1px);height: 1px;margin: -1px;overflow: hidden;padding: 0;position: absolute;width: 1px;}div.sk-estimator {font-family: monospace;background-color: #f0f8ff;margin: 0.25em 0.25em;border: 1px dotted black;border-radius: 0.25em;box-sizing: border-box;}div.sk-estimator:hover {background-color: #d4ebff;}div.sk-parallel-item::after {content: \"\";width: 100%;border-bottom: 1px solid gray;flex-grow: 1;}div.sk-label:hover label.sk-toggleable__label {background-color: #d4ebff;}div.sk-serial::before {content: \"\";position: absolute;border-left: 1px solid gray;box-sizing: border-box;top: 2em;bottom: 0;left: 50%;}div.sk-serial {display: flex;flex-direction: column;align-items: center;background-color: white;}div.sk-item {z-index: 1;}div.sk-parallel {display: flex;align-items: stretch;justify-content: center;background-color: white;}div.sk-parallel-item {display: flex;flex-direction: column;position: relative;background-color: white;}div.sk-parallel-item:first-child::after {align-self: flex-end;width: 50%;}div.sk-parallel-item:last-child::after {align-self: flex-start;width: 50%;}div.sk-parallel-item:only-child::after {width: 0;}div.sk-dashed-wrapped {border: 1px dashed gray;margin: 0.2em;box-sizing: border-box;padding-bottom: 0.1em;background-color: white;position: relative;}div.sk-label label {font-family: monospace;font-weight: bold;background-color: white;display: inline-block;line-height: 1.2em;}div.sk-label-container {position: relative;z-index: 2;text-align: center;}div.sk-container {display: inline-block;position: relative;}</style><div class=\"sk-top-container\"><div class=\"sk-container\"><div class=\"sk-item sk-dashed-wrapped\"><div class=\"sk-label-container\"><div class=\"sk-label sk-toggleable\"><input class=\"sk-toggleable__control sk-hidden--visually\" id=\"dcfe318f-cbbf-4b9f-982b-bd8aed7a7b5c\" type=\"checkbox\" ><label class=\"sk-toggleable__label\" for=\"dcfe318f-cbbf-4b9f-982b-bd8aed7a7b5c\">Pipeline</label><div class=\"sk-toggleable__content\"><pre>Pipeline(steps=[('prepro',\n",
       "                 Pipeline(steps=[('raw_data_processor',\n",
       "                                  featureUnion(transformer_list=[('pass_name',\n",
       "                                                                  PassNameTransformer()),\n",
       "                                                                 ('ticket',\n",
       "                                                                  TicketTransformer()),\n",
       "                                                                 ('cabin',\n",
       "                                                                  CabinTransformer()),\n",
       "                                                                 ('others',\n",
       "                                                                  ColumnSelectTransformer(columns=['pclass',\n",
       "                                                                                                   'sex',\n",
       "                                                                                                   'age',\n",
       "                                                                                                   'sibsp',\n",
       "                                                                                                   'parch',\n",
       "                                                                                                   'fare',\n",
       "                                                                                                   'embarked']))])),\n",
       "                                 ('lower_text_values', LowerTransformer())])),\n",
       "                ('label_encoding',\n",
       "                 columnTransformer(remainder='passthrough',\n",
       "                                   transformers=[('category_encoder',\n",
       "                                                  CustomLabelEncoder(columns=['surname',\n",
       "                                                                              'forename',\n",
       "                                                                              'ticket_str',\n",
       "                                                                              'cabin_str',\n",
       "                                                                              'sex',\n",
       "                                                                              'embarked']),\n",
       "                                                  ['surname', 'forename',\n",
       "                                                   'ticket_str', 'cabin_str',\n",
       "                                                   'sex', 'embarked'])])),\n",
       "                ('lgbm', CustomLGBMClassifier())])</pre></div></div></div><div class=\"sk-serial\"><div class=\"sk-item\"><div class=\"sk-label-container\"><div class=\"sk-label sk-toggleable\"><input class=\"sk-toggleable__control sk-hidden--visually\" id=\"668b8821-d5c8-4c7b-937b-b2bc4489becf\" type=\"checkbox\" ><label class=\"sk-toggleable__label\" for=\"668b8821-d5c8-4c7b-937b-b2bc4489becf\">prepro: Pipeline</label><div class=\"sk-toggleable__content\"><pre>Pipeline(steps=[('raw_data_processor',\n",
       "                 featureUnion(transformer_list=[('pass_name',\n",
       "                                                 PassNameTransformer()),\n",
       "                                                ('ticket', TicketTransformer()),\n",
       "                                                ('cabin', CabinTransformer()),\n",
       "                                                ('others',\n",
       "                                                 ColumnSelectTransformer(columns=['pclass',\n",
       "                                                                                  'sex',\n",
       "                                                                                  'age',\n",
       "                                                                                  'sibsp',\n",
       "                                                                                  'parch',\n",
       "                                                                                  'fare',\n",
       "                                                                                  'embarked']))])),\n",
       "                ('lower_text_values', LowerTransformer())])</pre></div></div></div><div class=\"sk-serial\"><div class=\"sk-item sk-dashed-wrapped\"><div class=\"sk-label-container\"><div class=\"sk-label sk-toggleable\"><input class=\"sk-toggleable__control sk-hidden--visually\" id=\"758151e7-c64a-4c06-8707-369e8391a7c8\" type=\"checkbox\" ><label class=\"sk-toggleable__label\" for=\"758151e7-c64a-4c06-8707-369e8391a7c8\">raw_data_processor: featureUnion</label><div class=\"sk-toggleable__content\"><pre>featureUnion(transformer_list=[('pass_name', PassNameTransformer()),\n",
       "                               ('ticket', TicketTransformer()),\n",
       "                               ('cabin', CabinTransformer()),\n",
       "                               ('others',\n",
       "                                ColumnSelectTransformer(columns=['pclass',\n",
       "                                                                 'sex', 'age',\n",
       "                                                                 'sibsp',\n",
       "                                                                 'parch',\n",
       "                                                                 'fare',\n",
       "                                                                 'embarked']))])</pre></div></div></div><div class=\"sk-parallel\"><div class=\"sk-parallel-item\"><div class=\"sk-item\"><div class=\"sk-label-container\"><div class=\"sk-label sk-toggleable\"><label>pass_name</label></div></div><div class=\"sk-serial\"><div class=\"sk-item\"><div class=\"sk-estimator sk-toggleable\"><input class=\"sk-toggleable__control sk-hidden--visually\" id=\"386ffa04-00de-4cdb-aa13-b91a854ed34b\" type=\"checkbox\" ><label class=\"sk-toggleable__label\" for=\"386ffa04-00de-4cdb-aa13-b91a854ed34b\">PassNameTransformer</label><div class=\"sk-toggleable__content\"><pre>PassNameTransformer()</pre></div></div></div></div></div></div><div class=\"sk-parallel-item\"><div class=\"sk-item\"><div class=\"sk-label-container\"><div class=\"sk-label sk-toggleable\"><label>ticket</label></div></div><div class=\"sk-serial\"><div class=\"sk-item\"><div class=\"sk-estimator sk-toggleable\"><input class=\"sk-toggleable__control sk-hidden--visually\" id=\"988d4ec4-1916-4eeb-ba15-8688dc482d5b\" type=\"checkbox\" ><label class=\"sk-toggleable__label\" for=\"988d4ec4-1916-4eeb-ba15-8688dc482d5b\">TicketTransformer</label><div class=\"sk-toggleable__content\"><pre>TicketTransformer()</pre></div></div></div></div></div></div><div class=\"sk-parallel-item\"><div class=\"sk-item\"><div class=\"sk-label-container\"><div class=\"sk-label sk-toggleable\"><label>cabin</label></div></div><div class=\"sk-serial\"><div class=\"sk-item\"><div class=\"sk-estimator sk-toggleable\"><input class=\"sk-toggleable__control sk-hidden--visually\" id=\"b4bc26e5-ffa4-427a-b64e-b330ea8881cb\" type=\"checkbox\" ><label class=\"sk-toggleable__label\" for=\"b4bc26e5-ffa4-427a-b64e-b330ea8881cb\">CabinTransformer</label><div class=\"sk-toggleable__content\"><pre>CabinTransformer()</pre></div></div></div></div></div></div><div class=\"sk-parallel-item\"><div class=\"sk-item\"><div class=\"sk-label-container\"><div class=\"sk-label sk-toggleable\"><label>others</label></div></div><div class=\"sk-serial\"><div class=\"sk-item\"><div class=\"sk-estimator sk-toggleable\"><input class=\"sk-toggleable__control sk-hidden--visually\" id=\"699a9f37-5555-4880-8dd5-7fb676b3c16a\" type=\"checkbox\" ><label class=\"sk-toggleable__label\" for=\"699a9f37-5555-4880-8dd5-7fb676b3c16a\">ColumnSelectTransformer</label><div class=\"sk-toggleable__content\"><pre>ColumnSelectTransformer(columns=['pclass', 'sex', 'age', 'sibsp', 'parch',\n",
       "                                 'fare', 'embarked'])</pre></div></div></div></div></div></div></div></div><div class=\"sk-item\"><div class=\"sk-estimator sk-toggleable\"><input class=\"sk-toggleable__control sk-hidden--visually\" id=\"be773c14-a4d9-4a46-a68f-ce689b5006ee\" type=\"checkbox\" ><label class=\"sk-toggleable__label\" for=\"be773c14-a4d9-4a46-a68f-ce689b5006ee\">LowerTransformer</label><div class=\"sk-toggleable__content\"><pre>LowerTransformer()</pre></div></div></div></div></div><div class=\"sk-item sk-dashed-wrapped\"><div class=\"sk-label-container\"><div class=\"sk-label sk-toggleable\"><input class=\"sk-toggleable__control sk-hidden--visually\" id=\"f6d4a121-df58-42ac-a12d-f91be631e163\" type=\"checkbox\" ><label class=\"sk-toggleable__label\" for=\"f6d4a121-df58-42ac-a12d-f91be631e163\">label_encoding: columnTransformer</label><div class=\"sk-toggleable__content\"><pre>columnTransformer(remainder='passthrough',\n",
       "                  transformers=[('category_encoder',\n",
       "                                 CustomLabelEncoder(columns=['surname',\n",
       "                                                             'forename',\n",
       "                                                             'ticket_str',\n",
       "                                                             'cabin_str', 'sex',\n",
       "                                                             'embarked']),\n",
       "                                 ['surname', 'forename', 'ticket_str',\n",
       "                                  'cabin_str', 'sex', 'embarked'])])</pre></div></div></div><div class=\"sk-parallel\"><div class=\"sk-parallel-item\"><div class=\"sk-item\"><div class=\"sk-label-container\"><div class=\"sk-label sk-toggleable\"><input class=\"sk-toggleable__control sk-hidden--visually\" id=\"15914d62-a553-4033-a136-4ab7524b57dd\" type=\"checkbox\" ><label class=\"sk-toggleable__label\" for=\"15914d62-a553-4033-a136-4ab7524b57dd\">category_encoder</label><div class=\"sk-toggleable__content\"><pre>['surname', 'forename', 'ticket_str', 'cabin_str', 'sex', 'embarked']</pre></div></div></div><div class=\"sk-serial\"><div class=\"sk-item\"><div class=\"sk-estimator sk-toggleable\"><input class=\"sk-toggleable__control sk-hidden--visually\" id=\"5679127b-5154-4701-a89b-367dbc781413\" type=\"checkbox\" ><label class=\"sk-toggleable__label\" for=\"5679127b-5154-4701-a89b-367dbc781413\">CustomLabelEncoder</label><div class=\"sk-toggleable__content\"><pre>CustomLabelEncoder(columns=['surname', 'forename', 'ticket_str', 'cabin_str',\n",
       "                            'sex', 'embarked'])</pre></div></div></div></div></div></div><div class=\"sk-parallel-item\"><div class=\"sk-item\"><div class=\"sk-label-container\"><div class=\"sk-label sk-toggleable\"><input class=\"sk-toggleable__control sk-hidden--visually\" id=\"4a754fe7-17a2-48b5-bb91-82ddc44ffe68\" type=\"checkbox\" ><label class=\"sk-toggleable__label\" for=\"4a754fe7-17a2-48b5-bb91-82ddc44ffe68\">remainder</label><div class=\"sk-toggleable__content\"><pre>['ticket_num', 'cabin_num', 'pclass', 'age', 'sibsp', 'parch', 'fare']</pre></div></div></div><div class=\"sk-serial\"><div class=\"sk-item\"><div class=\"sk-estimator sk-toggleable\"><input class=\"sk-toggleable__control sk-hidden--visually\" id=\"36d2706a-617b-4a0c-95d5-f100100c08c0\" type=\"checkbox\" ><label class=\"sk-toggleable__label\" for=\"36d2706a-617b-4a0c-95d5-f100100c08c0\">passthrough</label><div class=\"sk-toggleable__content\"><pre>passthrough</pre></div></div></div></div></div></div></div></div><div class=\"sk-item\"><div class=\"sk-estimator sk-toggleable\"><input class=\"sk-toggleable__control sk-hidden--visually\" id=\"bb28ae74-d612-4777-b31a-db6676a2b896\" type=\"checkbox\" ><label class=\"sk-toggleable__label\" for=\"bb28ae74-d612-4777-b31a-db6676a2b896\">CustomLGBMClassifier</label><div class=\"sk-toggleable__content\"><pre>CustomLGBMClassifier()</pre></div></div></div></div></div></div></div>"
      ],
      "text/plain": [
       "Pipeline(steps=[('prepro',\n",
       "                 Pipeline(steps=[('raw_data_processor',\n",
       "                                  featureUnion(transformer_list=[('pass_name',\n",
       "                                                                  PassNameTransformer()),\n",
       "                                                                 ('ticket',\n",
       "                                                                  TicketTransformer()),\n",
       "                                                                 ('cabin',\n",
       "                                                                  CabinTransformer()),\n",
       "                                                                 ('others',\n",
       "                                                                  ColumnSelectTransformer(columns=['pclass',\n",
       "                                                                                                   'sex',\n",
       "                                                                                                   'age',\n",
       "                                                                                                   'sibsp',\n",
       "                                                                                                   'parch',\n",
       "                                                                                                   'fare',\n",
       "                                                                                                   'embarked']))])),\n",
       "                                 ('lower_text_values', LowerTransformer())])),\n",
       "                ('label_encoding',\n",
       "                 columnTransformer(remainder='passthrough',\n",
       "                                   transformers=[('category_encoder',\n",
       "                                                  CustomLabelEncoder(columns=['surname',\n",
       "                                                                              'forename',\n",
       "                                                                              'ticket_str',\n",
       "                                                                              'cabin_str',\n",
       "                                                                              'sex',\n",
       "                                                                              'embarked']),\n",
       "                                                  ['surname', 'forename',\n",
       "                                                   'ticket_str', 'cabin_str',\n",
       "                                                   'sex', 'embarked'])])),\n",
       "                ('lgbm', CustomLGBMClassifier())])"
      ]
     },
     "execution_count": 308,
     "metadata": {},
     "output_type": "execute_result"
    }
   ],
   "source": [
    "pl_lgbm.fit(X_train, y_train)"
   ]
  },
  {
   "cell_type": "code",
   "execution_count": 309,
   "metadata": {},
   "outputs": [
    {
     "name": "stdout",
     "output_type": "stream",
     "text": [
      "====Converting columns types====\n"
     ]
    },
    {
     "data": {
      "application/vnd.jupyter.widget-view+json": {
       "model_id": "d390c7ee6a174edc8fcfe01156cef5fe",
       "version_major": 2,
       "version_minor": 0
      },
      "text/plain": [
       "0it [00:00, ?it/s]"
      ]
     },
     "metadata": {},
     "output_type": "display_data"
    },
    {
     "name": "stdout",
     "output_type": "stream",
     "text": [
      "[['surname', 'forename', 'ticket_str', 'cabin_str', 'sex', 'embarked'], ['ticket_num', 'cabin_num', 'pclass', 'age', 'sibsp', 'parch', 'fare']]\n",
      "[(100000, 6), (100000, 7)]\n",
      "====Converting columns types====\n"
     ]
    },
    {
     "data": {
      "application/vnd.jupyter.widget-view+json": {
       "model_id": "64589f6492d04893907b9ce54293422d",
       "version_major": 2,
       "version_minor": 0
      },
      "text/plain": [
       "0it [00:00, ?it/s]"
      ]
     },
     "metadata": {},
     "output_type": "display_data"
    },
    {
     "data": {
      "text/plain": [
       "array([0, 0, 1, ..., 0, 1, 1])"
      ]
     },
     "execution_count": 309,
     "metadata": {},
     "output_type": "execute_result"
    }
   ],
   "source": [
    "pl_lgbm.predict(X_test)"
   ]
  },
  {
   "cell_type": "code",
   "execution_count": 320,
   "metadata": {},
   "outputs": [
    {
     "name": "stdout",
     "output_type": "stream",
     "text": [
      "====Converting columns types====\n"
     ]
    },
    {
     "data": {
      "application/vnd.jupyter.widget-view+json": {
       "model_id": "a0ec82baa71247f1aecfff38e41c18c7",
       "version_major": 2,
       "version_minor": 0
      },
      "text/plain": [
       "0it [00:00, ?it/s]"
      ]
     },
     "metadata": {},
     "output_type": "display_data"
    },
    {
     "name": "stdout",
     "output_type": "stream",
     "text": [
      "[['surname', 'forename', 'ticket_str', 'cabin_str', 'sex', 'embarked'], ['ticket_num', 'cabin_num', 'pclass', 'age', 'sibsp', 'parch', 'fare']]\n",
      "[(100000, 6), (100000, 7)]\n",
      "====Converting columns types====\n"
     ]
    },
    {
     "data": {
      "application/vnd.jupyter.widget-view+json": {
       "model_id": "ad05c80b8da94a38a77de2f3a868e5dd",
       "version_major": 2,
       "version_minor": 0
      },
      "text/plain": [
       "0it [00:00, ?it/s]"
      ]
     },
     "metadata": {},
     "output_type": "display_data"
    }
   ],
   "source": [
    "a = pl_lgbm.predict(X_train)"
   ]
  },
  {
   "cell_type": "code",
   "execution_count": 324,
   "metadata": {},
   "outputs": [
    {
     "name": "stdout",
     "output_type": "stream",
     "text": [
      "              precision    recall  f1-score   support\n",
      "\n",
      "           0       0.81      0.83      0.82     57226\n",
      "           1       0.77      0.74      0.75     42774\n",
      "\n",
      "    accuracy                           0.79    100000\n",
      "   macro avg       0.79      0.79      0.79    100000\n",
      "weighted avg       0.79      0.79      0.79    100000\n",
      "\n"
     ]
    }
   ],
   "source": [
    "print(classification_report(y_train, a))"
   ]
  },
  {
   "cell_type": "code",
   "execution_count": 322,
   "metadata": {},
   "outputs": [
    {
     "data": {
      "text/plain": [
       "array([0, 0, 0, ..., 0, 0, 0])"
      ]
     },
     "execution_count": 322,
     "metadata": {},
     "output_type": "execute_result"
    }
   ],
   "source": [
    "a"
   ]
  },
  {
   "cell_type": "code",
   "execution_count": 325,
   "metadata": {},
   "outputs": [
    {
     "name": "stdout",
     "output_type": "stream",
     "text": [
      "====Converting columns types====\n"
     ]
    },
    {
     "data": {
      "application/vnd.jupyter.widget-view+json": {
       "model_id": "e98d42d7bcaa40d8a338104793c90929",
       "version_major": 2,
       "version_minor": 0
      },
      "text/plain": [
       "0it [00:00, ?it/s]"
      ]
     },
     "metadata": {},
     "output_type": "display_data"
    },
    {
     "data": {
      "application/vnd.jupyter.widget-view+json": {
       "model_id": "93b6524122db473c8d5666fd6ccfea76",
       "version_major": 2,
       "version_minor": 0
      },
      "text/plain": [
       "0it [00:00, ?it/s]"
      ]
     },
     "metadata": {},
     "output_type": "display_data"
    },
    {
     "data": {
      "application/vnd.jupyter.widget-view+json": {
       "model_id": "f97de343b26142aea86abf2059c5dca1",
       "version_major": 2,
       "version_minor": 0
      },
      "text/plain": [
       "0it [00:00, ?it/s]"
      ]
     },
     "metadata": {},
     "output_type": "display_data"
    },
    {
     "data": {
      "application/vnd.jupyter.widget-view+json": {
       "model_id": "6dcd667fd5b64eb5a9611ecf2fd76d71",
       "version_major": 2,
       "version_minor": 0
      },
      "text/plain": [
       "0it [00:00, ?it/s]"
      ]
     },
     "metadata": {},
     "output_type": "display_data"
    },
    {
     "name": "stdout",
     "output_type": "stream",
     "text": [
      "[['surname', 'forename', 'ticket_str', 'cabin_str', 'sex', 'embarked'], ['ticket_num', 'cabin_num', 'age', 'fare'], ['pclass', 'sibsp', 'parch']]\n",
      "[(100000, 6), (100000, 4), (100000, 3)]\n",
      "====Converting columns types====\n"
     ]
    },
    {
     "data": {
      "application/vnd.jupyter.widget-view+json": {
       "model_id": "19f3b3a571d94d2c85d568f48d825669",
       "version_major": 2,
       "version_minor": 0
      },
      "text/plain": [
       "0it [00:00, ?it/s]"
      ]
     },
     "metadata": {},
     "output_type": "display_data"
    }
   ],
   "source": [
    "b = pl4.predict(X_train)"
   ]
  },
  {
   "cell_type": "code",
   "execution_count": 326,
   "metadata": {},
   "outputs": [
    {
     "data": {
      "text/plain": [
       "array([0, 0, 0, ..., 0, 0, 0])"
      ]
     },
     "execution_count": 326,
     "metadata": {},
     "output_type": "execute_result"
    }
   ],
   "source": [
    "b"
   ]
  },
  {
   "cell_type": "code",
   "execution_count": 329,
   "metadata": {},
   "outputs": [
    {
     "data": {
      "text/plain": [
       "2396"
      ]
     },
     "execution_count": 329,
     "metadata": {},
     "output_type": "execute_result"
    }
   ],
   "source": [
    "(~(a == b)).sum()"
   ]
  },
  {
   "cell_type": "code",
   "execution_count": null,
   "metadata": {},
   "outputs": [],
   "source": []
  },
  {
   "cell_type": "code",
   "execution_count": null,
   "metadata": {},
   "outputs": [],
   "source": []
  },
  {
   "cell_type": "code",
   "execution_count": null,
   "metadata": {},
   "outputs": [],
   "source": []
  },
  {
   "cell_type": "code",
   "execution_count": null,
   "metadata": {},
   "outputs": [],
   "source": [
    "from catboost import CatBoostRegressor, CatBoostClassifier"
   ]
  },
  {
   "cell_type": "code",
   "execution_count": null,
   "metadata": {},
   "outputs": [],
   "source": [
    "def fill_unk(sr):\n",
    "    return sr.fillna('unk')"
   ]
  },
  {
   "cell_type": "code",
   "execution_count": null,
   "metadata": {},
   "outputs": [],
   "source": [
    "def fill_mean(sr):\n",
    "    return sr.fillna(sr.mean())"
   ]
  },
  {
   "cell_type": "code",
   "execution_count": null,
   "metadata": {},
   "outputs": [],
   "source": [
    "def fill_0(sr):\n",
    "    return sr.fillna(0)"
   ]
  },
  {
   "cell_type": "code",
   "execution_count": null,
   "metadata": {},
   "outputs": [],
   "source": [
    "def fill_popular(sr):\n",
    "    popular = sr.value_counts().index[0]\n",
    "    return sr.fillna(popular)"
   ]
  },
  {
   "cell_type": "code",
   "execution_count": null,
   "metadata": {},
   "outputs": [],
   "source": [
    "((df2['ticket_str'].value_counts().max() / df2['ticket_str'].value_counts()) ** 0.3).to_dict()"
   ]
  },
  {
   "cell_type": "code",
   "execution_count": null,
   "metadata": {},
   "outputs": [],
   "source": [
    "((df2['cabin_str'].value_counts().max() / df2['cabin_str'].value_counts()) ** 0.3).to_dict()"
   ]
  },
  {
   "cell_type": "code",
   "execution_count": null,
   "metadata": {},
   "outputs": [],
   "source": [
    "impute_plan = {\n",
    "    'features_plan': {\n",
    "        'fare': {\n",
    "            'model': CatBoostRegressor,\n",
    "            'predictors': [c for c in df2.columns if c not in ['fare']],\n",
    "            'catboost_kwgs': {'iterations':200}\n",
    "        },\n",
    "        'embarked': {\n",
    "            'model': CatBoostClassifier,\n",
    "            'predictors': [c for c in df2.columns if c not in ['embarked']],\n",
    "            'catboost_kwgs': {'iterations': 200}\n",
    "        },\n",
    "        'age': {\n",
    "            'model': CatBoostRegressor,\n",
    "            'predictors': [c for c in df2.columns if c not in ['age']],\n",
    "            'catboost_kwgs': {'iterations': 200}\n",
    "        },\n",
    "        'ticket_num':{\n",
    "            'model': CatBoostRegressor,\n",
    "            'predictors': [c for c in df2.columns if c not in ['age']],\n",
    "            'catboost_kwgs': {'iterations': 200}\n",
    "        },\n",
    "        'ticket_str':{\n",
    "            'model': CatBoostClassifier,\n",
    "            'predictors': [c for c in df2.columns if c not in ['embarked']],\n",
    "            'catboost_kwgs': {\n",
    "                'iterations': 200, \n",
    "                'class_weights': ((df2['ticket_str'].value_counts().max() / df2['ticket_str'].value_counts()) ** 0.3).to_dict()\n",
    "            }\n",
    "        },\n",
    "        'cabin_num':{\n",
    "            'model': CatBoostRegressor,\n",
    "            'predictors': [c for c in df2.columns if c not in ['age']],\n",
    "            'catboost_kwgs': {\n",
    "                'iterations': 200\n",
    "            }\n",
    "        },\n",
    "        'cabin_str':{\n",
    "            'model': CatBoostClassifier,\n",
    "            'predictors': [c for c in df2.columns if c not in ['embarked']],\n",
    "            'catboost_kwgs': {\n",
    "                'iterations': 200,\n",
    "                'class_weights': ((df2['cabin_str'].value_counts().max() / df2['cabin_str'].value_counts()) ** 0.3).to_dict()\n",
    "            }\n",
    "        }\n",
    "    },\n",
    "    'if_na': {\n",
    "        'ticket_str':fill_unk,\n",
    "        'ticket_num':fill_mean,\n",
    "        'cabin_str':fill_unk,\n",
    "        'cabin_num':fill_mean,\n",
    "        'age':fill_mean,\n",
    "        'embarked':fill_popular,\n",
    "        'fare': fill_mean\n",
    "    },\n",
    "    'eval_frac': 0.1,\n",
    "    'cat_features': ['surname', 'forename', 'ticket_str', 'cabin_str', 'sex', 'embarked']\n",
    "}"
   ]
  },
  {
   "cell_type": "code",
   "execution_count": null,
   "metadata": {},
   "outputs": [],
   "source": [
    "from sklearn.model_selection import train_test_split\n",
    "\n",
    "class CatBoostImputor(BaseEstimator, TransformerMixin):\n",
    "    def __init__(self, impute_plan, predictors_order):\n",
    "        super(CatBoostImputor).__init__()\n",
    "        self.impute_plan = impute_plan\n",
    "        self.predictors_order = predictors_order\n",
    "        \n",
    "    def fit(self, X, y=None):\n",
    "        return self\n",
    "    \n",
    "    def train_eval_test_split(self, x, y):\n",
    "        eval_frac = self.impute_plan['eval_frac']\n",
    "        y_test = y[y.isna()].copy()\n",
    "        x_test = x[y.isna()].copy()\n",
    "        x_t = x[~y.isna()].copy()\n",
    "        y_t = y[~y.isna()].copy()\n",
    "        x_train, x_eval, y_train, y_eval = train_test_split(x_t, y_t, test_size=eval_frac)\n",
    "        return x_train, y_train, x_eval, y_eval, x_test, y_test\n",
    "        \n",
    "    def transform(self, X):\n",
    "        self.X = X\n",
    "        self.X_impute = X.copy()\n",
    "        for col in self.predictors_order:\n",
    "            predictor_list = self.impute_plan['features_plan'][col]['predictors']\n",
    "            cat_features=[c for c in predictor_list if c in self.impute_plan['cat_features']]\n",
    "            # Prepare data to fit\n",
    "            print(f'Prepare data to fit, feature: {col}')\n",
    "            x = self.X_impute[predictor_list].copy()\n",
    "            y = self.X_impute[col]\n",
    "            na_cols = [col for col in x.columns if x[col].isna().sum() > 0]\n",
    "            for c in na_cols:\n",
    "                x[c] = self.impute_plan['if_na'][c](x[c])\n",
    "            x_train, y_train, x_eval, y_eval, x_test, y_test = self.train_eval_test_split(x, y)\n",
    "            \n",
    "            # Create model\n",
    "            ModelClass = self.impute_plan['features_plan'][col]['model']\n",
    "            model = ModelClass(**self.impute_plan['features_plan'][col]['catboost_kwgs'], early_stopping_rounds=50, verbose=True, metric_period=50, use_best_model=True)\n",
    "            # Fit model\n",
    "            print(f'Fit model: {col}')\n",
    "            model.fit(x_train, y_train, eval_set=(x_eval, y_eval), cat_features=cat_features)\n",
    "            x_test[col] = model.predict(x_test)\n",
    "            print(f'Predicted for {x_test.shape[0]} unknown examples')\n",
    "            self.X_impute.loc[y.isna(),col] = x_test[col]\n",
    "            print(f'Imputed done for {col}')\n",
    "        print(f'Imputed done for all dataset, num null left: {self.X_impute.isna().sum()}')\n",
    "        return self.X_impute\n",
    "            \n",
    "            "
   ]
  },
  {
   "cell_type": "code",
   "execution_count": null,
   "metadata": {},
   "outputs": [],
   "source": [
    "cbi = CatBoostImputor(impute_plan, ['fare', 'embarked', 'age', 'ticket_num', 'ticket_str', 'cabin_num', 'cabin_str'])"
   ]
  },
  {
   "cell_type": "code",
   "execution_count": null,
   "metadata": {},
   "outputs": [],
   "source": [
    "clean_X_train = cbi.fit_transform(df2)"
   ]
  },
  {
   "cell_type": "code",
   "execution_count": null,
   "metadata": {},
   "outputs": [],
   "source": [
    "print('Done')"
   ]
  },
  {
   "cell_type": "code",
   "execution_count": null,
   "metadata": {},
   "outputs": [],
   "source": [
    "clean_X_train.to_parquet('data/clean_X_train.parquet')"
   ]
  },
  {
   "cell_type": "code",
   "execution_count": null,
   "metadata": {},
   "outputs": [],
   "source": [
    "y_train"
   ]
  },
  {
   "cell_type": "code",
   "execution_count": null,
   "metadata": {},
   "outputs": [],
   "source": [
    "X_train_t, X_train_e, y_train_t, y_train_e = train_test_split(clean_X_train, y_train, test_size=0.1)"
   ]
  },
  {
   "cell_type": "code",
   "execution_count": null,
   "metadata": {},
   "outputs": [],
   "source": [
    "model_clean = CatBoostClassifier(iterations=1000, cat_features=['surname', 'forename', 'ticket_str', 'cabin_str', 'sex', 'embarked'], \n",
    "                                 early_stopping_rounds=50, verbose=True, metric_period=50, use_best_model=True)"
   ]
  },
  {
   "cell_type": "code",
   "execution_count": null,
   "metadata": {},
   "outputs": [],
   "source": [
    "X_train_t"
   ]
  },
  {
   "cell_type": "code",
   "execution_count": null,
   "metadata": {},
   "outputs": [],
   "source": [
    "model_clean.fit(X_train_t, y_train_t, eval_set = (X_train_e, y_train_e))"
   ]
  },
  {
   "cell_type": "code",
   "execution_count": null,
   "metadata": {},
   "outputs": [],
   "source": [
    "y_train_e_pred = model_clean.predict(X_train_e)"
   ]
  },
  {
   "cell_type": "code",
   "execution_count": null,
   "metadata": {},
   "outputs": [],
   "source": [
    "from sklearn.metrics import classification_report\n",
    "print(classification_report(y_train_e, model_clean.predict(X_train_e)))"
   ]
  },
  {
   "cell_type": "code",
   "execution_count": null,
   "metadata": {},
   "outputs": [],
   "source": [
    "print(classification_report(y_train_t, model_clean.predict(X_train_t)))"
   ]
  },
  {
   "cell_type": "code",
   "execution_count": null,
   "metadata": {},
   "outputs": [],
   "source": []
  },
  {
   "cell_type": "code",
   "execution_count": null,
   "metadata": {},
   "outputs": [],
   "source": []
  },
  {
   "cell_type": "code",
   "execution_count": null,
   "metadata": {},
   "outputs": [],
   "source": [
    "def ft_imp(model):\n",
    "    fi = pd.DataFrame({\n",
    "        'feature':X_train_e.columns,\n",
    "        'importance': model.feature_importances_\n",
    "    })\n",
    "\n",
    "    return fi.sort_values(by='importance',ascending=False).iloc[:50].style.bar()"
   ]
  },
  {
   "cell_type": "code",
   "execution_count": null,
   "metadata": {},
   "outputs": [],
   "source": [
    "ft_imp(model_clean)"
   ]
  },
  {
   "cell_type": "code",
   "execution_count": null,
   "metadata": {},
   "outputs": [],
   "source": [
    "X_test_2 = pl.fit_transform(X_test)"
   ]
  },
  {
   "cell_type": "code",
   "execution_count": null,
   "metadata": {},
   "outputs": [],
   "source": [
    "X_test_2"
   ]
  },
  {
   "cell_type": "code",
   "execution_count": null,
   "metadata": {},
   "outputs": [],
   "source": [
    "cbi_test = CatBoostImputor(impute_plan, ['fare', 'embarked', 'age', 'ticket_num', 'ticket_str', 'cabin_num', 'cabin_str'])"
   ]
  },
  {
   "cell_type": "code",
   "execution_count": null,
   "metadata": {},
   "outputs": [],
   "source": [
    "X_test_clean = cbi_test.fit_transform(X_test_2)"
   ]
  },
  {
   "cell_type": "code",
   "execution_count": null,
   "metadata": {},
   "outputs": [],
   "source": [
    "X_test_clean.to_parquet('data/clean_X_test.parquet')"
   ]
  },
  {
   "cell_type": "code",
   "execution_count": null,
   "metadata": {},
   "outputs": [],
   "source": [
    "X_test_2.ticket_num.hist(bins=50)\n",
    "plt.show()\n",
    "X_test_clean.ticket_num.hist(bins=50)\n",
    "plt.show()"
   ]
  },
  {
   "cell_type": "code",
   "execution_count": null,
   "metadata": {},
   "outputs": [],
   "source": [
    "X_test_2.cabin_num.hist(bins=50)\n",
    "plt.show()\n",
    "X_test_clean.cabin_num.hist(bins=50)\n",
    "plt.show()"
   ]
  },
  {
   "cell_type": "code",
   "execution_count": null,
   "metadata": {},
   "outputs": [],
   "source": [
    "X_test_2.age.hist(bins=50)\n",
    "plt.show()\n",
    "X_test_clean.age.hist(bins=50)\n",
    "plt.show()"
   ]
  },
  {
   "cell_type": "code",
   "execution_count": null,
   "metadata": {},
   "outputs": [],
   "source": [
    "X_test_2.cabin_str.value_counts()[:20]"
   ]
  },
  {
   "cell_type": "code",
   "execution_count": null,
   "metadata": {},
   "outputs": [],
   "source": [
    "X_test_clean.cabin_str.value_counts()[:20]"
   ]
  },
  {
   "cell_type": "markdown",
   "metadata": {},
   "source": [
    "## Extent pipeline"
   ]
  },
  {
   "cell_type": "code",
   "execution_count": null,
   "metadata": {},
   "outputs": [],
   "source": [
    "pl"
   ]
  },
  {
   "cell_type": "code",
   "execution_count": null,
   "metadata": {},
   "outputs": [],
   "source": [
    "from copy import deepcopy"
   ]
  },
  {
   "cell_type": "code",
   "execution_count": null,
   "metadata": {},
   "outputs": [],
   "source": [
    "impute_plan2 = deepcopy(impute_plan)\n",
    "wgt = 0\n",
    "impute_plan2['features_plan']['ticket_str']['catboost_kwgs']['class_weights'] = ((df2['ticket_str'].value_counts().max() / df2['ticket_str'].value_counts()) ** wgt).to_dict()\n",
    "impute_plan2['features_plan']['cabin_str']['catboost_kwgs']['class_weights'] = ((df2['cabin_str'].value_counts().max() / df2['cabin_str'].value_counts()) ** wgt).to_dict()"
   ]
  },
  {
   "cell_type": "code",
   "execution_count": null,
   "metadata": {},
   "outputs": [],
   "source": [
    "pl3 = Pipeline(steps = [\n",
    "    ('aaa', pl), \n",
    "    ('catboost_imputor', CatBoostImputor(impute_plan2,  ['fare', 'embarked', 'age', 'ticket_num', 'ticket_str', 'cabin_num', 'cabin_str']))\n",
    "])"
   ]
  },
  {
   "cell_type": "code",
   "execution_count": null,
   "metadata": {},
   "outputs": [],
   "source": [
    "pl3"
   ]
  },
  {
   "cell_type": "code",
   "execution_count": null,
   "metadata": {},
   "outputs": [],
   "source": [
    "pl2 = Pipeline(steps=[\n",
    "    ('raw_data_processor', col_processor),\n",
    "    ('lower_text_values', LowerTransformer()),\n",
    "    ('catboost_imputor', CatBoostImputor(impute_plan2,  ['fare', 'embarked', 'age', 'ticket_num', 'ticket_str', 'cabin_num', 'cabin_str']))\n",
    "])"
   ]
  },
  {
   "cell_type": "code",
   "execution_count": null,
   "metadata": {},
   "outputs": [],
   "source": [
    "pl2"
   ]
  },
  {
   "cell_type": "code",
   "execution_count": null,
   "metadata": {},
   "outputs": [],
   "source": [
    "clean_X_train2 = pl2.fit_transform(X_train)"
   ]
  },
  {
   "cell_type": "code",
   "execution_count": null,
   "metadata": {},
   "outputs": [],
   "source": []
  },
  {
   "cell_type": "code",
   "execution_count": null,
   "metadata": {},
   "outputs": [],
   "source": [
    "pl2.__class__.__name__"
   ]
  },
  {
   "cell_type": "code",
   "execution_count": null,
   "metadata": {},
   "outputs": [],
   "source": [
    "a = CatBoostImputor(impute_plan, predictors_order=['fare', 'embarked', 'age', 'ticket_num', 'ticket_str', 'cabin_num', 'cabin_str'])"
   ]
  },
  {
   "cell_type": "code",
   "execution_count": null,
   "metadata": {},
   "outputs": [],
   "source": [
    "a.__name__"
   ]
  },
  {
   "cell_type": "code",
   "execution_count": null,
   "metadata": {},
   "outputs": [],
   "source": [
    "a.__class__.__name__"
   ]
  },
  {
   "cell_type": "code",
   "execution_count": null,
   "metadata": {},
   "outputs": [],
   "source": [
    "a.__class__.__name__"
   ]
  },
  {
   "cell_type": "code",
   "execution_count": null,
   "metadata": {},
   "outputs": [],
   "source": [
    "CatBoostImputor.__name__"
   ]
  },
  {
   "cell_type": "code",
   "execution_count": null,
   "metadata": {},
   "outputs": [],
   "source": [
    "from time import time"
   ]
  },
  {
   "cell_type": "code",
   "execution_count": null,
   "metadata": {},
   "outputs": [],
   "source": [
    "time()"
   ]
  },
  {
   "cell_type": "code",
   "execution_count": null,
   "metadata": {},
   "outputs": [],
   "source": [
    "from time import time, sleep\n",
    "class PipelineLogger:\n",
    "    def __init__(self):\n",
    "        pass\n",
    "        \n",
    "    def log_start(self):\n",
    "        self.start_time = time()\n",
    "        print(f'======== {self.__class__.__name__} - START ========')\n",
    "        return None\n",
    "        \n",
    "    def log_finish(self):\n",
    "        self.duration = time() - self.start_time\n",
    "        print(f'======== {self.__class__.__name__} - FINISH =======> Take: {self.duration:.6f}(s)')"
   ]
  },
  {
   "cell_type": "code",
   "execution_count": null,
   "metadata": {},
   "outputs": [],
   "source": [
    "class JustSleep(PipelineLogger):\n",
    "    def __init__(self):\n",
    "        pass\n",
    "    \n",
    "    def sleep(self):\n",
    "        self.log_start()\n",
    "        sleep(1)\n",
    "        self.log_finish()"
   ]
  },
  {
   "cell_type": "code",
   "execution_count": null,
   "metadata": {},
   "outputs": [],
   "source": [
    "js = JustSleep()"
   ]
  },
  {
   "cell_type": "code",
   "execution_count": null,
   "metadata": {},
   "outputs": [],
   "source": [
    "js.sleep()"
   ]
  },
  {
   "cell_type": "code",
   "execution_count": null,
   "metadata": {},
   "outputs": [],
   "source": []
  },
  {
   "cell_type": "code",
   "execution_count": null,
   "metadata": {},
   "outputs": [],
   "source": []
  },
  {
   "cell_type": "code",
   "execution_count": null,
   "metadata": {},
   "outputs": [],
   "source": [
    "pl += Pipeline(steps=[('catboost_imputor', CatBoostImputor(impute_plan,  ['fare', 'embarked', 'age', 'ticket_num', 'ticket_str', 'cabin_num', 'cabin_str']))])"
   ]
  },
  {
   "cell_type": "code",
   "execution_count": null,
   "metadata": {},
   "outputs": [],
   "source": []
  },
  {
   "cell_type": "code",
   "execution_count": null,
   "metadata": {},
   "outputs": [],
   "source": []
  },
  {
   "cell_type": "markdown",
   "metadata": {},
   "source": [
    "# Catboost without fillna"
   ]
  },
  {
   "cell_type": "code",
   "execution_count": null,
   "metadata": {},
   "outputs": [],
   "source": [
    "df2"
   ]
  },
  {
   "cell_type": "code",
   "execution_count": null,
   "metadata": {},
   "outputs": [],
   "source": [
    "y_train"
   ]
  },
  {
   "cell_type": "code",
   "execution_count": null,
   "metadata": {},
   "outputs": [],
   "source": [
    "y_train.value_counts()"
   ]
  },
  {
   "cell_type": "code",
   "execution_count": null,
   "metadata": {},
   "outputs": [],
   "source": [
    "df2.info()"
   ]
  },
  {
   "cell_type": "code",
   "execution_count": null,
   "metadata": {},
   "outputs": [],
   "source": [
    "X_train_fillsimple = df2.copy()\n",
    "X_train_fillsimple[['ticket_str', 'cabin_str', 'embarked']] = X_train_fillsimple[['ticket_str', 'cabin_str', 'embarked']].fillna('unk')"
   ]
  },
  {
   "cell_type": "code",
   "execution_count": null,
   "metadata": {},
   "outputs": [],
   "source": [
    "X_train_fs_t, X_train_fs_e, y_train_fs_t, y_train_fs_e = train_test_split(X_train_fillsimple, y_train, test_size=0.1)"
   ]
  },
  {
   "cell_type": "code",
   "execution_count": null,
   "metadata": {},
   "outputs": [],
   "source": [
    "model_fs = CatBoostClassifier(iterations=1000, cat_features=['surname', 'forename', 'ticket_str', 'cabin_str', 'sex', 'embarked'], \n",
    "                                 early_stopping_rounds=50, verbose=True, metric_period=50, use_best_model=True, auto_class_weights=None)"
   ]
  },
  {
   "cell_type": "code",
   "execution_count": null,
   "metadata": {},
   "outputs": [],
   "source": [
    "model_fs.fit(X_train_fs_t, y_train_fs_t, eval_set = (X_train_fs_e, y_train_fs_e), )"
   ]
  },
  {
   "cell_type": "code",
   "execution_count": null,
   "metadata": {},
   "outputs": [],
   "source": [
    "X_test_fillsimple = X_test_2.copy()\n",
    "X_test_fillsimple[['ticket_str', 'cabin_str', 'embarked']] = X_test_fillsimple[['ticket_str', 'cabin_str', 'embarked']].fillna('unk')"
   ]
  },
  {
   "cell_type": "code",
   "execution_count": null,
   "metadata": {},
   "outputs": [],
   "source": [
    "print(classification_report(y_train_fs_t, model_fs.predict(X_train_fs_t)))"
   ]
  },
  {
   "cell_type": "code",
   "execution_count": null,
   "metadata": {},
   "outputs": [],
   "source": [
    "print(classification_report(y_train_fs_e, model_fs.predict(X_train_fs_e)))"
   ]
  },
  {
   "cell_type": "code",
   "execution_count": null,
   "metadata": {},
   "outputs": [],
   "source": [
    "X_test_fillsimple"
   ]
  },
  {
   "cell_type": "code",
   "execution_count": null,
   "metadata": {},
   "outputs": [],
   "source": [
    "ft_imp(model_fs)"
   ]
  },
  {
   "cell_type": "code",
   "execution_count": null,
   "metadata": {},
   "outputs": [],
   "source": []
  },
  {
   "cell_type": "markdown",
   "metadata": {},
   "source": [
    "# Submit"
   ]
  },
  {
   "cell_type": "markdown",
   "metadata": {},
   "source": [
    "## Model based on catboost imputed data"
   ]
  },
  {
   "cell_type": "code",
   "execution_count": null,
   "metadata": {},
   "outputs": [],
   "source": [
    "X_test['Survived'] = model_clean.predict(X_test_clean)"
   ]
  },
  {
   "cell_type": "code",
   "execution_count": null,
   "metadata": {},
   "outputs": [],
   "source": [
    "X_test"
   ]
  },
  {
   "cell_type": "code",
   "execution_count": null,
   "metadata": {},
   "outputs": [],
   "source": [
    "m = X_test['Survived'].to_frame().reset_index()\n",
    "m.columns = ['PassengerId', 'Survived']"
   ]
  },
  {
   "cell_type": "code",
   "execution_count": null,
   "metadata": {},
   "outputs": [],
   "source": [
    "m.to_csv('submission/v1.csv', index=False)"
   ]
  },
  {
   "cell_type": "markdown",
   "metadata": {},
   "source": [
    "# Model based on simple imputed data"
   ]
  },
  {
   "cell_type": "code",
   "execution_count": null,
   "metadata": {},
   "outputs": [],
   "source": [
    "X_test['Survived_0_2'] = model_fs.predict(X_test_fillsimple)\n",
    "m = X_test['Survived_0_2'].to_frame().reset_index()\n",
    "m.columns = ['PassengerId', 'Survived']\n",
    "m.to_csv('submission/v0_2.csv', index=False)"
   ]
  },
  {
   "cell_type": "code",
   "execution_count": null,
   "metadata": {},
   "outputs": [],
   "source": []
  },
  {
   "cell_type": "code",
   "execution_count": null,
   "metadata": {},
   "outputs": [],
   "source": []
  }
 ],
 "metadata": {
  "kernelspec": {
   "display_name": "Python 3",
   "language": "python",
   "name": "python3"
  },
  "language_info": {
   "codemirror_mode": {
    "name": "ipython",
    "version": 3
   },
   "file_extension": ".py",
   "mimetype": "text/x-python",
   "name": "python",
   "nbconvert_exporter": "python",
   "pygments_lexer": "ipython3",
   "version": "3.8.5"
  }
 },
 "nbformat": 4,
 "nbformat_minor": 4
}
