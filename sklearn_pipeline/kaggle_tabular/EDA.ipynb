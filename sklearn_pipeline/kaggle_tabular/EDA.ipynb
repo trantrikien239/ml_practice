{
 "cells": [
  {
   "cell_type": "code",
   "execution_count": 1,
   "id": "86e6a5ad-48e5-4609-b20f-dff9600ff1ea",
   "metadata": {},
   "outputs": [],
   "source": [
    "import numpy as np\n",
    "import pandas as pd"
   ]
  },
  {
   "cell_type": "code",
   "execution_count": 2,
   "id": "00ab8b4c-f855-46fb-892b-ec2d12297cff",
   "metadata": {},
   "outputs": [],
   "source": [
    "pd.set_option(\"display.max_columns\", None)"
   ]
  },
  {
   "cell_type": "markdown",
   "id": "f14f35cd-5bca-4fcb-90f5-97e72872c44a",
   "metadata": {},
   "source": [
    "# Import data"
   ]
  },
  {
   "cell_type": "code",
   "execution_count": 3,
   "id": "a91ea09e-9075-4e91-8e32-2c4770947e43",
   "metadata": {},
   "outputs": [],
   "source": [
    "df_train = pd.read_csv('./data/train.csv')"
   ]
  },
  {
   "cell_type": "code",
   "execution_count": 4,
   "id": "692a6c26-1f4d-4c85-a12b-a39230d8fcba",
   "metadata": {},
   "outputs": [],
   "source": [
    "df_test = pd.read_csv('./data/test.csv')"
   ]
  },
  {
   "cell_type": "code",
   "execution_count": 5,
   "id": "f4e86cef-8a81-4893-86c5-5e085505e7f1",
   "metadata": {},
   "outputs": [],
   "source": [
    "sample_sub = pd.read_csv('./data/sample_submission.csv')"
   ]
  },
  {
   "cell_type": "code",
   "execution_count": 6,
   "id": "0e8cef3e-46cb-421d-9324-15914eefa6a8",
   "metadata": {},
   "outputs": [
    {
     "data": {
      "text/html": [
       "<div>\n",
       "<style scoped>\n",
       "    .dataframe tbody tr th:only-of-type {\n",
       "        vertical-align: middle;\n",
       "    }\n",
       "\n",
       "    .dataframe tbody tr th {\n",
       "        vertical-align: top;\n",
       "    }\n",
       "\n",
       "    .dataframe thead th {\n",
       "        text-align: right;\n",
       "    }\n",
       "</style>\n",
       "<table border=\"1\" class=\"dataframe\">\n",
       "  <thead>\n",
       "    <tr style=\"text-align: right;\">\n",
       "      <th></th>\n",
       "      <th>PassengerId</th>\n",
       "      <th>Survived</th>\n",
       "      <th>Pclass</th>\n",
       "      <th>Name</th>\n",
       "      <th>Sex</th>\n",
       "      <th>Age</th>\n",
       "      <th>SibSp</th>\n",
       "      <th>Parch</th>\n",
       "      <th>Ticket</th>\n",
       "      <th>Fare</th>\n",
       "      <th>Cabin</th>\n",
       "      <th>Embarked</th>\n",
       "    </tr>\n",
       "  </thead>\n",
       "  <tbody>\n",
       "    <tr>\n",
       "      <th>0</th>\n",
       "      <td>0</td>\n",
       "      <td>1</td>\n",
       "      <td>1</td>\n",
       "      <td>Oconnor, Frankie</td>\n",
       "      <td>male</td>\n",
       "      <td>NaN</td>\n",
       "      <td>2</td>\n",
       "      <td>0</td>\n",
       "      <td>209245</td>\n",
       "      <td>27.14</td>\n",
       "      <td>C12239</td>\n",
       "      <td>S</td>\n",
       "    </tr>\n",
       "    <tr>\n",
       "      <th>1</th>\n",
       "      <td>1</td>\n",
       "      <td>0</td>\n",
       "      <td>3</td>\n",
       "      <td>Bryan, Drew</td>\n",
       "      <td>male</td>\n",
       "      <td>NaN</td>\n",
       "      <td>0</td>\n",
       "      <td>0</td>\n",
       "      <td>27323</td>\n",
       "      <td>13.35</td>\n",
       "      <td>NaN</td>\n",
       "      <td>S</td>\n",
       "    </tr>\n",
       "    <tr>\n",
       "      <th>2</th>\n",
       "      <td>2</td>\n",
       "      <td>0</td>\n",
       "      <td>3</td>\n",
       "      <td>Owens, Kenneth</td>\n",
       "      <td>male</td>\n",
       "      <td>0.33</td>\n",
       "      <td>1</td>\n",
       "      <td>2</td>\n",
       "      <td>CA 457703</td>\n",
       "      <td>71.29</td>\n",
       "      <td>NaN</td>\n",
       "      <td>S</td>\n",
       "    </tr>\n",
       "    <tr>\n",
       "      <th>3</th>\n",
       "      <td>3</td>\n",
       "      <td>0</td>\n",
       "      <td>3</td>\n",
       "      <td>Kramer, James</td>\n",
       "      <td>male</td>\n",
       "      <td>19.00</td>\n",
       "      <td>0</td>\n",
       "      <td>0</td>\n",
       "      <td>A. 10866</td>\n",
       "      <td>13.04</td>\n",
       "      <td>NaN</td>\n",
       "      <td>S</td>\n",
       "    </tr>\n",
       "    <tr>\n",
       "      <th>4</th>\n",
       "      <td>4</td>\n",
       "      <td>1</td>\n",
       "      <td>3</td>\n",
       "      <td>Bond, Michael</td>\n",
       "      <td>male</td>\n",
       "      <td>25.00</td>\n",
       "      <td>0</td>\n",
       "      <td>0</td>\n",
       "      <td>427635</td>\n",
       "      <td>7.76</td>\n",
       "      <td>NaN</td>\n",
       "      <td>S</td>\n",
       "    </tr>\n",
       "    <tr>\n",
       "      <th>...</th>\n",
       "      <td>...</td>\n",
       "      <td>...</td>\n",
       "      <td>...</td>\n",
       "      <td>...</td>\n",
       "      <td>...</td>\n",
       "      <td>...</td>\n",
       "      <td>...</td>\n",
       "      <td>...</td>\n",
       "      <td>...</td>\n",
       "      <td>...</td>\n",
       "      <td>...</td>\n",
       "      <td>...</td>\n",
       "    </tr>\n",
       "    <tr>\n",
       "      <th>99995</th>\n",
       "      <td>99995</td>\n",
       "      <td>1</td>\n",
       "      <td>2</td>\n",
       "      <td>Bell, Adele</td>\n",
       "      <td>female</td>\n",
       "      <td>62.00</td>\n",
       "      <td>0</td>\n",
       "      <td>0</td>\n",
       "      <td>PC 15008</td>\n",
       "      <td>14.86</td>\n",
       "      <td>D17243</td>\n",
       "      <td>C</td>\n",
       "    </tr>\n",
       "    <tr>\n",
       "      <th>99996</th>\n",
       "      <td>99996</td>\n",
       "      <td>0</td>\n",
       "      <td>2</td>\n",
       "      <td>Brown, Herman</td>\n",
       "      <td>male</td>\n",
       "      <td>66.00</td>\n",
       "      <td>0</td>\n",
       "      <td>0</td>\n",
       "      <td>13273</td>\n",
       "      <td>11.15</td>\n",
       "      <td>NaN</td>\n",
       "      <td>S</td>\n",
       "    </tr>\n",
       "    <tr>\n",
       "      <th>99997</th>\n",
       "      <td>99997</td>\n",
       "      <td>0</td>\n",
       "      <td>3</td>\n",
       "      <td>Childress, Charles</td>\n",
       "      <td>male</td>\n",
       "      <td>37.00</td>\n",
       "      <td>0</td>\n",
       "      <td>0</td>\n",
       "      <td>NaN</td>\n",
       "      <td>9.95</td>\n",
       "      <td>NaN</td>\n",
       "      <td>S</td>\n",
       "    </tr>\n",
       "    <tr>\n",
       "      <th>99998</th>\n",
       "      <td>99998</td>\n",
       "      <td>0</td>\n",
       "      <td>3</td>\n",
       "      <td>Caughlin, Thomas</td>\n",
       "      <td>male</td>\n",
       "      <td>51.00</td>\n",
       "      <td>0</td>\n",
       "      <td>1</td>\n",
       "      <td>458654</td>\n",
       "      <td>30.92</td>\n",
       "      <td>NaN</td>\n",
       "      <td>S</td>\n",
       "    </tr>\n",
       "    <tr>\n",
       "      <th>99999</th>\n",
       "      <td>99999</td>\n",
       "      <td>0</td>\n",
       "      <td>3</td>\n",
       "      <td>Enciso, Tyler</td>\n",
       "      <td>male</td>\n",
       "      <td>55.00</td>\n",
       "      <td>0</td>\n",
       "      <td>0</td>\n",
       "      <td>458074</td>\n",
       "      <td>13.96</td>\n",
       "      <td>NaN</td>\n",
       "      <td>S</td>\n",
       "    </tr>\n",
       "  </tbody>\n",
       "</table>\n",
       "<p>100000 rows × 12 columns</p>\n",
       "</div>"
      ],
      "text/plain": [
       "       PassengerId  Survived  Pclass                Name     Sex    Age  \\\n",
       "0                0         1       1    Oconnor, Frankie    male    NaN   \n",
       "1                1         0       3         Bryan, Drew    male    NaN   \n",
       "2                2         0       3      Owens, Kenneth    male   0.33   \n",
       "3                3         0       3       Kramer, James    male  19.00   \n",
       "4                4         1       3       Bond, Michael    male  25.00   \n",
       "...            ...       ...     ...                 ...     ...    ...   \n",
       "99995        99995         1       2         Bell, Adele  female  62.00   \n",
       "99996        99996         0       2       Brown, Herman    male  66.00   \n",
       "99997        99997         0       3  Childress, Charles    male  37.00   \n",
       "99998        99998         0       3    Caughlin, Thomas    male  51.00   \n",
       "99999        99999         0       3       Enciso, Tyler    male  55.00   \n",
       "\n",
       "       SibSp  Parch     Ticket   Fare   Cabin Embarked  \n",
       "0          2      0     209245  27.14  C12239        S  \n",
       "1          0      0      27323  13.35     NaN        S  \n",
       "2          1      2  CA 457703  71.29     NaN        S  \n",
       "3          0      0   A. 10866  13.04     NaN        S  \n",
       "4          0      0     427635   7.76     NaN        S  \n",
       "...      ...    ...        ...    ...     ...      ...  \n",
       "99995      0      0   PC 15008  14.86  D17243        C  \n",
       "99996      0      0      13273  11.15     NaN        S  \n",
       "99997      0      0        NaN   9.95     NaN        S  \n",
       "99998      0      1     458654  30.92     NaN        S  \n",
       "99999      0      0     458074  13.96     NaN        S  \n",
       "\n",
       "[100000 rows x 12 columns]"
      ]
     },
     "execution_count": 6,
     "metadata": {},
     "output_type": "execute_result"
    }
   ],
   "source": [
    "df_train"
   ]
  },
  {
   "cell_type": "code",
   "execution_count": 7,
   "id": "c5f403cb-c46d-42a2-850a-5bc1cbb20ba6",
   "metadata": {},
   "outputs": [
    {
     "data": {
      "text/html": [
       "<div>\n",
       "<style scoped>\n",
       "    .dataframe tbody tr th:only-of-type {\n",
       "        vertical-align: middle;\n",
       "    }\n",
       "\n",
       "    .dataframe tbody tr th {\n",
       "        vertical-align: top;\n",
       "    }\n",
       "\n",
       "    .dataframe thead th {\n",
       "        text-align: right;\n",
       "    }\n",
       "</style>\n",
       "<table border=\"1\" class=\"dataframe\">\n",
       "  <thead>\n",
       "    <tr style=\"text-align: right;\">\n",
       "      <th></th>\n",
       "      <th>PassengerId</th>\n",
       "      <th>Pclass</th>\n",
       "      <th>Name</th>\n",
       "      <th>Sex</th>\n",
       "      <th>Age</th>\n",
       "      <th>SibSp</th>\n",
       "      <th>Parch</th>\n",
       "      <th>Ticket</th>\n",
       "      <th>Fare</th>\n",
       "      <th>Cabin</th>\n",
       "      <th>Embarked</th>\n",
       "    </tr>\n",
       "  </thead>\n",
       "  <tbody>\n",
       "    <tr>\n",
       "      <th>0</th>\n",
       "      <td>100000</td>\n",
       "      <td>3</td>\n",
       "      <td>Holliday, Daniel</td>\n",
       "      <td>male</td>\n",
       "      <td>19.0</td>\n",
       "      <td>0</td>\n",
       "      <td>0</td>\n",
       "      <td>24745</td>\n",
       "      <td>63.01</td>\n",
       "      <td>NaN</td>\n",
       "      <td>S</td>\n",
       "    </tr>\n",
       "    <tr>\n",
       "      <th>1</th>\n",
       "      <td>100001</td>\n",
       "      <td>3</td>\n",
       "      <td>Nguyen, Lorraine</td>\n",
       "      <td>female</td>\n",
       "      <td>53.0</td>\n",
       "      <td>0</td>\n",
       "      <td>0</td>\n",
       "      <td>13264</td>\n",
       "      <td>5.81</td>\n",
       "      <td>NaN</td>\n",
       "      <td>S</td>\n",
       "    </tr>\n",
       "    <tr>\n",
       "      <th>2</th>\n",
       "      <td>100002</td>\n",
       "      <td>1</td>\n",
       "      <td>Harris, Heather</td>\n",
       "      <td>female</td>\n",
       "      <td>19.0</td>\n",
       "      <td>0</td>\n",
       "      <td>0</td>\n",
       "      <td>25990</td>\n",
       "      <td>38.91</td>\n",
       "      <td>B15315</td>\n",
       "      <td>C</td>\n",
       "    </tr>\n",
       "    <tr>\n",
       "      <th>3</th>\n",
       "      <td>100003</td>\n",
       "      <td>2</td>\n",
       "      <td>Larsen, Eric</td>\n",
       "      <td>male</td>\n",
       "      <td>25.0</td>\n",
       "      <td>0</td>\n",
       "      <td>0</td>\n",
       "      <td>314011</td>\n",
       "      <td>12.93</td>\n",
       "      <td>NaN</td>\n",
       "      <td>S</td>\n",
       "    </tr>\n",
       "    <tr>\n",
       "      <th>4</th>\n",
       "      <td>100004</td>\n",
       "      <td>1</td>\n",
       "      <td>Cleary, Sarah</td>\n",
       "      <td>female</td>\n",
       "      <td>17.0</td>\n",
       "      <td>0</td>\n",
       "      <td>2</td>\n",
       "      <td>26203</td>\n",
       "      <td>26.89</td>\n",
       "      <td>B22515</td>\n",
       "      <td>C</td>\n",
       "    </tr>\n",
       "    <tr>\n",
       "      <th>...</th>\n",
       "      <td>...</td>\n",
       "      <td>...</td>\n",
       "      <td>...</td>\n",
       "      <td>...</td>\n",
       "      <td>...</td>\n",
       "      <td>...</td>\n",
       "      <td>...</td>\n",
       "      <td>...</td>\n",
       "      <td>...</td>\n",
       "      <td>...</td>\n",
       "      <td>...</td>\n",
       "    </tr>\n",
       "    <tr>\n",
       "      <th>99995</th>\n",
       "      <td>199995</td>\n",
       "      <td>3</td>\n",
       "      <td>Cash, Cheryle</td>\n",
       "      <td>female</td>\n",
       "      <td>27.0</td>\n",
       "      <td>0</td>\n",
       "      <td>0</td>\n",
       "      <td>7686</td>\n",
       "      <td>10.12</td>\n",
       "      <td>NaN</td>\n",
       "      <td>Q</td>\n",
       "    </tr>\n",
       "    <tr>\n",
       "      <th>99996</th>\n",
       "      <td>199996</td>\n",
       "      <td>1</td>\n",
       "      <td>Brown, Howard</td>\n",
       "      <td>male</td>\n",
       "      <td>59.0</td>\n",
       "      <td>1</td>\n",
       "      <td>0</td>\n",
       "      <td>13004</td>\n",
       "      <td>68.31</td>\n",
       "      <td>NaN</td>\n",
       "      <td>S</td>\n",
       "    </tr>\n",
       "    <tr>\n",
       "      <th>99997</th>\n",
       "      <td>199997</td>\n",
       "      <td>3</td>\n",
       "      <td>Lightfoot, Cameron</td>\n",
       "      <td>male</td>\n",
       "      <td>47.0</td>\n",
       "      <td>0</td>\n",
       "      <td>0</td>\n",
       "      <td>4383317</td>\n",
       "      <td>10.87</td>\n",
       "      <td>NaN</td>\n",
       "      <td>S</td>\n",
       "    </tr>\n",
       "    <tr>\n",
       "      <th>99998</th>\n",
       "      <td>199998</td>\n",
       "      <td>1</td>\n",
       "      <td>Jacobsen, Margaret</td>\n",
       "      <td>female</td>\n",
       "      <td>49.0</td>\n",
       "      <td>1</td>\n",
       "      <td>2</td>\n",
       "      <td>PC 26988</td>\n",
       "      <td>29.68</td>\n",
       "      <td>B20828</td>\n",
       "      <td>C</td>\n",
       "    </tr>\n",
       "    <tr>\n",
       "      <th>99999</th>\n",
       "      <td>199999</td>\n",
       "      <td>1</td>\n",
       "      <td>Fishback, Joanna</td>\n",
       "      <td>female</td>\n",
       "      <td>41.0</td>\n",
       "      <td>0</td>\n",
       "      <td>2</td>\n",
       "      <td>PC 41824</td>\n",
       "      <td>195.41</td>\n",
       "      <td>E13345</td>\n",
       "      <td>C</td>\n",
       "    </tr>\n",
       "  </tbody>\n",
       "</table>\n",
       "<p>100000 rows × 11 columns</p>\n",
       "</div>"
      ],
      "text/plain": [
       "       PassengerId  Pclass                Name     Sex   Age  SibSp  Parch  \\\n",
       "0           100000       3    Holliday, Daniel    male  19.0      0      0   \n",
       "1           100001       3    Nguyen, Lorraine  female  53.0      0      0   \n",
       "2           100002       1     Harris, Heather  female  19.0      0      0   \n",
       "3           100003       2        Larsen, Eric    male  25.0      0      0   \n",
       "4           100004       1       Cleary, Sarah  female  17.0      0      2   \n",
       "...            ...     ...                 ...     ...   ...    ...    ...   \n",
       "99995       199995       3       Cash, Cheryle  female  27.0      0      0   \n",
       "99996       199996       1       Brown, Howard    male  59.0      1      0   \n",
       "99997       199997       3  Lightfoot, Cameron    male  47.0      0      0   \n",
       "99998       199998       1  Jacobsen, Margaret  female  49.0      1      2   \n",
       "99999       199999       1    Fishback, Joanna  female  41.0      0      2   \n",
       "\n",
       "         Ticket    Fare   Cabin Embarked  \n",
       "0         24745   63.01     NaN        S  \n",
       "1         13264    5.81     NaN        S  \n",
       "2         25990   38.91  B15315        C  \n",
       "3        314011   12.93     NaN        S  \n",
       "4         26203   26.89  B22515        C  \n",
       "...         ...     ...     ...      ...  \n",
       "99995      7686   10.12     NaN        Q  \n",
       "99996     13004   68.31     NaN        S  \n",
       "99997   4383317   10.87     NaN        S  \n",
       "99998  PC 26988   29.68  B20828        C  \n",
       "99999  PC 41824  195.41  E13345        C  \n",
       "\n",
       "[100000 rows x 11 columns]"
      ]
     },
     "execution_count": 7,
     "metadata": {},
     "output_type": "execute_result"
    }
   ],
   "source": [
    "df_test"
   ]
  },
  {
   "cell_type": "code",
   "execution_count": 8,
   "id": "ac9add73-a9fd-49ef-997c-af68cc6c117e",
   "metadata": {},
   "outputs": [
    {
     "data": {
      "text/html": [
       "<div>\n",
       "<style scoped>\n",
       "    .dataframe tbody tr th:only-of-type {\n",
       "        vertical-align: middle;\n",
       "    }\n",
       "\n",
       "    .dataframe tbody tr th {\n",
       "        vertical-align: top;\n",
       "    }\n",
       "\n",
       "    .dataframe thead th {\n",
       "        text-align: right;\n",
       "    }\n",
       "</style>\n",
       "<table border=\"1\" class=\"dataframe\">\n",
       "  <thead>\n",
       "    <tr style=\"text-align: right;\">\n",
       "      <th></th>\n",
       "      <th>PassengerId</th>\n",
       "      <th>Survived</th>\n",
       "    </tr>\n",
       "  </thead>\n",
       "  <tbody>\n",
       "    <tr>\n",
       "      <th>0</th>\n",
       "      <td>100000</td>\n",
       "      <td>1</td>\n",
       "    </tr>\n",
       "    <tr>\n",
       "      <th>1</th>\n",
       "      <td>100001</td>\n",
       "      <td>1</td>\n",
       "    </tr>\n",
       "    <tr>\n",
       "      <th>2</th>\n",
       "      <td>100002</td>\n",
       "      <td>1</td>\n",
       "    </tr>\n",
       "    <tr>\n",
       "      <th>3</th>\n",
       "      <td>100003</td>\n",
       "      <td>1</td>\n",
       "    </tr>\n",
       "    <tr>\n",
       "      <th>4</th>\n",
       "      <td>100004</td>\n",
       "      <td>1</td>\n",
       "    </tr>\n",
       "    <tr>\n",
       "      <th>...</th>\n",
       "      <td>...</td>\n",
       "      <td>...</td>\n",
       "    </tr>\n",
       "    <tr>\n",
       "      <th>99995</th>\n",
       "      <td>199995</td>\n",
       "      <td>1</td>\n",
       "    </tr>\n",
       "    <tr>\n",
       "      <th>99996</th>\n",
       "      <td>199996</td>\n",
       "      <td>1</td>\n",
       "    </tr>\n",
       "    <tr>\n",
       "      <th>99997</th>\n",
       "      <td>199997</td>\n",
       "      <td>1</td>\n",
       "    </tr>\n",
       "    <tr>\n",
       "      <th>99998</th>\n",
       "      <td>199998</td>\n",
       "      <td>1</td>\n",
       "    </tr>\n",
       "    <tr>\n",
       "      <th>99999</th>\n",
       "      <td>199999</td>\n",
       "      <td>1</td>\n",
       "    </tr>\n",
       "  </tbody>\n",
       "</table>\n",
       "<p>100000 rows × 2 columns</p>\n",
       "</div>"
      ],
      "text/plain": [
       "       PassengerId  Survived\n",
       "0           100000         1\n",
       "1           100001         1\n",
       "2           100002         1\n",
       "3           100003         1\n",
       "4           100004         1\n",
       "...            ...       ...\n",
       "99995       199995         1\n",
       "99996       199996         1\n",
       "99997       199997         1\n",
       "99998       199998         1\n",
       "99999       199999         1\n",
       "\n",
       "[100000 rows x 2 columns]"
      ]
     },
     "execution_count": 8,
     "metadata": {},
     "output_type": "execute_result"
    }
   ],
   "source": [
    "sample_sub"
   ]
  },
  {
   "cell_type": "markdown",
   "id": "b211e278-4b75-4f94-8723-6b147c53e458",
   "metadata": {},
   "source": [
    "## Basic preprocess"
   ]
  },
  {
   "cell_type": "code",
   "execution_count": 9,
   "id": "daf33158-9778-41cb-b134-b2d8582ae40a",
   "metadata": {},
   "outputs": [
    {
     "data": {
      "text/html": [
       "<div>\n",
       "<style scoped>\n",
       "    .dataframe tbody tr th:only-of-type {\n",
       "        vertical-align: middle;\n",
       "    }\n",
       "\n",
       "    .dataframe tbody tr th {\n",
       "        vertical-align: top;\n",
       "    }\n",
       "\n",
       "    .dataframe thead th {\n",
       "        text-align: right;\n",
       "    }\n",
       "</style>\n",
       "<table border=\"1\" class=\"dataframe\">\n",
       "  <thead>\n",
       "    <tr style=\"text-align: right;\">\n",
       "      <th></th>\n",
       "      <th>pclass</th>\n",
       "      <th>name</th>\n",
       "      <th>sex</th>\n",
       "      <th>age</th>\n",
       "      <th>sibsp</th>\n",
       "      <th>parch</th>\n",
       "      <th>ticket</th>\n",
       "      <th>fare</th>\n",
       "      <th>cabin</th>\n",
       "      <th>embarked</th>\n",
       "    </tr>\n",
       "    <tr>\n",
       "      <th>passengerid</th>\n",
       "      <th></th>\n",
       "      <th></th>\n",
       "      <th></th>\n",
       "      <th></th>\n",
       "      <th></th>\n",
       "      <th></th>\n",
       "      <th></th>\n",
       "      <th></th>\n",
       "      <th></th>\n",
       "      <th></th>\n",
       "    </tr>\n",
       "  </thead>\n",
       "  <tbody>\n",
       "    <tr>\n",
       "      <th>0</th>\n",
       "      <td>1</td>\n",
       "      <td>Oconnor, Frankie</td>\n",
       "      <td>male</td>\n",
       "      <td>NaN</td>\n",
       "      <td>2</td>\n",
       "      <td>0</td>\n",
       "      <td>209245</td>\n",
       "      <td>27.14</td>\n",
       "      <td>C12239</td>\n",
       "      <td>S</td>\n",
       "    </tr>\n",
       "    <tr>\n",
       "      <th>1</th>\n",
       "      <td>3</td>\n",
       "      <td>Bryan, Drew</td>\n",
       "      <td>male</td>\n",
       "      <td>NaN</td>\n",
       "      <td>0</td>\n",
       "      <td>0</td>\n",
       "      <td>27323</td>\n",
       "      <td>13.35</td>\n",
       "      <td>NaN</td>\n",
       "      <td>S</td>\n",
       "    </tr>\n",
       "    <tr>\n",
       "      <th>2</th>\n",
       "      <td>3</td>\n",
       "      <td>Owens, Kenneth</td>\n",
       "      <td>male</td>\n",
       "      <td>0.33</td>\n",
       "      <td>1</td>\n",
       "      <td>2</td>\n",
       "      <td>CA 457703</td>\n",
       "      <td>71.29</td>\n",
       "      <td>NaN</td>\n",
       "      <td>S</td>\n",
       "    </tr>\n",
       "    <tr>\n",
       "      <th>3</th>\n",
       "      <td>3</td>\n",
       "      <td>Kramer, James</td>\n",
       "      <td>male</td>\n",
       "      <td>19.00</td>\n",
       "      <td>0</td>\n",
       "      <td>0</td>\n",
       "      <td>A. 10866</td>\n",
       "      <td>13.04</td>\n",
       "      <td>NaN</td>\n",
       "      <td>S</td>\n",
       "    </tr>\n",
       "    <tr>\n",
       "      <th>4</th>\n",
       "      <td>3</td>\n",
       "      <td>Bond, Michael</td>\n",
       "      <td>male</td>\n",
       "      <td>25.00</td>\n",
       "      <td>0</td>\n",
       "      <td>0</td>\n",
       "      <td>427635</td>\n",
       "      <td>7.76</td>\n",
       "      <td>NaN</td>\n",
       "      <td>S</td>\n",
       "    </tr>\n",
       "  </tbody>\n",
       "</table>\n",
       "</div>"
      ],
      "text/plain": [
       "             pclass              name   sex    age  sibsp  parch     ticket  \\\n",
       "passengerid                                                                   \n",
       "0                 1  Oconnor, Frankie  male    NaN      2      0     209245   \n",
       "1                 3       Bryan, Drew  male    NaN      0      0      27323   \n",
       "2                 3    Owens, Kenneth  male   0.33      1      2  CA 457703   \n",
       "3                 3     Kramer, James  male  19.00      0      0   A. 10866   \n",
       "4                 3     Bond, Michael  male  25.00      0      0     427635   \n",
       "\n",
       "              fare   cabin embarked  \n",
       "passengerid                          \n",
       "0            27.14  C12239        S  \n",
       "1            13.35     NaN        S  \n",
       "2            71.29     NaN        S  \n",
       "3            13.04     NaN        S  \n",
       "4             7.76     NaN        S  "
      ]
     },
     "execution_count": 9,
     "metadata": {},
     "output_type": "execute_result"
    }
   ],
   "source": [
    "X_train = df_train[[col for col in df_train.columns if col != 'Survived']]\n",
    "X_train.columns = [c.lower() for c in X_train.columns]\n",
    "X_train.set_index('passengerid', inplace=True)\n",
    "X_train.head()"
   ]
  },
  {
   "cell_type": "code",
   "execution_count": 10,
   "id": "c1d65c89-791b-4961-bc0a-d5a6deee6149",
   "metadata": {},
   "outputs": [
    {
     "data": {
      "text/plain": [
       "passengerid\n",
       "0    1\n",
       "1    0\n",
       "2    0\n",
       "3    0\n",
       "4    1\n",
       "Name: survived, dtype: int64"
      ]
     },
     "execution_count": 10,
     "metadata": {},
     "output_type": "execute_result"
    }
   ],
   "source": [
    "y_train = df_train[['PassengerId','Survived']]\n",
    "y_train.columns = [c.lower() for c in y_train.columns]\n",
    "y_train.set_index('passengerid', inplace=True)\n",
    "y_train = y_train['survived']\n",
    "y_train.head()"
   ]
  },
  {
   "cell_type": "code",
   "execution_count": 11,
   "id": "35a0c336-c7cf-4c0a-8a1c-f39ee4e50cbc",
   "metadata": {},
   "outputs": [
    {
     "data": {
      "text/html": [
       "<div>\n",
       "<style scoped>\n",
       "    .dataframe tbody tr th:only-of-type {\n",
       "        vertical-align: middle;\n",
       "    }\n",
       "\n",
       "    .dataframe tbody tr th {\n",
       "        vertical-align: top;\n",
       "    }\n",
       "\n",
       "    .dataframe thead th {\n",
       "        text-align: right;\n",
       "    }\n",
       "</style>\n",
       "<table border=\"1\" class=\"dataframe\">\n",
       "  <thead>\n",
       "    <tr style=\"text-align: right;\">\n",
       "      <th></th>\n",
       "      <th>pclass</th>\n",
       "      <th>name</th>\n",
       "      <th>sex</th>\n",
       "      <th>age</th>\n",
       "      <th>sibsp</th>\n",
       "      <th>parch</th>\n",
       "      <th>ticket</th>\n",
       "      <th>fare</th>\n",
       "      <th>cabin</th>\n",
       "      <th>embarked</th>\n",
       "    </tr>\n",
       "    <tr>\n",
       "      <th>passengerid</th>\n",
       "      <th></th>\n",
       "      <th></th>\n",
       "      <th></th>\n",
       "      <th></th>\n",
       "      <th></th>\n",
       "      <th></th>\n",
       "      <th></th>\n",
       "      <th></th>\n",
       "      <th></th>\n",
       "      <th></th>\n",
       "    </tr>\n",
       "  </thead>\n",
       "  <tbody>\n",
       "    <tr>\n",
       "      <th>100000</th>\n",
       "      <td>3</td>\n",
       "      <td>Holliday, Daniel</td>\n",
       "      <td>male</td>\n",
       "      <td>19.0</td>\n",
       "      <td>0</td>\n",
       "      <td>0</td>\n",
       "      <td>24745</td>\n",
       "      <td>63.01</td>\n",
       "      <td>NaN</td>\n",
       "      <td>S</td>\n",
       "    </tr>\n",
       "    <tr>\n",
       "      <th>100001</th>\n",
       "      <td>3</td>\n",
       "      <td>Nguyen, Lorraine</td>\n",
       "      <td>female</td>\n",
       "      <td>53.0</td>\n",
       "      <td>0</td>\n",
       "      <td>0</td>\n",
       "      <td>13264</td>\n",
       "      <td>5.81</td>\n",
       "      <td>NaN</td>\n",
       "      <td>S</td>\n",
       "    </tr>\n",
       "    <tr>\n",
       "      <th>100002</th>\n",
       "      <td>1</td>\n",
       "      <td>Harris, Heather</td>\n",
       "      <td>female</td>\n",
       "      <td>19.0</td>\n",
       "      <td>0</td>\n",
       "      <td>0</td>\n",
       "      <td>25990</td>\n",
       "      <td>38.91</td>\n",
       "      <td>B15315</td>\n",
       "      <td>C</td>\n",
       "    </tr>\n",
       "    <tr>\n",
       "      <th>100003</th>\n",
       "      <td>2</td>\n",
       "      <td>Larsen, Eric</td>\n",
       "      <td>male</td>\n",
       "      <td>25.0</td>\n",
       "      <td>0</td>\n",
       "      <td>0</td>\n",
       "      <td>314011</td>\n",
       "      <td>12.93</td>\n",
       "      <td>NaN</td>\n",
       "      <td>S</td>\n",
       "    </tr>\n",
       "    <tr>\n",
       "      <th>100004</th>\n",
       "      <td>1</td>\n",
       "      <td>Cleary, Sarah</td>\n",
       "      <td>female</td>\n",
       "      <td>17.0</td>\n",
       "      <td>0</td>\n",
       "      <td>2</td>\n",
       "      <td>26203</td>\n",
       "      <td>26.89</td>\n",
       "      <td>B22515</td>\n",
       "      <td>C</td>\n",
       "    </tr>\n",
       "  </tbody>\n",
       "</table>\n",
       "</div>"
      ],
      "text/plain": [
       "             pclass              name     sex   age  sibsp  parch  ticket  \\\n",
       "passengerid                                                                 \n",
       "100000            3  Holliday, Daniel    male  19.0      0      0   24745   \n",
       "100001            3  Nguyen, Lorraine  female  53.0      0      0   13264   \n",
       "100002            1   Harris, Heather  female  19.0      0      0   25990   \n",
       "100003            2      Larsen, Eric    male  25.0      0      0  314011   \n",
       "100004            1     Cleary, Sarah  female  17.0      0      2   26203   \n",
       "\n",
       "              fare   cabin embarked  \n",
       "passengerid                          \n",
       "100000       63.01     NaN        S  \n",
       "100001        5.81     NaN        S  \n",
       "100002       38.91  B15315        C  \n",
       "100003       12.93     NaN        S  \n",
       "100004       26.89  B22515        C  "
      ]
     },
     "execution_count": 11,
     "metadata": {},
     "output_type": "execute_result"
    }
   ],
   "source": [
    "X_test = df_test[[col for col in df_test.columns if col != 'Survived']]\n",
    "X_test.columns = [c.lower() for c in X_test.columns]\n",
    "X_test.set_index('passengerid', inplace=True)\n",
    "X_test.head()"
   ]
  },
  {
   "cell_type": "markdown",
   "id": "9afc8ec6-258b-4527-9bc5-1ffb4ec46ef7",
   "metadata": {},
   "source": [
    "# Explore some data"
   ]
  },
  {
   "cell_type": "code",
   "execution_count": 12,
   "id": "e473a377-28bb-4a76-84f6-eddd5ce2a96b",
   "metadata": {},
   "outputs": [
    {
     "name": "stdout",
     "output_type": "stream",
     "text": [
      "Collecting package metadata (current_repodata.json): done\n",
      "Solving environment: done\n",
      "\n",
      "# All requested packages already installed.\n",
      "\n"
     ]
    }
   ],
   "source": [
    "!conda install pandas-profiling"
   ]
  },
  {
   "cell_type": "code",
   "execution_count": 13,
   "id": "8b82bc5b-23e2-4e17-b3a2-22460878c99f",
   "metadata": {},
   "outputs": [],
   "source": [
    "from pandas_profiling import ProfileReport"
   ]
  },
  {
   "cell_type": "code",
   "execution_count": 14,
   "id": "c75d877b-d1fe-4921-a380-4de016313ed0",
   "metadata": {},
   "outputs": [],
   "source": [
    "profile = ProfileReport(df_train, minimal=True, explorative=True)"
   ]
  },
  {
   "cell_type": "code",
   "execution_count": 15,
   "id": "60bbddc1-110c-4aec-9f0a-aa3f15b2b5a7",
   "metadata": {},
   "outputs": [
    {
     "data": {
      "text/html": [
       "<div>\n",
       "<style scoped>\n",
       "    .dataframe tbody tr th:only-of-type {\n",
       "        vertical-align: middle;\n",
       "    }\n",
       "\n",
       "    .dataframe tbody tr th {\n",
       "        vertical-align: top;\n",
       "    }\n",
       "\n",
       "    .dataframe thead th {\n",
       "        text-align: right;\n",
       "    }\n",
       "</style>\n",
       "<table border=\"1\" class=\"dataframe\">\n",
       "  <thead>\n",
       "    <tr style=\"text-align: right;\">\n",
       "      <th></th>\n",
       "      <th>pclass</th>\n",
       "      <th>age</th>\n",
       "      <th>sibsp</th>\n",
       "      <th>parch</th>\n",
       "      <th>fare</th>\n",
       "    </tr>\n",
       "  </thead>\n",
       "  <tbody>\n",
       "    <tr>\n",
       "      <th>count</th>\n",
       "      <td>100000.000000</td>\n",
       "      <td>96513.000000</td>\n",
       "      <td>100000.000000</td>\n",
       "      <td>100000.00000</td>\n",
       "      <td>99867.000000</td>\n",
       "    </tr>\n",
       "    <tr>\n",
       "      <th>mean</th>\n",
       "      <td>2.368930</td>\n",
       "      <td>30.565796</td>\n",
       "      <td>0.486550</td>\n",
       "      <td>0.49283</td>\n",
       "      <td>45.374804</td>\n",
       "    </tr>\n",
       "    <tr>\n",
       "      <th>std</th>\n",
       "      <td>0.878458</td>\n",
       "      <td>14.054634</td>\n",
       "      <td>0.771262</td>\n",
       "      <td>0.92360</td>\n",
       "      <td>65.204725</td>\n",
       "    </tr>\n",
       "    <tr>\n",
       "      <th>min</th>\n",
       "      <td>1.000000</td>\n",
       "      <td>0.080000</td>\n",
       "      <td>0.000000</td>\n",
       "      <td>0.00000</td>\n",
       "      <td>0.050000</td>\n",
       "    </tr>\n",
       "    <tr>\n",
       "      <th>25%</th>\n",
       "      <td>1.000000</td>\n",
       "      <td>21.000000</td>\n",
       "      <td>0.000000</td>\n",
       "      <td>0.00000</td>\n",
       "      <td>10.130000</td>\n",
       "    </tr>\n",
       "    <tr>\n",
       "      <th>50%</th>\n",
       "      <td>3.000000</td>\n",
       "      <td>27.000000</td>\n",
       "      <td>0.000000</td>\n",
       "      <td>0.00000</td>\n",
       "      <td>13.980000</td>\n",
       "    </tr>\n",
       "    <tr>\n",
       "      <th>75%</th>\n",
       "      <td>3.000000</td>\n",
       "      <td>40.000000</td>\n",
       "      <td>1.000000</td>\n",
       "      <td>1.00000</td>\n",
       "      <td>37.390000</td>\n",
       "    </tr>\n",
       "    <tr>\n",
       "      <th>max</th>\n",
       "      <td>3.000000</td>\n",
       "      <td>81.000000</td>\n",
       "      <td>8.000000</td>\n",
       "      <td>9.00000</td>\n",
       "      <td>680.700000</td>\n",
       "    </tr>\n",
       "  </tbody>\n",
       "</table>\n",
       "</div>"
      ],
      "text/plain": [
       "              pclass           age          sibsp         parch          fare\n",
       "count  100000.000000  96513.000000  100000.000000  100000.00000  99867.000000\n",
       "mean        2.368930     30.565796       0.486550       0.49283     45.374804\n",
       "std         0.878458     14.054634       0.771262       0.92360     65.204725\n",
       "min         1.000000      0.080000       0.000000       0.00000      0.050000\n",
       "25%         1.000000     21.000000       0.000000       0.00000     10.130000\n",
       "50%         3.000000     27.000000       0.000000       0.00000     13.980000\n",
       "75%         3.000000     40.000000       1.000000       1.00000     37.390000\n",
       "max         3.000000     81.000000       8.000000       9.00000    680.700000"
      ]
     },
     "execution_count": 15,
     "metadata": {},
     "output_type": "execute_result"
    }
   ],
   "source": [
    "X_test.describe()"
   ]
  },
  {
   "cell_type": "code",
   "execution_count": 16,
   "id": "10c4dbd7-7949-49ce-92a9-eb6503e09d99",
   "metadata": {},
   "outputs": [
    {
     "name": "stdout",
     "output_type": "stream",
     "text": [
      "<class 'pandas.core.frame.DataFrame'>\n",
      "Int64Index: 100000 entries, 100000 to 199999\n",
      "Data columns (total 10 columns):\n",
      " #   Column    Non-Null Count   Dtype  \n",
      "---  ------    --------------   -----  \n",
      " 0   pclass    100000 non-null  int64  \n",
      " 1   name      100000 non-null  object \n",
      " 2   sex       100000 non-null  object \n",
      " 3   age       96513 non-null   float64\n",
      " 4   sibsp     100000 non-null  int64  \n",
      " 5   parch     100000 non-null  int64  \n",
      " 6   ticket    94819 non-null   object \n",
      " 7   fare      99867 non-null   float64\n",
      " 8   cabin     29169 non-null   object \n",
      " 9   embarked  99723 non-null   object \n",
      "dtypes: float64(2), int64(3), object(5)\n",
      "memory usage: 8.4+ MB\n"
     ]
    }
   ],
   "source": [
    "X_test.info()"
   ]
  },
  {
   "cell_type": "code",
   "execution_count": 17,
   "id": "93812f3d-6e84-4cfd-b25b-b51c65f2f37c",
   "metadata": {},
   "outputs": [
    {
     "data": {
      "text/plain": [
       "pclass        int64\n",
       "name         object\n",
       "sex          object\n",
       "age         float64\n",
       "sibsp         int64\n",
       "parch         int64\n",
       "ticket       object\n",
       "fare        float64\n",
       "cabin        object\n",
       "embarked     object\n",
       "dtype: object"
      ]
     },
     "execution_count": 17,
     "metadata": {},
     "output_type": "execute_result"
    }
   ],
   "source": [
    "X_train.dtypes"
   ]
  },
  {
   "cell_type": "code",
   "execution_count": 18,
   "id": "b8aafcc1-ee3f-453b-80e2-61b0150870b3",
   "metadata": {},
   "outputs": [
    {
     "name": "stdout",
     "output_type": "stream",
     "text": [
      "\n",
      "\n",
      "--------\n",
      "pclass\n",
      "3    41006\n",
      "1    30315\n",
      "2    28679\n",
      "Name: pclass, dtype: int64\n",
      "\n",
      "\n",
      "--------\n",
      "name\n",
      "Johnson, John         31\n",
      "Smith, James          24\n",
      "Smith, John           24\n",
      "Johnson, William      22\n",
      "Smith, Michael        20\n",
      "                      ..\n",
      "Doxey, Theresa         1\n",
      "Janda, Clayton         1\n",
      "Rayford, Stephanie     1\n",
      "Dewall, Ruben          1\n",
      "Cote, Ed               1\n",
      "Name: name, Length: 92144, dtype: int64\n",
      "\n",
      "\n",
      "--------\n",
      "sex\n",
      "male      56114\n",
      "female    43886\n",
      "Name: sex, dtype: int64\n",
      "\n",
      "\n",
      "--------\n",
      "age\n",
      "count    96708.000000\n",
      "mean        38.355472\n",
      "std         18.313556\n",
      "min          0.080000\n",
      "25%         25.000000\n",
      "50%         39.000000\n",
      "75%         53.000000\n",
      "max         87.000000\n",
      "Name: age, dtype: float64\n",
      "\n",
      "\n",
      "--------\n",
      "sibsp\n",
      "0    73308\n",
      "1    19758\n",
      "2     3703\n",
      "3     1635\n",
      "4     1168\n",
      "8      296\n",
      "5      132\n",
      "Name: sibsp, dtype: int64\n",
      "\n",
      "\n",
      "--------\n",
      "parch\n",
      "0    73540\n",
      "1    12996\n",
      "2    11236\n",
      "3      983\n",
      "4      446\n",
      "5      331\n",
      "9      264\n",
      "6      204\n",
      "Name: parch, dtype: int64\n",
      "\n",
      "\n",
      "--------\n",
      "ticket\n",
      "A/5               602\n",
      "C.A.              177\n",
      "SC/PARIS          145\n",
      "SOTON/O.Q.         80\n",
      "SC                 57\n",
      "                 ... \n",
      "474192              1\n",
      "4118149             1\n",
      "33094               1\n",
      "SOTON/OQ 36296      1\n",
      "PC 23602            1\n",
      "Name: ticket, Length: 75331, dtype: int64\n",
      "\n",
      "\n",
      "--------\n",
      "fare\n",
      "count    99866.00000\n",
      "mean        43.92933\n",
      "std         69.58882\n",
      "min          0.68000\n",
      "25%         10.04000\n",
      "50%         24.46000\n",
      "75%         33.50000\n",
      "max        744.66000\n",
      "Name: fare, dtype: float64\n",
      "\n",
      "\n",
      "--------\n",
      "cabin\n",
      "C19828    6\n",
      "C14534    5\n",
      "C11283    5\n",
      "C11139    5\n",
      "C9485     5\n",
      "         ..\n",
      "C13809    1\n",
      "C11836    1\n",
      "B17665    1\n",
      "C10456    1\n",
      "C10747    1\n",
      "Name: cabin, Length: 26992, dtype: int64\n",
      "\n",
      "\n",
      "--------\n",
      "embarked\n",
      "S    72139\n",
      "C    22187\n",
      "Q     5424\n",
      "Name: embarked, dtype: int64\n"
     ]
    }
   ],
   "source": [
    "for c in X_train.columns:\n",
    "    print('\\n\\n--------\\n'+c)\n",
    "    if X_train.dtypes[c] == 'float64':\n",
    "        print(X_train[c].describe())\n",
    "    else:\n",
    "        print(X_train[c].value_counts())"
   ]
  },
  {
   "cell_type": "code",
   "execution_count": 19,
   "id": "c9378d86-f96d-4271-b8a7-09cb8aed439d",
   "metadata": {},
   "outputs": [
    {
     "data": {
      "text/plain": [
       "0    57226\n",
       "1    42774\n",
       "Name: survived, dtype: int64"
      ]
     },
     "execution_count": 19,
     "metadata": {},
     "output_type": "execute_result"
    }
   ],
   "source": [
    "y_train.value_counts()"
   ]
  },
  {
   "cell_type": "code",
   "execution_count": 39,
   "id": "504a70c8-d42c-4e4c-91ad-4ebea6e487ec",
   "metadata": {},
   "outputs": [
    {
     "data": {
      "text/plain": [
       "sex     survived\n",
       "female  1           0.711525\n",
       "        0           0.288475\n",
       "male    0           0.794205\n",
       "        1           0.205795\n",
       "Name: survived, dtype: float64"
      ]
     },
     "execution_count": 39,
     "metadata": {},
     "output_type": "execute_result"
    }
   ],
   "source": [
    "X_train.join(y_train).groupby('sex')['survived'].value_counts() / X_train.join(y_train).groupby('sex')['survived'].count() "
   ]
  },
  {
   "cell_type": "code",
   "execution_count": null,
   "id": "16259030-9bc7-4bd1-931f-65653e71fcb7",
   "metadata": {},
   "outputs": [],
   "source": []
  },
  {
   "cell_type": "code",
   "execution_count": 110,
   "id": "a51e9a31-2201-4369-8c59-8af664b7b42c",
   "metadata": {},
   "outputs": [
    {
     "data": {
      "text/plain": [
       "passengerid\n",
       "0        C\n",
       "1        u\n",
       "2        u\n",
       "3        u\n",
       "4        u\n",
       "        ..\n",
       "99995    D\n",
       "99996    u\n",
       "99997    u\n",
       "99998    u\n",
       "99999    u\n",
       "Name: cabin, Length: 100000, dtype: object"
      ]
     },
     "execution_count": 110,
     "metadata": {},
     "output_type": "execute_result"
    }
   ],
   "source": [
    "X_train['cabin'].apply(lambda x: x[0])"
   ]
  },
  {
   "cell_type": "code",
   "execution_count": 112,
   "id": "25b28793-684a-41e0-bc45-55f37762efe7",
   "metadata": {},
   "outputs": [
    {
     "data": {
      "text/plain": [
       "unk       67866\n",
       "C19828        6\n",
       "C11139        5\n",
       "B18148        5\n",
       "B11110        5\n",
       "          ...  \n",
       "C13809        1\n",
       "C11836        1\n",
       "B17665        1\n",
       "C10456        1\n",
       "C10747        1\n",
       "Name: cabin, Length: 26993, dtype: int64"
      ]
     },
     "execution_count": 112,
     "metadata": {},
     "output_type": "execute_result"
    }
   ],
   "source": [
    "X_train['cabin'].value_counts()"
   ]
  },
  {
   "cell_type": "code",
   "execution_count": 118,
   "id": "283b646b-2855-440a-be7a-e7e210ec29d7",
   "metadata": {},
   "outputs": [
    {
     "data": {
      "text/plain": [
       "C    11825\n",
       "B     7439\n",
       "A     6307\n",
       "D     3637\n",
       "E     1749\n",
       "F      663\n",
       "G      482\n",
       "T       32\n",
       "Name: cabin, dtype: int64"
      ]
     },
     "execution_count": 118,
     "metadata": {},
     "output_type": "execute_result"
    }
   ],
   "source": [
    "X_train[X_train['cabin']!='unk']['cabin'].apply(lambda x: x[0]).value_counts()"
   ]
  },
  {
   "cell_type": "code",
   "execution_count": null,
   "id": "94045822-6d99-452a-a7fd-5ec0c236ced6",
   "metadata": {},
   "outputs": [],
   "source": []
  },
  {
   "cell_type": "code",
   "execution_count": 117,
   "id": "eda85cb2-1ef6-4985-a7ed-79d881cb5154",
   "metadata": {},
   "outputs": [
    {
     "data": {
      "text/plain": [
       "passengerid\n",
       "0        12239\n",
       "8         7253\n",
       "9         2969\n",
       "11        9055\n",
       "12        8674\n",
       "         ...  \n",
       "99967     4590\n",
       "99989    12975\n",
       "99991    19289\n",
       "99992    12072\n",
       "99995    17243\n",
       "Name: cabin, Length: 32134, dtype: int64"
      ]
     },
     "execution_count": 117,
     "metadata": {},
     "output_type": "execute_result"
    }
   ],
   "source": [
    "X_train[X_train['cabin']!='unk']['cabin'].apply(lambda x: x[1:]).astype(int)"
   ]
  },
  {
   "cell_type": "code",
   "execution_count": null,
   "id": "f47db4f7-5792-45b7-bffe-8f6534e97dc4",
   "metadata": {},
   "outputs": [],
   "source": []
  },
  {
   "cell_type": "code",
   "execution_count": 42,
   "id": "1ff769bb-0019-4904-9bdb-8e8621254c10",
   "metadata": {},
   "outputs": [
    {
     "data": {
      "text/plain": [
       "unk               4623\n",
       "A/5                602\n",
       "C.A.               177\n",
       "SC/PARIS           145\n",
       "SOTON/O.Q.          80\n",
       "                  ... \n",
       "474192               1\n",
       "4118149              1\n",
       "33094                1\n",
       "SOTON/OQ 36296       1\n",
       "PC 23602             1\n",
       "Name: ticket, Length: 75332, dtype: int64"
      ]
     },
     "execution_count": 42,
     "metadata": {},
     "output_type": "execute_result"
    }
   ],
   "source": [
    "X_train['ticket'].value_counts()"
   ]
  },
  {
   "cell_type": "code",
   "execution_count": 43,
   "id": "402a70c7-db72-4b52-93fd-a1e3f4505ec6",
   "metadata": {},
   "outputs": [
    {
     "data": {
      "text/plain": [
       "unk            4623\n",
       "A/5             602\n",
       "C.A.            177\n",
       "SC/PARIS        145\n",
       "SOTON/O.Q.       80\n",
       "SC               57\n",
       "W./C.            53\n",
       "A/5.             40\n",
       "W.E.P.           23\n",
       "CA               22\n",
       "Name: ticket, dtype: int64"
      ]
     },
     "execution_count": 43,
     "metadata": {},
     "output_type": "execute_result"
    }
   ],
   "source": [
    "X_train['ticket'].value_counts()[:10]"
   ]
  },
  {
   "cell_type": "code",
   "execution_count": 44,
   "id": "3f0dd71a-ae04-4fc7-8417-abf7e7e248ba",
   "metadata": {},
   "outputs": [
    {
     "data": {
      "text/plain": [
       "STON/O2.     21\n",
       "PP           15\n",
       "CA.          15\n",
       "A/4          12\n",
       "LP           12\n",
       "SOTON/OQ     11\n",
       "9566         10\n",
       "S.P.         10\n",
       "12736         9\n",
       "12198         9\n",
       "Name: ticket, dtype: int64"
      ]
     },
     "execution_count": 44,
     "metadata": {},
     "output_type": "execute_result"
    }
   ],
   "source": [
    "X_train['ticket'].value_counts()[10:20]"
   ]
  },
  {
   "cell_type": "code",
   "execution_count": 94,
   "id": "3fe0ba59-831d-46b9-8860-a1bce0a5aae3",
   "metadata": {},
   "outputs": [],
   "source": [
    "def get_tck_str(tck):\n",
    "    x = tck.split()\n",
    "    try: \n",
    "        a = int(x[0])\n",
    "        return None\n",
    "    except:\n",
    "        return x[0]\n",
    "    \n",
    "def get_tck_num(tck):\n",
    "    x = tck.split()\n",
    "    try:\n",
    "        a = int(x[0])\n",
    "        return a\n",
    "    except:\n",
    "        return None"
   ]
  },
  {
   "cell_type": "code",
   "execution_count": 95,
   "id": "da652643-ac7d-4e83-9c31-a8b23cf06802",
   "metadata": {},
   "outputs": [],
   "source": [
    "s = X_train['ticket'].apply(get_tck_str)"
   ]
  },
  {
   "cell_type": "code",
   "execution_count": 97,
   "id": "19ee168c-9037-4518-ab31-c2e8e78e0e13",
   "metadata": {},
   "outputs": [
    {
     "data": {
      "text/plain": [
       "passengerid\n",
       "99985      None\n",
       "99986    STON/O\n",
       "99987      C.A.\n",
       "99988        PP\n",
       "99989      None\n",
       "99990      A.5.\n",
       "99991        CA\n",
       "99992      None\n",
       "99993      None\n",
       "99994      None\n",
       "99995        PC\n",
       "99996      None\n",
       "99997       unk\n",
       "99998      None\n",
       "99999      None\n",
       "Name: ticket, dtype: object"
      ]
     },
     "execution_count": 97,
     "metadata": {},
     "output_type": "execute_result"
    }
   ],
   "source": [
    "s[-15:]"
   ]
  },
  {
   "cell_type": "code",
   "execution_count": 101,
   "id": "6b8f36e9-3d90-4aa7-97a5-47d8d2f9de00",
   "metadata": {},
   "outputs": [],
   "source": [
    "n =  X_train['ticket'].apply(get_tck_num)"
   ]
  },
  {
   "cell_type": "code",
   "execution_count": 108,
   "id": "6418f4b9-0229-48cf-b80f-6758f2016163",
   "metadata": {},
   "outputs": [
    {
     "data": {
      "text/plain": [
       "count    7.072200e+04\n",
       "mean     3.427423e+05\n",
       "std      8.258046e+05\n",
       "min      3.425000e+03\n",
       "25%      1.694975e+04\n",
       "50%      3.918550e+04\n",
       "75%      4.150690e+05\n",
       "max      4.553574e+06\n",
       "Name: ticket, dtype: float64"
      ]
     },
     "execution_count": 108,
     "metadata": {},
     "output_type": "execute_result"
    }
   ],
   "source": [
    "n.describe()"
   ]
  },
  {
   "cell_type": "code",
   "execution_count": 109,
   "id": "f18d7e1e-2392-4631-a5ea-258c605cb5a4",
   "metadata": {},
   "outputs": [
    {
     "data": {
      "text/plain": [
       "9566.0      10\n",
       "12736.0      9\n",
       "9627.0       9\n",
       "12198.0      9\n",
       "10362.0      8\n",
       "            ..\n",
       "217189.0     1\n",
       "434377.0     1\n",
       "291904.0     1\n",
       "46105.0      1\n",
       "426220.0     1\n",
       "Name: ticket, Length: 52409, dtype: int64"
      ]
     },
     "execution_count": 109,
     "metadata": {},
     "output_type": "execute_result"
    }
   ],
   "source": [
    "n.value_counts()"
   ]
  },
  {
   "cell_type": "code",
   "execution_count": 106,
   "id": "74408de2-4052-44e1-907f-a62a5439e8e5",
   "metadata": {},
   "outputs": [
    {
     "data": {
      "text/plain": [
       "PC            6375\n",
       "unk           4623\n",
       "A.            3750\n",
       "C.A.          1676\n",
       "STON/O        1512\n",
       "A/5            966\n",
       "SC/PARIS       961\n",
       "SOTON/O.Q.     735\n",
       "W./C.          683\n",
       "A/5.           656\n",
       "PP             622\n",
       "F.C.C.         577\n",
       "SC/Paris       530\n",
       "SC/AH          525\n",
       "CA.            492\n",
       "STON/O2.       416\n",
       "A/4            387\n",
       "S.O.C.         305\n",
       "F.C.           296\n",
       "SOTON/O2       290\n",
       "S.C./PARIS     287\n",
       "CA             280\n",
       "SOTON/OQ       257\n",
       "C              220\n",
       "WE/P           175\n",
       "W.E.P.         169\n",
       "SC             164\n",
       "P/PP           149\n",
       "S.O./P.P.      134\n",
       "A/4.           127\n",
       "A./5.          106\n",
       "SCO/W          101\n",
       "A.5.            76\n",
       "AQ/4            73\n",
       "LP              56\n",
       "Fa              54\n",
       "A/S             44\n",
       "S.C./A.4.       40\n",
       "SW/PP           38\n",
       "STON/OQ.        38\n",
       "C.A./SOTON      37\n",
       "S.O.P.          36\n",
       "S.P.            34\n",
       "SO/C            34\n",
       "SC/A.3          33\n",
       "S.W./PP         31\n",
       "SC/A4           31\n",
       "AQ/3.           30\n",
       "W/C             28\n",
       "A4.             19\n",
       "Name: ticket, dtype: int64"
      ]
     },
     "execution_count": 106,
     "metadata": {},
     "output_type": "execute_result"
    }
   ],
   "source": [
    "s.value_counts()"
   ]
  },
  {
   "cell_type": "code",
   "execution_count": 119,
   "id": "0de913ec-d3f4-4b41-bb03-86d9c1aadd1a",
   "metadata": {},
   "outputs": [],
   "source": [
    "clean_X_train = pd.read_parquet('data/clean_X_train.parquet')"
   ]
  },
  {
   "cell_type": "code",
   "execution_count": 120,
   "id": "f87ce25f-5cc7-47ff-b8fd-2180a5b0445a",
   "metadata": {},
   "outputs": [
    {
     "data": {
      "text/plain": [
       "a4.           14409\n",
       "aq/3.         11728\n",
       "lp             9466\n",
       "sco/w          8144\n",
       "so/c           7615\n",
       "s.c./a.4.      7066\n",
       "pc             6375\n",
       "w/c            3803\n",
       "a.             3750\n",
       "w.e.p.         2990\n",
       "ston/oq.       2887\n",
       "c.a./soton     2870\n",
       "sc/a.3         2048\n",
       "a/4.           1987\n",
       "c.a.           1676\n",
       "ston/o         1512\n",
       "sc/paris       1491\n",
       "a/5             966\n",
       "sw/pp           756\n",
       "soton/o.q.      735\n",
       "w./c.           683\n",
       "a/5.            656\n",
       "pp              622\n",
       "f.c.c.          577\n",
       "sc/ah           525\n",
       "ca.             492\n",
       "ston/o2.        428\n",
       "a/4             387\n",
       "s.o.c.          307\n",
       "f.c.            296\n",
       "soton/o2        290\n",
       "s.c./paris      287\n",
       "ca              282\n",
       "soton/oq        263\n",
       "c               224\n",
       "s.p.            206\n",
       "we/p            175\n",
       "sc              166\n",
       "p/pp            164\n",
       "a./5.           152\n",
       "s.o./p.p.       150\n",
       "a.5.             76\n",
       "aq/4             73\n",
       "a/s              64\n",
       "sc/a4            59\n",
       "fa               55\n",
       "s.o.p.           36\n",
       "s.w./pp          31\n",
       "Name: ticket_str, dtype: int64"
      ]
     },
     "execution_count": 120,
     "metadata": {},
     "output_type": "execute_result"
    }
   ],
   "source": [
    "clean_X_train['ticket_str'].value_counts()"
   ]
  },
  {
   "cell_type": "code",
   "execution_count": null,
   "id": "fbf3b978-4f15-467e-b383-de111c1d0b4d",
   "metadata": {},
   "outputs": [],
   "source": []
  },
  {
   "cell_type": "code",
   "execution_count": 87,
   "id": "d3c8e192-2072-48bc-a2a8-04d5a1a52f78",
   "metadata": {},
   "outputs": [],
   "source": [
    "m = X_train['ticket'].apply(lambda x: x.split(' ')).apply(lambda x: x[-1] if len(x) > 0 else '-1')"
   ]
  },
  {
   "cell_type": "code",
   "execution_count": 100,
   "id": "14397289-e451-481b-a06f-de43be1fa0f6",
   "metadata": {},
   "outputs": [
    {
     "data": {
      "text/plain": [
       "1    76716\n",
       "2    23284\n",
       "Name: ticket, dtype: int64"
      ]
     },
     "execution_count": 100,
     "metadata": {},
     "output_type": "execute_result"
    }
   ],
   "source": [
    "X_train['ticket'].apply(lambda x: x.split()).apply(lambda x: len(x)).value_counts()"
   ]
  },
  {
   "cell_type": "code",
   "execution_count": 86,
   "id": "f75b3e18-9036-460d-b925-319dd97e39ae",
   "metadata": {},
   "outputs": [
    {
     "data": {
      "text/plain": [
       "passengerid\n",
       "0    209245\n",
       "1     27323\n",
       "2    457703\n",
       "3     10866\n",
       "4    427635\n",
       "5     13363\n",
       "6       A/5\n",
       "7    434426\n",
       "8    474849\n",
       "9      6981\n",
       "Name: ticket, dtype: object"
      ]
     },
     "execution_count": 86,
     "metadata": {},
     "output_type": "execute_result"
    }
   ],
   "source": [
    "m.iloc[0:10]"
   ]
  },
  {
   "cell_type": "code",
   "execution_count": 65,
   "id": "fc432a3f-3e90-4487-862b-e66b0a2f5596",
   "metadata": {},
   "outputs": [
    {
     "ename": "ValueError",
     "evalue": "invalid literal for int() with base 10: 'A/5'",
     "output_type": "error",
     "traceback": [
      "\u001b[0;31m-------------------------------------------------------------------\u001b[0m",
      "\u001b[0;31mValueError\u001b[0m                        Traceback (most recent call last)",
      "\u001b[0;32m<ipython-input-65-008a2b5abc74>\u001b[0m in \u001b[0;36m<module>\u001b[0;34m\u001b[0m\n\u001b[0;32m----> 1\u001b[0;31m \u001b[0mm\u001b[0m\u001b[0;34m[\u001b[0m\u001b[0;34m(\u001b[0m\u001b[0mm\u001b[0m\u001b[0;34m!=\u001b[0m\u001b[0;34m'unk'\u001b[0m\u001b[0;34m)\u001b[0m\u001b[0;34m]\u001b[0m\u001b[0;34m.\u001b[0m\u001b[0mastype\u001b[0m\u001b[0;34m(\u001b[0m\u001b[0mint\u001b[0m\u001b[0;34m)\u001b[0m\u001b[0;34m\u001b[0m\u001b[0;34m\u001b[0m\u001b[0m\n\u001b[0m",
      "\u001b[0;32m~/opt/miniconda3/lib/python3.8/site-packages/pandas/core/generic.py\u001b[0m in \u001b[0;36mastype\u001b[0;34m(self, dtype, copy, errors)\u001b[0m\n\u001b[1;32m   5696\u001b[0m         \u001b[0;32melse\u001b[0m\u001b[0;34m:\u001b[0m\u001b[0;34m\u001b[0m\u001b[0;34m\u001b[0m\u001b[0m\n\u001b[1;32m   5697\u001b[0m             \u001b[0;31m# else, only a single dtype is given\u001b[0m\u001b[0;34m\u001b[0m\u001b[0;34m\u001b[0m\u001b[0;34m\u001b[0m\u001b[0m\n\u001b[0;32m-> 5698\u001b[0;31m             \u001b[0mnew_data\u001b[0m \u001b[0;34m=\u001b[0m \u001b[0mself\u001b[0m\u001b[0;34m.\u001b[0m\u001b[0m_data\u001b[0m\u001b[0;34m.\u001b[0m\u001b[0mastype\u001b[0m\u001b[0;34m(\u001b[0m\u001b[0mdtype\u001b[0m\u001b[0;34m=\u001b[0m\u001b[0mdtype\u001b[0m\u001b[0;34m,\u001b[0m \u001b[0mcopy\u001b[0m\u001b[0;34m=\u001b[0m\u001b[0mcopy\u001b[0m\u001b[0;34m,\u001b[0m \u001b[0merrors\u001b[0m\u001b[0;34m=\u001b[0m\u001b[0merrors\u001b[0m\u001b[0;34m)\u001b[0m\u001b[0;34m\u001b[0m\u001b[0;34m\u001b[0m\u001b[0m\n\u001b[0m\u001b[1;32m   5699\u001b[0m             \u001b[0;32mreturn\u001b[0m \u001b[0mself\u001b[0m\u001b[0;34m.\u001b[0m\u001b[0m_constructor\u001b[0m\u001b[0;34m(\u001b[0m\u001b[0mnew_data\u001b[0m\u001b[0;34m)\u001b[0m\u001b[0;34m.\u001b[0m\u001b[0m__finalize__\u001b[0m\u001b[0;34m(\u001b[0m\u001b[0mself\u001b[0m\u001b[0;34m)\u001b[0m\u001b[0;34m\u001b[0m\u001b[0;34m\u001b[0m\u001b[0m\n\u001b[1;32m   5700\u001b[0m \u001b[0;34m\u001b[0m\u001b[0m\n",
      "\u001b[0;32m~/opt/miniconda3/lib/python3.8/site-packages/pandas/core/internals/managers.py\u001b[0m in \u001b[0;36mastype\u001b[0;34m(self, dtype, copy, errors)\u001b[0m\n\u001b[1;32m    580\u001b[0m \u001b[0;34m\u001b[0m\u001b[0m\n\u001b[1;32m    581\u001b[0m     \u001b[0;32mdef\u001b[0m \u001b[0mastype\u001b[0m\u001b[0;34m(\u001b[0m\u001b[0mself\u001b[0m\u001b[0;34m,\u001b[0m \u001b[0mdtype\u001b[0m\u001b[0;34m,\u001b[0m \u001b[0mcopy\u001b[0m\u001b[0;34m:\u001b[0m \u001b[0mbool\u001b[0m \u001b[0;34m=\u001b[0m \u001b[0;32mFalse\u001b[0m\u001b[0;34m,\u001b[0m \u001b[0merrors\u001b[0m\u001b[0;34m:\u001b[0m \u001b[0mstr\u001b[0m \u001b[0;34m=\u001b[0m \u001b[0;34m\"raise\"\u001b[0m\u001b[0;34m)\u001b[0m\u001b[0;34m:\u001b[0m\u001b[0;34m\u001b[0m\u001b[0;34m\u001b[0m\u001b[0m\n\u001b[0;32m--> 582\u001b[0;31m         \u001b[0;32mreturn\u001b[0m \u001b[0mself\u001b[0m\u001b[0;34m.\u001b[0m\u001b[0mapply\u001b[0m\u001b[0;34m(\u001b[0m\u001b[0;34m\"astype\"\u001b[0m\u001b[0;34m,\u001b[0m \u001b[0mdtype\u001b[0m\u001b[0;34m=\u001b[0m\u001b[0mdtype\u001b[0m\u001b[0;34m,\u001b[0m \u001b[0mcopy\u001b[0m\u001b[0;34m=\u001b[0m\u001b[0mcopy\u001b[0m\u001b[0;34m,\u001b[0m \u001b[0merrors\u001b[0m\u001b[0;34m=\u001b[0m\u001b[0merrors\u001b[0m\u001b[0;34m)\u001b[0m\u001b[0;34m\u001b[0m\u001b[0;34m\u001b[0m\u001b[0m\n\u001b[0m\u001b[1;32m    583\u001b[0m \u001b[0;34m\u001b[0m\u001b[0m\n\u001b[1;32m    584\u001b[0m     \u001b[0;32mdef\u001b[0m \u001b[0mconvert\u001b[0m\u001b[0;34m(\u001b[0m\u001b[0mself\u001b[0m\u001b[0;34m,\u001b[0m \u001b[0;34m**\u001b[0m\u001b[0mkwargs\u001b[0m\u001b[0;34m)\u001b[0m\u001b[0;34m:\u001b[0m\u001b[0;34m\u001b[0m\u001b[0;34m\u001b[0m\u001b[0m\n",
      "\u001b[0;32m~/opt/miniconda3/lib/python3.8/site-packages/pandas/core/internals/managers.py\u001b[0m in \u001b[0;36mapply\u001b[0;34m(self, f, filter, **kwargs)\u001b[0m\n\u001b[1;32m    440\u001b[0m                 \u001b[0mapplied\u001b[0m \u001b[0;34m=\u001b[0m \u001b[0mb\u001b[0m\u001b[0;34m.\u001b[0m\u001b[0mapply\u001b[0m\u001b[0;34m(\u001b[0m\u001b[0mf\u001b[0m\u001b[0;34m,\u001b[0m \u001b[0;34m**\u001b[0m\u001b[0mkwargs\u001b[0m\u001b[0;34m)\u001b[0m\u001b[0;34m\u001b[0m\u001b[0;34m\u001b[0m\u001b[0m\n\u001b[1;32m    441\u001b[0m             \u001b[0;32melse\u001b[0m\u001b[0;34m:\u001b[0m\u001b[0;34m\u001b[0m\u001b[0;34m\u001b[0m\u001b[0m\n\u001b[0;32m--> 442\u001b[0;31m                 \u001b[0mapplied\u001b[0m \u001b[0;34m=\u001b[0m \u001b[0mgetattr\u001b[0m\u001b[0;34m(\u001b[0m\u001b[0mb\u001b[0m\u001b[0;34m,\u001b[0m \u001b[0mf\u001b[0m\u001b[0;34m)\u001b[0m\u001b[0;34m(\u001b[0m\u001b[0;34m**\u001b[0m\u001b[0mkwargs\u001b[0m\u001b[0;34m)\u001b[0m\u001b[0;34m\u001b[0m\u001b[0;34m\u001b[0m\u001b[0m\n\u001b[0m\u001b[1;32m    443\u001b[0m             \u001b[0mresult_blocks\u001b[0m \u001b[0;34m=\u001b[0m \u001b[0m_extend_blocks\u001b[0m\u001b[0;34m(\u001b[0m\u001b[0mapplied\u001b[0m\u001b[0;34m,\u001b[0m \u001b[0mresult_blocks\u001b[0m\u001b[0;34m)\u001b[0m\u001b[0;34m\u001b[0m\u001b[0;34m\u001b[0m\u001b[0m\n\u001b[1;32m    444\u001b[0m \u001b[0;34m\u001b[0m\u001b[0m\n",
      "\u001b[0;32m~/opt/miniconda3/lib/python3.8/site-packages/pandas/core/internals/blocks.py\u001b[0m in \u001b[0;36mastype\u001b[0;34m(self, dtype, copy, errors)\u001b[0m\n\u001b[1;32m    623\u001b[0m             \u001b[0mvals1d\u001b[0m \u001b[0;34m=\u001b[0m \u001b[0mvalues\u001b[0m\u001b[0;34m.\u001b[0m\u001b[0mravel\u001b[0m\u001b[0;34m(\u001b[0m\u001b[0;34m)\u001b[0m\u001b[0;34m\u001b[0m\u001b[0;34m\u001b[0m\u001b[0m\n\u001b[1;32m    624\u001b[0m             \u001b[0;32mtry\u001b[0m\u001b[0;34m:\u001b[0m\u001b[0;34m\u001b[0m\u001b[0;34m\u001b[0m\u001b[0m\n\u001b[0;32m--> 625\u001b[0;31m                 \u001b[0mvalues\u001b[0m \u001b[0;34m=\u001b[0m \u001b[0mastype_nansafe\u001b[0m\u001b[0;34m(\u001b[0m\u001b[0mvals1d\u001b[0m\u001b[0;34m,\u001b[0m \u001b[0mdtype\u001b[0m\u001b[0;34m,\u001b[0m \u001b[0mcopy\u001b[0m\u001b[0;34m=\u001b[0m\u001b[0;32mTrue\u001b[0m\u001b[0;34m)\u001b[0m\u001b[0;34m\u001b[0m\u001b[0;34m\u001b[0m\u001b[0m\n\u001b[0m\u001b[1;32m    626\u001b[0m             \u001b[0;32mexcept\u001b[0m \u001b[0;34m(\u001b[0m\u001b[0mValueError\u001b[0m\u001b[0;34m,\u001b[0m \u001b[0mTypeError\u001b[0m\u001b[0;34m)\u001b[0m\u001b[0;34m:\u001b[0m\u001b[0;34m\u001b[0m\u001b[0;34m\u001b[0m\u001b[0m\n\u001b[1;32m    627\u001b[0m                 \u001b[0;31m# e.g. astype_nansafe can fail on object-dtype of strings\u001b[0m\u001b[0;34m\u001b[0m\u001b[0;34m\u001b[0m\u001b[0;34m\u001b[0m\u001b[0m\n",
      "\u001b[0;32m~/opt/miniconda3/lib/python3.8/site-packages/pandas/core/dtypes/cast.py\u001b[0m in \u001b[0;36mastype_nansafe\u001b[0;34m(arr, dtype, copy, skipna)\u001b[0m\n\u001b[1;32m    872\u001b[0m         \u001b[0;31m# work around NumPy brokenness, #1987\u001b[0m\u001b[0;34m\u001b[0m\u001b[0;34m\u001b[0m\u001b[0;34m\u001b[0m\u001b[0m\n\u001b[1;32m    873\u001b[0m         \u001b[0;32mif\u001b[0m \u001b[0mnp\u001b[0m\u001b[0;34m.\u001b[0m\u001b[0missubdtype\u001b[0m\u001b[0;34m(\u001b[0m\u001b[0mdtype\u001b[0m\u001b[0;34m.\u001b[0m\u001b[0mtype\u001b[0m\u001b[0;34m,\u001b[0m \u001b[0mnp\u001b[0m\u001b[0;34m.\u001b[0m\u001b[0minteger\u001b[0m\u001b[0;34m)\u001b[0m\u001b[0;34m:\u001b[0m\u001b[0;34m\u001b[0m\u001b[0;34m\u001b[0m\u001b[0m\n\u001b[0;32m--> 874\u001b[0;31m             \u001b[0;32mreturn\u001b[0m \u001b[0mlib\u001b[0m\u001b[0;34m.\u001b[0m\u001b[0mastype_intsafe\u001b[0m\u001b[0;34m(\u001b[0m\u001b[0marr\u001b[0m\u001b[0;34m.\u001b[0m\u001b[0mravel\u001b[0m\u001b[0;34m(\u001b[0m\u001b[0;34m)\u001b[0m\u001b[0;34m,\u001b[0m \u001b[0mdtype\u001b[0m\u001b[0;34m)\u001b[0m\u001b[0;34m.\u001b[0m\u001b[0mreshape\u001b[0m\u001b[0;34m(\u001b[0m\u001b[0marr\u001b[0m\u001b[0;34m.\u001b[0m\u001b[0mshape\u001b[0m\u001b[0;34m)\u001b[0m\u001b[0;34m\u001b[0m\u001b[0;34m\u001b[0m\u001b[0m\n\u001b[0m\u001b[1;32m    875\u001b[0m \u001b[0;34m\u001b[0m\u001b[0m\n\u001b[1;32m    876\u001b[0m         \u001b[0;31m# if we have a datetime/timedelta array of objects\u001b[0m\u001b[0;34m\u001b[0m\u001b[0;34m\u001b[0m\u001b[0;34m\u001b[0m\u001b[0m\n",
      "\u001b[0;32mpandas/_libs/lib.pyx\u001b[0m in \u001b[0;36mpandas._libs.lib.astype_intsafe\u001b[0;34m()\u001b[0m\n",
      "\u001b[0;31mValueError\u001b[0m: invalid literal for int() with base 10: 'A/5'"
     ]
    }
   ],
   "source": [
    "m[(m!='unk')].astype(int)"
   ]
  },
  {
   "cell_type": "code",
   "execution_count": 47,
   "id": "babe7f0f-100b-4b93-9d36-9db63e27a682",
   "metadata": {},
   "outputs": [
    {
     "ename": "AttributeError",
     "evalue": "'PandasArray' object has no attribute '_str_split'",
     "output_type": "error",
     "traceback": [
      "\u001b[0;31m-------------------------------------------------------------------\u001b[0m",
      "\u001b[0;31mAttributeError\u001b[0m                    Traceback (most recent call last)",
      "\u001b[0;32m<ipython-input-47-91e6aff069fe>\u001b[0m in \u001b[0;36m<module>\u001b[0;34m\u001b[0m\n\u001b[0;32m----> 1\u001b[0;31m \u001b[0mX_train\u001b[0m\u001b[0;34m[\u001b[0m\u001b[0;34m'ticket'\u001b[0m\u001b[0;34m]\u001b[0m\u001b[0;34m.\u001b[0m\u001b[0mstr\u001b[0m\u001b[0;34m.\u001b[0m\u001b[0msplit\u001b[0m\u001b[0;34m(\u001b[0m\u001b[0;34m)\u001b[0m\u001b[0;34m\u001b[0m\u001b[0;34m\u001b[0m\u001b[0m\n\u001b[0m",
      "\u001b[0;32m~/opt/miniconda3/lib/python3.8/site-packages/pandas/core/strings/accessor.py\u001b[0m in \u001b[0;36mwrapper\u001b[0;34m(self, *args, **kwargs)\u001b[0m\n\u001b[1;32m     99\u001b[0m                 )\n\u001b[1;32m    100\u001b[0m                 \u001b[0;32mraise\u001b[0m \u001b[0mTypeError\u001b[0m\u001b[0;34m(\u001b[0m\u001b[0mmsg\u001b[0m\u001b[0;34m)\u001b[0m\u001b[0;34m\u001b[0m\u001b[0;34m\u001b[0m\u001b[0m\n\u001b[0;32m--> 101\u001b[0;31m             \u001b[0;32mreturn\u001b[0m \u001b[0mfunc\u001b[0m\u001b[0;34m(\u001b[0m\u001b[0mself\u001b[0m\u001b[0;34m,\u001b[0m \u001b[0;34m*\u001b[0m\u001b[0margs\u001b[0m\u001b[0;34m,\u001b[0m \u001b[0;34m**\u001b[0m\u001b[0mkwargs\u001b[0m\u001b[0;34m)\u001b[0m\u001b[0;34m\u001b[0m\u001b[0;34m\u001b[0m\u001b[0m\n\u001b[0m\u001b[1;32m    102\u001b[0m \u001b[0;34m\u001b[0m\u001b[0m\n\u001b[1;32m    103\u001b[0m         \u001b[0mwrapper\u001b[0m\u001b[0;34m.\u001b[0m\u001b[0m__name__\u001b[0m \u001b[0;34m=\u001b[0m \u001b[0mfunc_name\u001b[0m\u001b[0;34m\u001b[0m\u001b[0;34m\u001b[0m\u001b[0m\n",
      "\u001b[0;32m~/opt/miniconda3/lib/python3.8/site-packages/pandas/core/strings/accessor.py\u001b[0m in \u001b[0;36msplit\u001b[0;34m(self, pat, n, expand)\u001b[0m\n\u001b[1;32m    744\u001b[0m     \u001b[0;34m@\u001b[0m\u001b[0mforbid_nonstring_types\u001b[0m\u001b[0;34m(\u001b[0m\u001b[0;34m[\u001b[0m\u001b[0;34m\"bytes\"\u001b[0m\u001b[0;34m]\u001b[0m\u001b[0;34m)\u001b[0m\u001b[0;34m\u001b[0m\u001b[0;34m\u001b[0m\u001b[0m\n\u001b[1;32m    745\u001b[0m     \u001b[0;32mdef\u001b[0m \u001b[0msplit\u001b[0m\u001b[0;34m(\u001b[0m\u001b[0mself\u001b[0m\u001b[0;34m,\u001b[0m \u001b[0mpat\u001b[0m\u001b[0;34m=\u001b[0m\u001b[0;32mNone\u001b[0m\u001b[0;34m,\u001b[0m \u001b[0mn\u001b[0m\u001b[0;34m=\u001b[0m\u001b[0;34m-\u001b[0m\u001b[0;36m1\u001b[0m\u001b[0;34m,\u001b[0m \u001b[0mexpand\u001b[0m\u001b[0;34m=\u001b[0m\u001b[0;32mFalse\u001b[0m\u001b[0;34m)\u001b[0m\u001b[0;34m:\u001b[0m\u001b[0;34m\u001b[0m\u001b[0;34m\u001b[0m\u001b[0m\n\u001b[0;32m--> 746\u001b[0;31m         \u001b[0mresult\u001b[0m \u001b[0;34m=\u001b[0m \u001b[0mself\u001b[0m\u001b[0;34m.\u001b[0m\u001b[0m_data\u001b[0m\u001b[0;34m.\u001b[0m\u001b[0marray\u001b[0m\u001b[0;34m.\u001b[0m\u001b[0m_str_split\u001b[0m\u001b[0;34m(\u001b[0m\u001b[0mpat\u001b[0m\u001b[0;34m,\u001b[0m \u001b[0mn\u001b[0m\u001b[0;34m,\u001b[0m \u001b[0mexpand\u001b[0m\u001b[0;34m)\u001b[0m\u001b[0;34m\u001b[0m\u001b[0;34m\u001b[0m\u001b[0m\n\u001b[0m\u001b[1;32m    747\u001b[0m         \u001b[0;32mreturn\u001b[0m \u001b[0mself\u001b[0m\u001b[0;34m.\u001b[0m\u001b[0m_wrap_result\u001b[0m\u001b[0;34m(\u001b[0m\u001b[0mresult\u001b[0m\u001b[0;34m,\u001b[0m \u001b[0mreturns_string\u001b[0m\u001b[0;34m=\u001b[0m\u001b[0mexpand\u001b[0m\u001b[0;34m,\u001b[0m \u001b[0mexpand\u001b[0m\u001b[0;34m=\u001b[0m\u001b[0mexpand\u001b[0m\u001b[0;34m)\u001b[0m\u001b[0;34m\u001b[0m\u001b[0;34m\u001b[0m\u001b[0m\n\u001b[1;32m    748\u001b[0m \u001b[0;34m\u001b[0m\u001b[0m\n",
      "\u001b[0;31mAttributeError\u001b[0m: 'PandasArray' object has no attribute '_str_split'"
     ]
    }
   ],
   "source": [
    "X_train['ticket'].str.split()"
   ]
  },
  {
   "cell_type": "markdown",
   "id": "3971a9f5-594f-4f70-9e40-f75530b29257",
   "metadata": {},
   "source": [
    "# Quick and dirty model"
   ]
  },
  {
   "cell_type": "code",
   "execution_count": 20,
   "id": "fe66381a-0ee3-4592-9567-d61b9afaf049",
   "metadata": {},
   "outputs": [],
   "source": [
    "from catboost import CatBoostClassifier"
   ]
  },
  {
   "cell_type": "code",
   "execution_count": 21,
   "id": "c8377d3a-6cb9-4d30-bbab-84041f2594ce",
   "metadata": {},
   "outputs": [
    {
     "data": {
      "text/plain": [
       "pclass        int64\n",
       "name         object\n",
       "sex          object\n",
       "age         float64\n",
       "sibsp         int64\n",
       "parch         int64\n",
       "ticket       object\n",
       "fare        float64\n",
       "cabin        object\n",
       "embarked     object\n",
       "dtype: object"
      ]
     },
     "execution_count": 21,
     "metadata": {},
     "output_type": "execute_result"
    }
   ],
   "source": [
    "X_train.dtypes"
   ]
  },
  {
   "cell_type": "code",
   "execution_count": 22,
   "id": "a9a123a8-ba48-4906-a29b-596b56ef266d",
   "metadata": {},
   "outputs": [],
   "source": [
    "text_features = ['name', 'ticket']\n",
    "cat_features = ['sex', 'embarked', 'cabin']"
   ]
  },
  {
   "cell_type": "code",
   "execution_count": 23,
   "id": "d55b3fae-4e9c-4fc5-962e-673ec7f9b983",
   "metadata": {},
   "outputs": [],
   "source": [
    "from sklearn.model_selection import train_test_split"
   ]
  },
  {
   "cell_type": "code",
   "execution_count": 24,
   "id": "a17b3820-0850-425b-85c4-a01a717a0dbb",
   "metadata": {},
   "outputs": [
    {
     "name": "stderr",
     "output_type": "stream",
     "text": [
      "/Users/kientt15/opt/miniconda3/lib/python3.8/site-packages/pandas/core/indexing.py:965: SettingWithCopyWarning: \n",
      "A value is trying to be set on a copy of a slice from a DataFrame.\n",
      "Try using .loc[row_indexer,col_indexer] = value instead\n",
      "\n",
      "See the caveats in the documentation: https://pandas.pydata.org/pandas-docs/stable/user_guide/indexing.html#returning-a-view-versus-a-copy\n",
      "  self.obj[item] = s\n"
     ]
    }
   ],
   "source": [
    "X_train.loc[:,text_features] = X_train[text_features].fillna('unk')\n",
    "X_train.loc[:,cat_features] = X_train[cat_features].fillna('unk')"
   ]
  },
  {
   "cell_type": "raw",
   "id": "f9e47c1d-f99e-44cc-ab79-ee116a95c097",
   "metadata": {},
   "source": [
    "X_train.info()"
   ]
  },
  {
   "cell_type": "code",
   "execution_count": 26,
   "id": "9d8585f8-a6a8-4516-bb45-d5a040531bf4",
   "metadata": {},
   "outputs": [],
   "source": [
    "X_train_t, X_train_e, y_train_t, y_train_e = train_test_split(X_train, y_train, test_size=0.1)"
   ]
  },
  {
   "cell_type": "code",
   "execution_count": 27,
   "id": "4cba3755-9ebb-45cb-8728-47032a70ad4c",
   "metadata": {},
   "outputs": [],
   "source": [
    "model = CatBoostClassifier(iterations = 300, cat_features=cat_features, text_features=text_features, \n",
    "                           verbose=True, metric_period=25)"
   ]
  },
  {
   "cell_type": "code",
   "execution_count": 28,
   "id": "1d449789-7e3b-45bb-987f-3e18f0af4bd1",
   "metadata": {},
   "outputs": [
    {
     "data": {
      "text/plain": [
       "str"
      ]
     },
     "execution_count": 28,
     "metadata": {},
     "output_type": "execute_result"
    }
   ],
   "source": [
    "type(X_train['ticket'][0])"
   ]
  },
  {
   "cell_type": "code",
   "execution_count": 29,
   "id": "ebdf9668-5cac-483d-a476-f26445e7a197",
   "metadata": {},
   "outputs": [
    {
     "name": "stdout",
     "output_type": "stream",
     "text": [
      "Learning rate set to 0.162577\n",
      "0:\tlearn: 0.6290102\ttest: 0.6321287\tbest: 0.6321287 (0)\ttotal: 223ms\tremaining: 1m 6s\n",
      "25:\tlearn: 0.4788722\ttest: 0.4919962\tbest: 0.4919962 (25)\ttotal: 3.68s\tremaining: 38.8s\n",
      "50:\tlearn: 0.4760694\ttest: 0.4898343\tbest: 0.4898343 (50)\ttotal: 6.6s\tremaining: 32.2s\n",
      "75:\tlearn: 0.4737628\ttest: 0.4884291\tbest: 0.4884291 (75)\ttotal: 9.5s\tremaining: 28s\n",
      "100:\tlearn: 0.4710759\ttest: 0.4875741\tbest: 0.4875741 (100)\ttotal: 12.4s\tremaining: 24.5s\n",
      "125:\tlearn: 0.4689746\ttest: 0.4867548\tbest: 0.4867548 (125)\ttotal: 15.3s\tremaining: 21.2s\n",
      "150:\tlearn: 0.4671848\ttest: 0.4864218\tbest: 0.4864218 (150)\ttotal: 18.3s\tremaining: 18s\n",
      "175:\tlearn: 0.4657749\ttest: 0.4862225\tbest: 0.4862225 (175)\ttotal: 21.1s\tremaining: 14.9s\n",
      "200:\tlearn: 0.4645127\ttest: 0.4863626\tbest: 0.4862225 (175)\ttotal: 24s\tremaining: 11.8s\n",
      "225:\tlearn: 0.4632568\ttest: 0.4863777\tbest: 0.4862225 (175)\ttotal: 26.8s\tremaining: 8.79s\n",
      "250:\tlearn: 0.4620850\ttest: 0.4864824\tbest: 0.4862225 (175)\ttotal: 29.7s\tremaining: 5.8s\n",
      "275:\tlearn: 0.4609687\ttest: 0.4865822\tbest: 0.4862225 (175)\ttotal: 32.5s\tremaining: 2.83s\n",
      "299:\tlearn: 0.4602241\ttest: 0.4866380\tbest: 0.4862225 (175)\ttotal: 35.3s\tremaining: 0us\n",
      "\n",
      "bestTest = 0.4862225342\n",
      "bestIteration = 175\n",
      "\n",
      "Shrink model to first 176 iterations.\n"
     ]
    },
    {
     "data": {
      "text/plain": [
       "<catboost.core.CatBoostClassifier at 0x7f9d2a7f5cd0>"
      ]
     },
     "execution_count": 29,
     "metadata": {},
     "output_type": "execute_result"
    }
   ],
   "source": [
    "model.fit(X_train_t, y_train_t, eval_set=(X_train_e, y_train_e))"
   ]
  },
  {
   "cell_type": "code",
   "execution_count": 30,
   "id": "12c1754c-d2ec-4f8c-ba69-41820d965b12",
   "metadata": {},
   "outputs": [
    {
     "data": {
      "text/plain": [
       "array([0, 1, 0, ..., 0, 0, 0])"
      ]
     },
     "execution_count": 30,
     "metadata": {},
     "output_type": "execute_result"
    }
   ],
   "source": [
    "model.predict(X_train_e)"
   ]
  },
  {
   "cell_type": "code",
   "execution_count": 31,
   "id": "71f2bf96-0538-4f78-94a3-cd5915d58b7c",
   "metadata": {
    "jupyter": {
     "source_hidden": true
    },
    "tags": []
   },
   "outputs": [],
   "source": [
    "def auc_report(model, X, y_true):\n",
    "    classes = model.classes_\n",
    "    y_pred_classes = model.predict_proba(X)\n",
    "    n_classes = len(classes)\n",
    "    \n",
    "    lw = 2\n",
    "    for i in range(len(classes)):\n",
    "        print(f\"\"\"{classes[i]}: {roc_auc_score(y_true=(y_true==classes[i]).astype(int), y_score=y_pred_classes[:,i])}\"\"\")\n",
    "        \n",
    "    # Compute ROC curve and ROC area for each class\n",
    "    fpr = dict()\n",
    "    tpr = dict()\n",
    "    roc_auc = dict()\n",
    "    \n",
    "    for i in range(n_classes):\n",
    "        fpr[i], tpr[i], _ = roc_curve(y_true=(y_true==classes[i]).astype(int), y_score=y_pred_classes[:,i])\n",
    "        roc_auc[i] = auc(fpr[i], tpr[i])\n",
    "    \n",
    "    all_fpr = np.unique(np.concatenate([fpr[i] for i in range(len(classes))]))\n",
    "\n",
    "    # Then interpolate all ROC curves at this points\n",
    "    mean_tpr = np.zeros_like(all_fpr)\n",
    "    for i in range(len(classes)):\n",
    "        mean_tpr += interp(all_fpr, fpr[i], tpr[i])\n",
    "\n",
    "    # Finally average it and compute AUC\n",
    "    mean_tpr /= n_classes\n",
    "\n",
    "    fpr[\"macro\"] = all_fpr\n",
    "    tpr[\"macro\"] = mean_tpr\n",
    "    roc_auc[\"macro\"] = auc(fpr[\"macro\"], tpr[\"macro\"])\n",
    "\n",
    "    # Plot all ROC curves\n",
    "    plt.figure()\n",
    "\n",
    "    plt.plot(fpr[\"macro\"], tpr[\"macro\"],\n",
    "             label='macro-average ROC curve (area = {0:0.2f})'\n",
    "                   ''.format(roc_auc[\"macro\"]),\n",
    "             color='navy', linestyle=':', linewidth=4)\n",
    "\n",
    "    colors = cycle(['aqua', 'darkorange', 'cornflowerblue'])\n",
    "    for i, color in zip(range(n_classes), colors):\n",
    "        plt.plot(fpr[i], tpr[i], color=color, lw=lw,\n",
    "                 label='ROC curve of class {0} (area = {1:0.2f})'\n",
    "                 ''.format(classes[i], roc_auc[i]))\n",
    "\n",
    "    plt.plot([0, 1], [0, 1], 'k--', lw=lw)\n",
    "    plt.xlim([0.0, 1.0])\n",
    "    plt.ylim([0.0, 1.05])\n",
    "    plt.xlabel('False Positive Rate')\n",
    "    plt.ylabel('True Positive Rate')\n",
    "    plt.title('Some extension of Receiver operating characteristic to multi-class')\n",
    "    plt.legend(loc=\"lower right\")\n",
    "    plt.show()\n",
    "    return {\n",
    "        'macro_auc': roc_auc[\"macro\"],\n",
    "        f'auc_{classes[0]}': roc_auc[0],\n",
    "        f'auc_{classes[1]}': roc_auc[1],\n",
    "        f'auc_{classes[2]}': roc_auc[2],\n",
    "    }\n",
    "\n",
    "        "
   ]
  },
  {
   "cell_type": "code",
   "execution_count": 32,
   "id": "2d42c038-2938-45e4-9200-75bed5e2eef4",
   "metadata": {},
   "outputs": [],
   "source": [
    "from sklearn.metrics import classification_report "
   ]
  },
  {
   "cell_type": "code",
   "execution_count": 33,
   "id": "9d3293ce-7706-477f-bcff-e83ed4474589",
   "metadata": {},
   "outputs": [
    {
     "name": "stdout",
     "output_type": "stream",
     "text": [
      "              precision    recall  f1-score   support\n",
      "\n",
      "           0       0.80      0.78      0.79      5623\n",
      "           1       0.73      0.75      0.74      4377\n",
      "\n",
      "    accuracy                           0.77     10000\n",
      "   macro avg       0.76      0.77      0.76     10000\n",
      "weighted avg       0.77      0.77      0.77     10000\n",
      "\n"
     ]
    }
   ],
   "source": [
    "print(classification_report(y_train_e, model.predict(X_train_e)))"
   ]
  },
  {
   "cell_type": "code",
   "execution_count": 34,
   "id": "65d0dbeb-2a16-4e8b-9736-608f5c8ec22f",
   "metadata": {},
   "outputs": [
    {
     "data": {
      "text/html": [
       "<style  type=\"text/css\" >\n",
       "    #T_3a58db00_9b4f_11eb_948f_1e294018a539row0_col1 {\n",
       "            width:  10em;\n",
       "             height:  80%;\n",
       "            background:  linear-gradient(90deg,#d65f5f 100.0%, transparent 100.0%);\n",
       "        }    #T_3a58db00_9b4f_11eb_948f_1e294018a539row1_col1 {\n",
       "            width:  10em;\n",
       "             height:  80%;\n",
       "            background:  linear-gradient(90deg,#d65f5f 29.4%, transparent 29.4%);\n",
       "        }    #T_3a58db00_9b4f_11eb_948f_1e294018a539row2_col1 {\n",
       "            width:  10em;\n",
       "             height:  80%;\n",
       "            background:  linear-gradient(90deg,#d65f5f 27.3%, transparent 27.3%);\n",
       "        }    #T_3a58db00_9b4f_11eb_948f_1e294018a539row3_col1 {\n",
       "            width:  10em;\n",
       "             height:  80%;\n",
       "            background:  linear-gradient(90deg,#d65f5f 20.7%, transparent 20.7%);\n",
       "        }    #T_3a58db00_9b4f_11eb_948f_1e294018a539row4_col1 {\n",
       "            width:  10em;\n",
       "             height:  80%;\n",
       "            background:  linear-gradient(90deg,#d65f5f 20.2%, transparent 20.2%);\n",
       "        }    #T_3a58db00_9b4f_11eb_948f_1e294018a539row5_col1 {\n",
       "            width:  10em;\n",
       "             height:  80%;\n",
       "            background:  linear-gradient(90deg,#d65f5f 6.2%, transparent 6.2%);\n",
       "        }    #T_3a58db00_9b4f_11eb_948f_1e294018a539row6_col1 {\n",
       "            width:  10em;\n",
       "             height:  80%;\n",
       "            background:  linear-gradient(90deg,#d65f5f 5.0%, transparent 5.0%);\n",
       "        }    #T_3a58db00_9b4f_11eb_948f_1e294018a539row7_col1 {\n",
       "            width:  10em;\n",
       "             height:  80%;\n",
       "            background:  linear-gradient(90deg,#d65f5f 4.3%, transparent 4.3%);\n",
       "        }    #T_3a58db00_9b4f_11eb_948f_1e294018a539row8_col1 {\n",
       "            width:  10em;\n",
       "             height:  80%;\n",
       "            background:  linear-gradient(90deg,#d65f5f 1.8%, transparent 1.8%);\n",
       "        }    #T_3a58db00_9b4f_11eb_948f_1e294018a539row9_col1 {\n",
       "            width:  10em;\n",
       "             height:  80%;\n",
       "        }</style><table id=\"T_3a58db00_9b4f_11eb_948f_1e294018a539\" ><thead>    <tr>        <th class=\"blank level0\" ></th>        <th class=\"col_heading level0 col0\" >feature</th>        <th class=\"col_heading level0 col1\" >importance</th>    </tr></thead><tbody>\n",
       "                <tr>\n",
       "                        <th id=\"T_3a58db00_9b4f_11eb_948f_1e294018a539level0_row0\" class=\"row_heading level0 row0\" >2</th>\n",
       "                        <td id=\"T_3a58db00_9b4f_11eb_948f_1e294018a539row0_col0\" class=\"data row0 col0\" >sex</td>\n",
       "                        <td id=\"T_3a58db00_9b4f_11eb_948f_1e294018a539row0_col1\" class=\"data row0 col1\" >41.771182</td>\n",
       "            </tr>\n",
       "            <tr>\n",
       "                        <th id=\"T_3a58db00_9b4f_11eb_948f_1e294018a539level0_row1\" class=\"row_heading level0 row1\" >0</th>\n",
       "                        <td id=\"T_3a58db00_9b4f_11eb_948f_1e294018a539row1_col0\" class=\"data row1 col0\" >pclass</td>\n",
       "                        <td id=\"T_3a58db00_9b4f_11eb_948f_1e294018a539row1_col1\" class=\"data row1 col1\" >13.194588</td>\n",
       "            </tr>\n",
       "            <tr>\n",
       "                        <th id=\"T_3a58db00_9b4f_11eb_948f_1e294018a539level0_row2\" class=\"row_heading level0 row2\" >9</th>\n",
       "                        <td id=\"T_3a58db00_9b4f_11eb_948f_1e294018a539row2_col0\" class=\"data row2 col0\" >embarked</td>\n",
       "                        <td id=\"T_3a58db00_9b4f_11eb_948f_1e294018a539row2_col1\" class=\"data row2 col1\" >12.346914</td>\n",
       "            </tr>\n",
       "            <tr>\n",
       "                        <th id=\"T_3a58db00_9b4f_11eb_948f_1e294018a539level0_row3\" class=\"row_heading level0 row3\" >7</th>\n",
       "                        <td id=\"T_3a58db00_9b4f_11eb_948f_1e294018a539row3_col0\" class=\"data row3 col0\" >fare</td>\n",
       "                        <td id=\"T_3a58db00_9b4f_11eb_948f_1e294018a539row3_col1\" class=\"data row3 col1\" >9.668432</td>\n",
       "            </tr>\n",
       "            <tr>\n",
       "                        <th id=\"T_3a58db00_9b4f_11eb_948f_1e294018a539level0_row4\" class=\"row_heading level0 row4\" >6</th>\n",
       "                        <td id=\"T_3a58db00_9b4f_11eb_948f_1e294018a539row4_col0\" class=\"data row4 col0\" >ticket</td>\n",
       "                        <td id=\"T_3a58db00_9b4f_11eb_948f_1e294018a539row4_col1\" class=\"data row4 col1\" >9.486269</td>\n",
       "            </tr>\n",
       "            <tr>\n",
       "                        <th id=\"T_3a58db00_9b4f_11eb_948f_1e294018a539level0_row5\" class=\"row_heading level0 row5\" >5</th>\n",
       "                        <td id=\"T_3a58db00_9b4f_11eb_948f_1e294018a539row5_col0\" class=\"data row5 col0\" >parch</td>\n",
       "                        <td id=\"T_3a58db00_9b4f_11eb_948f_1e294018a539row5_col1\" class=\"data row5 col1\" >3.821418</td>\n",
       "            </tr>\n",
       "            <tr>\n",
       "                        <th id=\"T_3a58db00_9b4f_11eb_948f_1e294018a539level0_row6\" class=\"row_heading level0 row6\" >4</th>\n",
       "                        <td id=\"T_3a58db00_9b4f_11eb_948f_1e294018a539row6_col0\" class=\"data row6 col0\" >sibsp</td>\n",
       "                        <td id=\"T_3a58db00_9b4f_11eb_948f_1e294018a539row6_col1\" class=\"data row6 col1\" >3.333914</td>\n",
       "            </tr>\n",
       "            <tr>\n",
       "                        <th id=\"T_3a58db00_9b4f_11eb_948f_1e294018a539level0_row7\" class=\"row_heading level0 row7\" >1</th>\n",
       "                        <td id=\"T_3a58db00_9b4f_11eb_948f_1e294018a539row7_col0\" class=\"data row7 col0\" >name</td>\n",
       "                        <td id=\"T_3a58db00_9b4f_11eb_948f_1e294018a539row7_col1\" class=\"data row7 col1\" >3.052698</td>\n",
       "            </tr>\n",
       "            <tr>\n",
       "                        <th id=\"T_3a58db00_9b4f_11eb_948f_1e294018a539level0_row8\" class=\"row_heading level0 row8\" >8</th>\n",
       "                        <td id=\"T_3a58db00_9b4f_11eb_948f_1e294018a539row8_col0\" class=\"data row8 col0\" >cabin</td>\n",
       "                        <td id=\"T_3a58db00_9b4f_11eb_948f_1e294018a539row8_col1\" class=\"data row8 col1\" >2.022073</td>\n",
       "            </tr>\n",
       "            <tr>\n",
       "                        <th id=\"T_3a58db00_9b4f_11eb_948f_1e294018a539level0_row9\" class=\"row_heading level0 row9\" >3</th>\n",
       "                        <td id=\"T_3a58db00_9b4f_11eb_948f_1e294018a539row9_col0\" class=\"data row9 col0\" >age</td>\n",
       "                        <td id=\"T_3a58db00_9b4f_11eb_948f_1e294018a539row9_col1\" class=\"data row9 col1\" >1.302512</td>\n",
       "            </tr>\n",
       "    </tbody></table>"
      ],
      "text/plain": [
       "<pandas.io.formats.style.Styler at 0x7f9d4874df40>"
      ]
     },
     "execution_count": 34,
     "metadata": {},
     "output_type": "execute_result"
    }
   ],
   "source": [
    "fi = pd.DataFrame({\n",
    "    'feature':X_test.columns,\n",
    "    'importance': model.feature_importances_\n",
    "})\n",
    "\n",
    "fi.sort_values(by='importance',ascending=False).iloc[:50].style.bar()"
   ]
  },
  {
   "cell_type": "code",
   "execution_count": null,
   "id": "3628ab7f-a655-4320-9a59-51b84d5c8f25",
   "metadata": {},
   "outputs": [],
   "source": []
  },
  {
   "cell_type": "code",
   "execution_count": null,
   "id": "cd754040-1251-47f3-b0f5-b98ce0885a5a",
   "metadata": {},
   "outputs": [],
   "source": []
  }
 ],
 "metadata": {
  "kernelspec": {
   "display_name": "Python 3",
   "language": "python",
   "name": "python3"
  },
  "language_info": {
   "codemirror_mode": {
    "name": "ipython",
    "version": 3
   },
   "file_extension": ".py",
   "mimetype": "text/x-python",
   "name": "python",
   "nbconvert_exporter": "python",
   "pygments_lexer": "ipython3",
   "version": "3.8.5"
  }
 },
 "nbformat": 4,
 "nbformat_minor": 5
}
